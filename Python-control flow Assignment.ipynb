{
 "cells": [
  {
   "cell_type": "markdown",
   "id": "8365372a",
   "metadata": {},
   "source": [
    "                                                Basic If-Else Statements:"
   ]
  },
  {
   "cell_type": "markdown",
   "id": "f64c2012",
   "metadata": {},
   "source": [
    "1. Write a Python program to check if a given number is positive or negative."
   ]
  },
  {
   "cell_type": "code",
   "execution_count": null,
   "id": "a2c6644f",
   "metadata": {},
   "outputs": [],
   "source": [
    "#Step 1: Get the input from user\n",
    "input_num=int(input(\"Enter any number(positive or negative): \"))"
   ]
  },
  {
   "cell_type": "code",
   "execution_count": null,
   "id": "6d318f85",
   "metadata": {},
   "outputs": [],
   "source": [
    "#Step 2: To find if a number is negative or positive\n",
    "if input_num<0:\n",
    "    print(\"The number is negative\")\n",
    "elif input_num==0:\n",
    "    print(\"The number is zero\")\n",
    "else:\n",
    "    print(\"The number is positive\")"
   ]
  },
  {
   "cell_type": "markdown",
   "id": "43b26169",
   "metadata": {},
   "source": [
    "Q2. Create a program that determines if a person is eligible to vote based on their age."
   ]
  },
  {
   "cell_type": "code",
   "execution_count": null,
   "id": "d17259a1",
   "metadata": {},
   "outputs": [],
   "source": [
    "#Step 2:Get the input age from user\n",
    "input_age=float(input(\"Enter the age of the person: \"))"
   ]
  },
  {
   "cell_type": "code",
   "execution_count": null,
   "id": "17d9b5af",
   "metadata": {},
   "outputs": [],
   "source": [
    "#Step 2: Check if eligible to vote\n",
    "if input_age>=18:\n",
    "    print(\"The person is eligible to vote\")\n",
    "else:\n",
    "    print(\"The person is not eligible to vote\")"
   ]
  },
  {
   "cell_type": "markdown",
   "id": "375a70ec",
   "metadata": {},
   "source": [
    "Q3. Develop a program to find the maximum of two numbers using if-else statements.\n",
    "\n"
   ]
  },
  {
   "cell_type": "code",
   "execution_count": null,
   "id": "4b5f4f75",
   "metadata": {},
   "outputs": [],
   "source": [
    "#Step 1: Get input from user\n",
    "num1 = int(input(\"Enter the first number: \"))\n",
    "num2 = int(input(\"Enter the second number: \"))"
   ]
  },
  {
   "cell_type": "code",
   "execution_count": null,
   "id": "5841d2f4",
   "metadata": {},
   "outputs": [],
   "source": [
    "#Step 2:find the greatest number\n",
    "if(num1 > num2):\n",
    "    print(num1, \"is greater\")\n",
    "elif(num1 < num2):\n",
    "    print(num2, \"is greater\")\n",
    "else:\n",
    "    print(\"Both are equal\")"
   ]
  },
  {
   "cell_type": "markdown",
   "id": "ce6c6a6f",
   "metadata": {},
   "source": [
    "Q4. Write a Python script to classify a given year as a leap year or not."
   ]
  },
  {
   "cell_type": "code",
   "execution_count": null,
   "id": "dac2e992",
   "metadata": {},
   "outputs": [],
   "source": [
    "#Step 1: Get input from user\n",
    "input_year=int(input(\"Enter a year to check if leap year or not:\"))"
   ]
  },
  {
   "cell_type": "code",
   "execution_count": null,
   "id": "736377d1",
   "metadata": {},
   "outputs": [],
   "source": [
    "#Step 2: To check if leap year or not                               # divided by 100 means century year (ending with 00)\n",
    "                                                                    # century year divided by 400 is leap year\n",
    "if (input_year % 400 == 0) and (input_year % 100 == 0):\n",
    "    print(\"{0} is a leap year\".format(input_year))\n",
    "elif (input_year % 4 ==0) and (input_year % 100 != 0):              # not divided by 100 means not a century year                            \n",
    "    print(\"{0} is a leap year\".format(input_year))                  # year divided by 4 is a leap year\n",
    "else:\n",
    "    print(\"{0} is not a leap year\".format(input_year))              # if not divided by both 400 (century year) \n",
    "                                                                    # and 4 (not century year)\n",
    "                                                                    # year is not leap year"
   ]
  },
  {
   "cell_type": "markdown",
   "id": "9097f290",
   "metadata": {},
   "source": [
    "Q5. Create a program that checks whether a character is a vowel or a consonant."
   ]
  },
  {
   "cell_type": "code",
   "execution_count": null,
   "id": "773038cc",
   "metadata": {},
   "outputs": [],
   "source": [
    "#Step 1: Get input from user\n",
    "input_char=input(\"Enter any character in english alphabets: \")"
   ]
  },
  {
   "cell_type": "code",
   "execution_count": null,
   "id": "3f846e21",
   "metadata": {},
   "outputs": [],
   "source": [
    "#Step 2: to check if vowel or consonant\n",
    "vowels=\"aeiouAEIOU\"\n",
    "if input_char in vowels:\n",
    "    print(\"The input character is a vowel.\")\n",
    "else:\n",
    "    print(\"The input character is a consonant\")"
   ]
  },
  {
   "cell_type": "markdown",
   "id": "59870a65",
   "metadata": {},
   "source": [
    "Q6. Implement a program to determine whether a given number is even or odd."
   ]
  },
  {
   "cell_type": "code",
   "execution_count": null,
   "id": "1e12561c",
   "metadata": {},
   "outputs": [],
   "source": [
    "#Step 1: Get input from user\n",
    "input_num=int(input(\"Enter any number: \"))"
   ]
  },
  {
   "cell_type": "code",
   "execution_count": null,
   "id": "8421d085",
   "metadata": {},
   "outputs": [],
   "source": [
    "#Step 2 : To check if input number is odd or even\n",
    "\n",
    "if input_num%2==0:\n",
    "    print(\"The input number is an even number.\")\n",
    "else:\n",
    "    print(\"The input number is a odd number.\")"
   ]
  },
  {
   "cell_type": "markdown",
   "id": "ea8b613a",
   "metadata": {},
   "source": [
    "Q7. Write a Python function to calculate the absolute value of a number without using the `abs()` function."
   ]
  },
  {
   "cell_type": "code",
   "execution_count": null,
   "id": "c683a56a",
   "metadata": {},
   "outputs": [],
   "source": [
    "#Step 1:get input from user\n",
    "input_num=int(input(\"Enter any positive or negative number: \"))"
   ]
  },
  {
   "cell_type": "code",
   "execution_count": null,
   "id": "583096e7",
   "metadata": {},
   "outputs": [],
   "source": [
    "#Step 2: find the absolute value of given number\n",
    "if input_num<0:\n",
    "    abs_value=input_num*-1\n",
    "    print(\"The absolute value of the number is \",abs_value)\n",
    "else:\n",
    "    abs_value=input_num*-1\n",
    "    print(\"The absolute value of the number is \",abs_value)"
   ]
  },
  {
   "cell_type": "markdown",
   "id": "71286b0c",
   "metadata": {},
   "source": [
    "Q8. Develop a program that determines the largest of three given numbers using if-else statements."
   ]
  },
  {
   "cell_type": "code",
   "execution_count": null,
   "id": "a69598e9",
   "metadata": {},
   "outputs": [],
   "source": [
    "num1 = float(input(\"Enter first number: \"))\n",
    "num2 = float(input(\"Enter second number: \"))\n",
    "num3 = float(input(\"Enter third number: \"))\n",
    "\n",
    "if (num1 >= num2) and (num1 >= num3):\n",
    "    largest = num1\n",
    "elif (num2 >= num1) and (num2 >= num3):\n",
    "    largest = num2\n",
    "else:\n",
    "    largest = num3\n",
    "\n",
    "print(\"The largest number is\", largest)"
   ]
  },
  {
   "cell_type": "markdown",
   "id": "65f0ddd1",
   "metadata": {},
   "source": [
    "Q9. Create a program that checks if a given string is a palindrome."
   ]
  },
  {
   "cell_type": "code",
   "execution_count": null,
   "id": "2d5fdfc2",
   "metadata": {},
   "outputs": [],
   "source": [
    "# Step 1: Get the input string\n",
    "input_string=input(\"Enter the string: \")"
   ]
  },
  {
   "cell_type": "code",
   "execution_count": null,
   "id": "fe39f48c",
   "metadata": {},
   "outputs": [],
   "source": [
    "# Step 2: Remove spaces and special characters from the string and convert it to lower case\n",
    "clean_string=''.join(e for e in input_string if e.isalnum()).lower()          #This line removes any non-alphanumeric characters"
   ]
  },
  {
   "cell_type": "code",
   "execution_count": null,
   "id": "3b6c4f52",
   "metadata": {},
   "outputs": [],
   "source": [
    "# step 3: Reverse the string using slicing and indexing\n",
    "reverse_string=clean_string[::-1]                                             #Reverse the string"
   ]
  },
  {
   "cell_type": "code",
   "execution_count": null,
   "id": "98bcbc8f",
   "metadata": {},
   "outputs": [],
   "source": [
    "# Step 4: Check if input string is same as reverse string and display result\n",
    "if clean_string==reverse_string:                                              #Check if input string is same as reverse string\n",
    "    print(\"The string is palindrome\")\n",
    "else:\n",
    "    print(\"The string is not palindrome\")                                    "
   ]
  },
  {
   "cell_type": "markdown",
   "id": "9a13deb2",
   "metadata": {},
   "source": [
    "Q10. Write a Python program to calculate the grade based on a student's score."
   ]
  },
  {
   "cell_type": "code",
   "execution_count": null,
   "id": "ded2f4ce",
   "metadata": {},
   "outputs": [],
   "source": [
    "# input values\n",
    "roll = int(input(\"Enter Roll: \"))\n",
    "name = input(\"Enter Name: \")\n",
    "print(\"Enter marks of 5 subjects: \")\n",
    "marks = []\n",
    "for i in range(5):\n",
    "    marks.append(int(input(\"Subject \" + str(i + 1) + \": \")))\n",
    "\n",
    "# Find total\n",
    "total = 0\n",
    "for x in marks:\n",
    "    total += x\n",
    "\n",
    "# Find percentage\n",
    "per = total / 5\n",
    "\n",
    "# Find Grade\n",
    "if per >= 85:\n",
    "    grade = \"S\"\n",
    "elif per >= 75:\n",
    "    grade = \"A\"\n",
    "elif per >= 65:\n",
    "    grade = \"B\"\n",
    "elif per >= 55:\n",
    "    grade = \"C\"\n",
    "elif per >= 50:\n",
    "    grade = \"D\"\n",
    "else:\n",
    "    grade = \"F\"\n",
    "\n",
    "# Print all details\n",
    "print(\"Roll Number:\", roll)\n",
    "print(\"Name:\", name)\n",
    "print(\"Marks:\")\n",
    "for x in marks:\n",
    "    print(x)\n",
    "print(\"Grade:\", grade)"
   ]
  },
  {
   "cell_type": "markdown",
   "id": "166c839d",
   "metadata": {},
   "source": [
    "                                            Nested If-Else Statements:"
   ]
  },
  {
   "cell_type": "markdown",
   "id": "7a80dfbc",
   "metadata": {},
   "source": [
    "Q11. Write a program to find the largest among three numbers using nested if-else statements."
   ]
  },
  {
   "cell_type": "code",
   "execution_count": null,
   "id": "240cfec3",
   "metadata": {},
   "outputs": [],
   "source": [
    "# input three integer numbers \n",
    "a=int(input(\"Enter the first number: \"))\n",
    "b=int(input(\"Enter the second number: \"))\n",
    "c=int(input(\"Enter the third number: \"))\n",
    "\n",
    "# conditions to find largest \n",
    "if a>b:\n",
    "    if a>c:\n",
    "        g=a\n",
    "    else:\n",
    "        g=c\n",
    "else:\n",
    "    if b>c:\n",
    "        g=b\n",
    "    else:\n",
    "        g=c\n",
    "\n",
    "# print the largest number \n",
    "print(\"The largest number is \",g)"
   ]
  },
  {
   "cell_type": "markdown",
   "id": "695118c8",
   "metadata": {},
   "source": [
    "Q12. Implement a program to determine if a triangle is equilateral, isosceles, or scalene."
   ]
  },
  {
   "cell_type": "code",
   "execution_count": null,
   "id": "9876c3ce",
   "metadata": {},
   "outputs": [],
   "source": [
    "#Step 1 : Get the input from user\n",
    "\n",
    "a = float(input('Enter length of side a: '))\n",
    "b = float(input('Enter length of side b: '))\n",
    "c = float(input('Enter length of side c: '))"
   ]
  },
  {
   "cell_type": "code",
   "execution_count": null,
   "id": "ed3d7372",
   "metadata": {},
   "outputs": [],
   "source": [
    "#Step 2:To check the type of triangle\n",
    "\n",
    "if a+b>=c and b+c>=a and c+a>=b:\n",
    "        if a==b and b==c:\n",
    "            print('Triangle is Equilateral.')\n",
    "        elif a==b or b==c or a==c:\n",
    "            print('Triangle is Isosceles.')\n",
    "        else:\n",
    "            print('Triangle is Scalane') \n",
    "else:\n",
    "    print('Tringle is not possible from given sides.')\n",
    "\n"
   ]
  },
  {
   "cell_type": "markdown",
   "id": "6c30fe5a",
   "metadata": {},
   "source": [
    "Q13. Develop a program that checks if a year is a leap year and also if it is a century year."
   ]
  },
  {
   "cell_type": "code",
   "execution_count": null,
   "id": "b56fd746",
   "metadata": {},
   "outputs": [],
   "source": [
    "#Step 1: Get input from user\n",
    "input_year=int(input(\"Enter a year to check if leap year or not:\"))"
   ]
  },
  {
   "cell_type": "code",
   "execution_count": null,
   "id": "7f424061",
   "metadata": {},
   "outputs": [],
   "source": [
    "#Step 2: To check if leap year or not                               # divided by 100 means century year (ending with 00)\n",
    "                                                                    # century year divided by 400 is leap year\n",
    "if (input_year % 400 == 0) and (input_year % 100 == 0):\n",
    "    print(\"{0} is a leap year\".format(input_year))\n",
    "    print(\"{0} is also a century year\".format(input_year))\n",
    "elif (input_year % 4 ==0) and (input_year % 100 != 0):              # not divided by 100 means not a century year                            \n",
    "    print(\"{0} is a leap year\".format(input_year))                  # year divided by 4 is a leap year\n",
    "    print(\"{0} is not a century year\".format(input_year))\n",
    "else:\n",
    "    print(\"{0} is not a leap year\".format(input_year))              # if not divided by both 400 (century year) \n",
    "                                                                    # and 4 (not century year)\n",
    "                                                                    # year is not leap year"
   ]
  },
  {
   "cell_type": "markdown",
   "id": "447e5da1",
   "metadata": {},
   "source": [
    "Q14. Write a Python script to determine if a number is positive, negative, or zero."
   ]
  },
  {
   "cell_type": "code",
   "execution_count": null,
   "id": "2fcc5a7f",
   "metadata": {},
   "outputs": [],
   "source": [
    "#Step 1: get the input from user\n",
    "num = float(input(\"Enter a number: \"))\n",
    "\n",
    "#Step 2: to find number is positive,negative or zero\n",
    "if num >= 0:\n",
    "    if num == 0:\n",
    "        print(\"Zero\")\n",
    "    else:\n",
    "        print(\"Positive number\")\n",
    "else:\n",
    "    print(\"Negative number\")"
   ]
  },
  {
   "cell_type": "markdown",
   "id": "62e5e2fa",
   "metadata": {},
   "source": [
    "Q15. Create a program to check if a person is a teenager (between 13 and 19 years old)."
   ]
  },
  {
   "cell_type": "code",
   "execution_count": null,
   "id": "00e95457",
   "metadata": {},
   "outputs": [],
   "source": [
    "#Step 1: get the input from user\n",
    "age = int(input('Please enter a persons age:'))"
   ]
  },
  {
   "cell_type": "code",
   "execution_count": null,
   "id": "05668c40",
   "metadata": {},
   "outputs": [],
   "source": [
    "if age >= 13 and age < 20: \n",
    "    print('The person is a teenager.')\n",
    "else: \n",
    "    print ('The person is not a teenager.')"
   ]
  },
  {
   "cell_type": "markdown",
   "id": "56d22480",
   "metadata": {},
   "source": [
    "Q16. Develop a program that determines the type of angle based on its measure (acute, obtuse, or right)."
   ]
  },
  {
   "cell_type": "code",
   "execution_count": null,
   "id": "9072f6c3",
   "metadata": {},
   "outputs": [],
   "source": [
    "def angle_type(angle_measure):\n",
    "    if angle_measure < 90:\n",
    "        return \"Acute Angle\"\n",
    "    elif angle_measure == 90:\n",
    "        return \"Right Angle\"\n",
    "    elif angle_measure > 90 and angle_measure < 180:\n",
    "        return \"Obtuse Angle\"\n",
    "    elif angle_measure == 180:\n",
    "        return \"Straight Angle\"\n",
    "    else:\n",
    "        return \"Invalid Angle\"\n",
    "\n",
    "# Input angle measure from the user\n",
    "angle_measure = float(input(\"Enter the angle measure in degrees: \"))\n",
    "\n",
    "# Determine and print the angle type\n",
    "result = angle_type(angle_measure)\n",
    "print(f\"The angle with measure {angle_measure} degrees is a {result}.\")"
   ]
  },
  {
   "cell_type": "markdown",
   "id": "73e9b944",
   "metadata": {},
   "source": [
    "Q17. Write a Python program to calculate the roots of a quadratic equation."
   ]
  },
  {
   "cell_type": "code",
   "execution_count": null,
   "id": "c4f97292",
   "metadata": {},
   "outputs": [],
   "source": [
    "print(\"Equation: ax^2 + bx + c \")\n",
    "a=int(input(\"Enter a: \"))\n",
    "b=int(input(\"Enter b: \"))\n",
    "c=int(input(\"Enter c: \"))\n",
    "d=b**2-4*a*c\n",
    "d1=d**0.5\n",
    "if(d<0):\n",
    "    print(\"The roots are imaginary. \")\n",
    "else:\n",
    "    r1=(-b+d1)/2*a\n",
    "    r2=(-b-d1)/2*a\n",
    "    print(\"The first root: \",round(r1,2))\n",
    "    print(\"The second root: \",round(r2,2))"
   ]
  },
  {
   "cell_type": "markdown",
   "id": "1bcbec6d",
   "metadata": {},
   "source": [
    "Q18. Implement a program to determine the day of the week based on a user-provided number (1 for Monday, 2\n",
    "for Tuesday, etc.). "
   ]
  },
  {
   "cell_type": "code",
   "execution_count": null,
   "id": "f3b3a347",
   "metadata": {},
   "outputs": [],
   "source": [
    "weekday = int(input(\"Enter weekday number (1-7) : \"))\n",
    "\n",
    "if weekday == 1 :\n",
    "    print(\"\\nMonday\");\n",
    "\n",
    "elif weekday == 2 :\n",
    "    print(\"\\nTuesday\")\n",
    "\n",
    "elif(weekday == 3) :\n",
    "    print(\"\\nWednesday\")\n",
    "\n",
    "elif(weekday == 4) :\n",
    "    print(\"\\nThursday\")\n",
    "\n",
    "elif(weekday == 5) :\n",
    "    print(\"\\nFriday\")\n",
    "\n",
    "elif(weekday == 6) :\n",
    "    print(\"\\nSaturday\")\n",
    "\n",
    "elif (weekday == 7) :\n",
    "    print(\"\\nSunday\")\n",
    "\n",
    "else :\n",
    "    print(\"\\nPlease enter any weekday number (1-7)\")"
   ]
  },
  {
   "cell_type": "markdown",
   "id": "ef309d68",
   "metadata": {},
   "source": [
    "Q19. Create a program that determines if a year is a leap year and also if it is evenly divisible by 400."
   ]
  },
  {
   "cell_type": "code",
   "execution_count": null,
   "id": "1ad609bf",
   "metadata": {},
   "outputs": [],
   "source": [
    "#Step 1: Get input from user\n",
    "input_year=int(input(\"Enter a year to check if leap year and divisible by 400:\"))"
   ]
  },
  {
   "cell_type": "code",
   "execution_count": null,
   "id": "a8ffb71e",
   "metadata": {},
   "outputs": [],
   "source": [
    "#Step 2: To check if leap year or not                               # divided by 100 means century year (ending with 00)\n",
    "                                                                    # century year divided by 400 is leap year\n",
    "if (input_year % 400 == 0) and (input_year % 100 == 0):\n",
    "    print(\"{0} is a leap year\".format(input_year))\n",
    "    print(\"{0} is also a century year(divisible by 400)\".format(input_year))\n",
    "elif (input_year % 4 ==0) and (input_year % 100 != 0):              # not divided by 100 means not a century year                            \n",
    "    print(\"{0} is a leap year\".format(input_year))                  # year divided by 4 is a leap year\n",
    "    print(\"{0} is not a century year\".format(input_year))\n",
    "else:\n",
    "    print(\"{0} is not a leap year\".format(input_year))              # if not divided by both 400 (century year) \n",
    "                                                                    # and 4 (not century year)\n",
    "                                                                    # year is not leap year"
   ]
  },
  {
   "cell_type": "markdown",
   "id": "54a5cb93",
   "metadata": {},
   "source": [
    "Q20.Develop a program that checks if a given number is prime or not using nested if-else statements."
   ]
  },
  {
   "cell_type": "code",
   "execution_count": null,
   "id": "7c5ce48f",
   "metadata": {},
   "outputs": [],
   "source": [
    "#Step 1: get the input from user\n",
    "\n",
    "n = int(input(\"Enter any number: \"))\n",
    "\n",
    "# Check if the number is greater than 1\n",
    "\n",
    "if n > 1:\n",
    "    for i in range(2, int(n/2)+1):\n",
    "        if (n % i) == 0:\n",
    "            print(n, \"is not a prime number\")\n",
    "            break\n",
    "    else:\n",
    "        print(n, \"is a prime number\")\n",
    "else:                                                               # If the number is less than 1, its also not a prime number.\n",
    "    print(n, \"is not a prime number\")"
   ]
  },
  {
   "cell_type": "markdown",
   "id": "672a3603",
   "metadata": {},
   "source": [
    "                                                        Elif Statements:"
   ]
  },
  {
   "cell_type": "markdown",
   "id": "8bcb3108",
   "metadata": {},
   "source": [
    "Q21. Write a Python program to assign grades based on different ranges of scores using elif statements."
   ]
  },
  {
   "cell_type": "code",
   "execution_count": null,
   "id": "8feb302f",
   "metadata": {},
   "outputs": [],
   "source": [
    "#Step1 : Get the input from the user\n",
    "\n",
    "roll = int(input(\"Enter Roll: \"))\n",
    "name = input(\"Enter Name: \")\n",
    "print(\"Enter marks of 5 subjects: \")\n",
    "marks = []\n",
    "for i in range(5):\n",
    "    marks.append(int(input(\"Subject \" + str(i + 1) + \": \")))\n",
    "\n",
    "# Find total\n",
    "total = 0\n",
    "for x in marks:\n",
    "    total += x\n",
    "\n",
    "# Find percentage\n",
    "per = total / 5\n",
    "\n",
    "# Find Grade\n",
    "if per >= 85:\n",
    "    grade = \"S\"\n",
    "elif per >= 75:\n",
    "    grade = \"A\"\n",
    "elif per >= 65:\n",
    "    grade = \"B\"\n",
    "elif per >= 55:\n",
    "    grade = \"C\"\n",
    "elif per >= 50:\n",
    "    grade = \"D\"\n",
    "else:\n",
    "    grade = \"F\"\n",
    "\n",
    "# Print all details\n",
    "print(\"Roll Number:\", roll)\n",
    "print(\"Name:\", name)\n",
    "print(\"Marks:\")\n",
    "for x in marks:\n",
    "    print(x)\n",
    "print(\"Grade:\", grade)"
   ]
  },
  {
   "cell_type": "markdown",
   "id": "f9b4e4be",
   "metadata": {},
   "source": [
    "Q22. Implement a program to determine the type of a triangle based on its angles."
   ]
  },
  {
   "cell_type": "code",
   "execution_count": null,
   "id": "6e262223",
   "metadata": {},
   "outputs": [],
   "source": [
    "def angle_type(angle_measure):\n",
    "    if angle_measure < 90:\n",
    "        return \"Acute Angle\"\n",
    "    elif angle_measure == 90:\n",
    "        return \"Right Angle\"\n",
    "    elif angle_measure > 90 and angle_measure < 180:\n",
    "        return \"Obtuse Angle\"\n",
    "    elif angle_measure == 180:\n",
    "        return \"Straight Angle\"\n",
    "    else:\n",
    "        return \"Invalid Angle\"\n",
    "\n",
    "# Input angle measure from the user\n",
    "angle_measure = float(input(\"Enter the angle measure in degrees: \"))\n",
    "\n",
    "# Determine and print the angle type\n",
    "result = angle_type(angle_measure)\n",
    "print(f\"The angle with measure {angle_measure} degrees is a {result}.\")"
   ]
  },
  {
   "cell_type": "markdown",
   "id": "9dd33c01",
   "metadata": {},
   "source": [
    "Q23. Develop a program to categorize a given person's BMI into underweight, normal, overweight, or obese using\n",
    "elif statements."
   ]
  },
  {
   "cell_type": "code",
   "execution_count": null,
   "id": "d81d0d8c",
   "metadata": {},
   "outputs": [],
   "source": [
    "#Step 1: Get the BMI from the user\n",
    "height=float(input(\"Enter the height of the person in cm: \"))\n",
    "weight=float(input(\"Enter the weight of the person in kg: \"))"
   ]
  },
  {
   "cell_type": "code",
   "execution_count": null,
   "id": "c81499e4",
   "metadata": {},
   "outputs": [],
   "source": [
    "#Step 2: To find the BMI\n",
    "\n",
    "bmi=weight/(height/100)**2\n",
    "print(\"The BMI of the person is \",bmi)\n",
    "\n",
    "if (bmi < 18.5):\n",
    "    print(\"underweight\")\n",
    "elif ( bmi >= 18.5 and bmi < 24.9):\n",
    "    print(\"Healthy\")\n",
    "elif ( bmi >= 24.9 and bmi < 30):\n",
    "    print(\"overweight\")\n",
    "elif ( bmi >=30):\n",
    "    print(\"Suffering from Obesity\")\n"
   ]
  },
  {
   "cell_type": "markdown",
   "id": "6c864d55",
   "metadata": {},
   "source": [
    "Q24.Create a program that determines whether a given number is positive, negative, or zero using elif\n",
    "statements."
   ]
  },
  {
   "cell_type": "code",
   "execution_count": null,
   "id": "3010976a",
   "metadata": {},
   "outputs": [],
   "source": [
    "#Step 1: Get the input from user\n",
    "input_num=int(input(\"Enter any number(positive or negative): \"))"
   ]
  },
  {
   "cell_type": "code",
   "execution_count": null,
   "id": "0d027ed8",
   "metadata": {},
   "outputs": [],
   "source": [
    "#Step 2: To find if a number is negative or positive\n",
    "if input_num<0:\n",
    "    print(\"The number is negative\")\n",
    "elif input_num==0:\n",
    "    print(\"The number is zero\")\n",
    "else:\n",
    "    print(\"The number is positive\")"
   ]
  },
  {
   "cell_type": "markdown",
   "id": "1bff6f72",
   "metadata": {},
   "source": [
    "Q25. Write a Python script to determine the type of a character (uppercase, lowercase, or special) using elif\n",
    "statements."
   ]
  },
  {
   "cell_type": "code",
   "execution_count": null,
   "id": "58522dfc",
   "metadata": {},
   "outputs": [],
   "source": [
    "#Step 1: Get the input from the user\n",
    "ch=input(\"Please enter a character: \")\n",
    "\n",
    "#Step 2: To find if uppercase,lowercase or special character\n",
    "special=\"~!@#$%^&*_+-=/><':;,.?\"\n",
    "if(ch>='A' and ch<='Z'):\n",
    "    print(ch,\" is an uppercase letter\")\n",
    "elif (ch>='a' and ch<='z'):\n",
    "    print(ch,\" is a lowercase letter\")\n",
    "elif(ch in special):\n",
    "    print(ch,\" is a special character\")\n",
    "else:\n",
    "    print(ch,\" is a number\")"
   ]
  },
  {
   "cell_type": "markdown",
   "id": "23da3d96",
   "metadata": {},
   "source": [
    "Q26. Implement a program to calculate the discounted price based on different purchase amounts using elif\n",
    "statements."
   ]
  },
  {
   "cell_type": "code",
   "execution_count": null,
   "id": "5c7d9e28",
   "metadata": {},
   "outputs": [],
   "source": [
    "# input sale amount\n",
    "amt = int(input(\"Enter Sale Amount: \"))\n",
    "\n",
    "# checking conditions and calculating discount\n",
    "if(amt>0):\n",
    "    if amt<=5000:\n",
    "       disc = amt*0.05\n",
    "    elif amt<=15000:\n",
    "        disc=amt*0.12\n",
    "    elif amt<=25000:\n",
    "        disc=0.2 * amt\n",
    "    else:\n",
    "         disc=0.3 * amt\n",
    "\n",
    "    print(\"Discount : \",disc)\n",
    "    print(\"Net Pay  : \",amt-disc)\n",
    "else:\n",
    "    print(\"Invalid Amount\")"
   ]
  },
  {
   "cell_type": "markdown",
   "id": "ce7079f6",
   "metadata": {},
   "source": [
    "Q27. Develop a program to calculate the electricity bill based on different consumption slabs using elif\n",
    "statements."
   ]
  },
  {
   "cell_type": "code",
   "execution_count": null,
   "id": "a0683aa4",
   "metadata": {},
   "outputs": [],
   "source": [
    "\"\"\"if units<=100 – 25.00\n",
    "if 100< units and units<=200 – 50.00\n",
    "if 200 < units and units<=300 – 75.00\n",
    "if 300<units and units<=350 – 100.00\n",
    "if units below 350 – No additional charges\"\"\"\n",
    "\n",
    "#Step 1:Get the input from user\n",
    "units=int(input(\"Please enter the number of units consumed in a month: \"))\n",
    "\n",
    "#Step 2:To calculate electricity bill\n",
    "if(units<=100):\n",
    "    payAmount=units*1.5\n",
    "    fixedcharge=25.00\n",
    "elif(units<=200):\n",
    "    payAmount=(100*1.5)+(units-100)*2.5\n",
    "    fixedcharge=50.00\n",
    "elif(units<=300):\n",
    "    payAmount=(100*1.5)+(200-100)*2.5+(units-200)*4\n",
    "    fixedcharge=75.00\n",
    "elif(units<=350):\n",
    "    payAmount=(100*1.5)+(200-100)*2.5+(300-200)*4+(units-300)*5\n",
    "    fixedcharge=100.00\n",
    "else:\n",
    "    payAmount=0\n",
    "    fixedcharge=1500.00\n",
    "    \n",
    "Total=payAmount+fixedcharge;\n",
    "print(\"\\nElecticity bill=%.2f\" %Total)\n"
   ]
  },
  {
   "cell_type": "markdown",
   "id": "9018e185",
   "metadata": {},
   "source": [
    "Q28. Create a program to determine the type of quadrilateral based on its angles and sides using elif\n",
    "statements."
   ]
  },
  {
   "cell_type": "code",
   "execution_count": null,
   "id": "0416919f",
   "metadata": {},
   "outputs": [],
   "source": [
    "# Input the angles and sides of the quadrilateral\n",
    "angle1 = float(input(\"Enter the first angle: \"))\n",
    "angle2 = float(input(\"Enter the second angle: \"))\n",
    "angle3 = float(input(\"Enter the third angle: \"))\n",
    "angle4 = float(input(\"Enter the fourth angle: \"))\n",
    "\n",
    "side1 = float(input(\"Enter the length of the first side: \"))\n",
    "side2 = float(input(\"Enter the length of the second side: \"))\n",
    "side3 = float(input(\"Enter the length of the third side: \"))\n",
    "side4 = float(input(\"Enter the length of the fourth side: \"))\n",
    "\n",
    "# Check if it's a quadrilateral based on the angles\n",
    "if angle1 + angle2 + angle3 + angle4 == 360:\n",
    "    # Check the type of quadrilateral based on angles and sides\n",
    "    if angle1 == angle2 == angle3 == angle4:\n",
    "        if side1 == side2 == side3 == side4:\n",
    "            print(\"It's a square.\")\n",
    "        elif side1 == side3 and side2 == side4:\n",
    "            print(\"It's a rectangle.\")\n",
    "        else:\n",
    "            print(\"It's a quadrilateral, but not a square or rectangle.\")\n",
    "    elif side1 == side2 == side3 == side4:\n",
    "        print(\"It's a parallelogram.\")\n",
    "    elif (angle1 == angle3 and angle2 == angle4) or (angle1 == angle2 and angle3 == angle4):\n",
    "        print(\"It's a kite.\")\n",
    "    else:\n",
    "        print(\"It's a general quadrilateral.\")\n",
    "else:\n",
    "    print(\"It's not a quadrilateral.\")"
   ]
  },
  {
   "cell_type": "markdown",
   "id": "de494e05",
   "metadata": {},
   "source": [
    "Q29. Write a Python script to determine the season based on a user-provided month using elif statements."
   ]
  },
  {
   "cell_type": "code",
   "execution_count": null,
   "id": "a5eecb1d",
   "metadata": {},
   "outputs": [],
   "source": [
    "user_input = input(\"Enter a month (e.g., January, February, March, etc.): \")\n",
    "\n",
    "# Convert the input to lowercase to make it case-insensitive\n",
    "month = user_input.lower()\n",
    "\n",
    "# Determine the season based on the month\n",
    "if month in [\"december\", \"january\", \"february\"]:\n",
    "    season = \"winter\"\n",
    "elif month in [\"march\", \"april\", \"may\"]:\n",
    "    season = \"summer\"\n",
    "elif month in [\"june\", \"july\", \"august\"]:\n",
    "    season = \"rainy season\"\n",
    "elif month in [\"september\", \"october\", \"november\"]:\n",
    "    season = \"spring\"\n",
    "else:\n",
    "    season = \"not a valid month\"\n",
    "\n",
    "# Display the result\n",
    "if season != \"not a valid month\":\n",
    "    print(f\"The season in {month.capitalize()} is {season}.\")\n",
    "else:\n",
    "    print(f\"Sorry, '{user_input}' is not a valid month.\")"
   ]
  },
  {
   "cell_type": "markdown",
   "id": "e41a8211",
   "metadata": {},
   "source": [
    "Q30. Implement a program to determine the type of a year (leap or common) and month (30 or 31 days) using\n",
    "elif statements."
   ]
  },
  {
   "cell_type": "code",
   "execution_count": null,
   "id": "0b1d2b3d",
   "metadata": {},
   "outputs": [],
   "source": [
    "def is_leap_year(year):\n",
    "    if (year % 4 == 0 and year % 100 != 0) or (year % 400 == 0):\n",
    "        return True\n",
    "    else:\n",
    "        return False\n",
    "\n",
    "def days_in_month(year, month):\n",
    "    if month in [4, 6, 9, 11]:\n",
    "        return 30\n",
    "    elif month == 2:\n",
    "        if is_leap_year(year):\n",
    "            return 29\n",
    "        else:\n",
    "            return 28\n",
    "    else:\n",
    "        return 31\n",
    "\n",
    "def main():\n",
    "    year = int(input(\"Enter a year: \"))\n",
    "    month = int(input(\"Enter a month (1-12): \"))\n",
    "\n",
    "    if is_leap_year(year):\n",
    "        year_type = \"leap year\"\n",
    "    else:\n",
    "        year_type = \"common year\"\n",
    "\n",
    "    days = days_in_month(year, month)\n",
    "\n",
    "    print(f\"{year} is a {year_type}. The month of {month} has {days} days.\")\n",
    "\n",
    "if __name__ == \"__main__\":\n",
    "    main()"
   ]
  },
  {
   "cell_type": "markdown",
   "id": "15cf05e6",
   "metadata": {},
   "source": [
    "                                               Basic Level:"
   ]
  },
  {
   "cell_type": "code",
   "execution_count": null,
   "id": "a735103d",
   "metadata": {},
   "outputs": [],
   "source": [
    "Q1.   Write a Python program that checks if a given number is positive, negative, or zero."
   ]
  },
  {
   "cell_type": "code",
   "execution_count": null,
   "id": "f297dfe5",
   "metadata": {},
   "outputs": [],
   "source": [
    "#Step 1: Get the input from user\n",
    "input_num=int(input(\"Enter any number(positive or negative): \"))"
   ]
  },
  {
   "cell_type": "code",
   "execution_count": null,
   "id": "6baccf09",
   "metadata": {},
   "outputs": [],
   "source": [
    "#Step 2: To find if a number is negative or positive\n",
    "if input_num<0:\n",
    "    print(\"The number is negative\")\n",
    "elif input_num==0:\n",
    "    print(\"The number is zero\")\n",
    "else:\n",
    "    print(\"The number is positive\")"
   ]
  },
  {
   "cell_type": "markdown",
   "id": "e38a2a28",
   "metadata": {},
   "source": [
    "Q.2. Create a program to determine if a person is eligible to vote based on their age."
   ]
  },
  {
   "cell_type": "code",
   "execution_count": null,
   "id": "fe695f38",
   "metadata": {},
   "outputs": [],
   "source": [
    "#Step 1:Get the input age from user\n",
    "input_age=float(input(\"Enter the age of the person: \"))"
   ]
  },
  {
   "cell_type": "code",
   "execution_count": null,
   "id": "f09aa136",
   "metadata": {},
   "outputs": [],
   "source": [
    "#Step 2: Check if eligible to vote\n",
    "if input_age>=18:\n",
    "    print(\"The person is eligible to vote\")\n",
    "else:\n",
    "    print(\"The person is not eligible to vote\")"
   ]
  },
  {
   "cell_type": "markdown",
   "id": "36de8fdc",
   "metadata": {},
   "source": [
    "Q3. Write a program to find the maximum of two given numbers using conditional statements."
   ]
  },
  {
   "cell_type": "code",
   "execution_count": null,
   "id": "3fdab7cd",
   "metadata": {},
   "outputs": [],
   "source": [
    "#Step 1: Get input from user\n",
    "num1 = int(input(\"Enter the first number: \"))\n",
    "num2 = int(input(\"Enter the second number: \"))"
   ]
  },
  {
   "cell_type": "code",
   "execution_count": null,
   "id": "03fcefd2",
   "metadata": {},
   "outputs": [],
   "source": [
    "#Step 2:find the greatest number\n",
    "if(num1 > num2):\n",
    "    print(num1, \"is greater\")\n",
    "elif(num1 < num2):\n",
    "    print(num2, \"is greater\")\n",
    "else:\n",
    "    print(\"Both are equal\")"
   ]
  },
  {
   "cell_type": "markdown",
   "id": "6431a560",
   "metadata": {},
   "source": [
    "Q4. Develop a program that calculates the grade of a student based on their exam score."
   ]
  },
  {
   "cell_type": "code",
   "execution_count": null,
   "id": "086c1dd9",
   "metadata": {},
   "outputs": [],
   "source": [
    "sub1=int(input(\"Enter marks of the first subject: \"))\n",
    "sub2=int(input(\"Enter marks of the second subject: \"))\n",
    "sub3=int(input(\"Enter marks of the third subject: \"))\n",
    "sub4=int(input(\"Enter marks of the fourth subject: \"))\n",
    "sub5=int(input(\"Enter marks of the fifth subject: \"))\n",
    "avg=(sub1+sub2+sub3+sub4+sub4)/5\n",
    "if(avg>=90):\n",
    "    print(\"Grade: A\")\n",
    "elif(avg>=80&avg<90):\n",
    "    print(\"Grade: B\")\n",
    "elif(avg>=70&avg<80):\n",
    "    print(\"Grade: C\")\n",
    "elif(avg>=60&avg<70):\n",
    "    print(\"Grade: D\")\n",
    "else:\n",
    "    print(\"Grade: F\")"
   ]
  },
  {
   "cell_type": "markdown",
   "id": "9583e299",
   "metadata": {},
   "source": [
    "Q5.Create a program that checks if a year is a leap year or not."
   ]
  },
  {
   "cell_type": "code",
   "execution_count": null,
   "id": "62c4a8f1",
   "metadata": {},
   "outputs": [],
   "source": [
    "#Step 1: Get input from user\n",
    "input_year=int(input(\"Enter a year to check if leap year or not:\"))"
   ]
  },
  {
   "cell_type": "code",
   "execution_count": null,
   "id": "3bc632db",
   "metadata": {},
   "outputs": [],
   "source": [
    "#Step 2: To check if leap year or not                               # divided by 100 means century year (ending with 00)\n",
    "                                                                    # century year divided by 400 is leap year\n",
    "if (input_year % 400 == 0) and (input_year % 100 == 0):\n",
    "    print(\"{0} is a leap year\".format(input_year))\n",
    "elif (input_year % 4 ==0) and (input_year % 100 != 0):              # not divided by 100 means not a century year                            \n",
    "    print(\"{0} is a leap year\".format(input_year))                  # year divided by 4 is a leap year\n",
    "else:\n",
    "    print(\"{0} is not a leap year\".format(input_year))              # if not divided by both 400 (century year) \n",
    "                                                                    # and 4 (not century year)\n",
    "                                                                    # year is not leap year"
   ]
  },
  {
   "cell_type": "markdown",
   "id": "69d071fe",
   "metadata": {},
   "source": [
    "Q6. Write a program to classify a triangle based on its sides' lengths."
   ]
  },
  {
   "cell_type": "code",
   "execution_count": null,
   "id": "f9fb718b",
   "metadata": {},
   "outputs": [],
   "source": [
    "#Step 1 : Get the input from user\n",
    "\n",
    "a = float(input('Enter length of side a: '))\n",
    "b = float(input('Enter length of side b: '))\n",
    "c = float(input('Enter length of side c: '))"
   ]
  },
  {
   "cell_type": "code",
   "execution_count": null,
   "id": "0aacf1a4",
   "metadata": {},
   "outputs": [],
   "source": [
    "#Step 2:To check the type of triangle\n",
    "\n",
    "if a+b>=c and b+c>=a and c+a>=b:\n",
    "        if a==b and b==c:\n",
    "            print('Triangle is Equilateral.')\n",
    "        elif a==b or b==c or a==c:\n",
    "            print('Triangle is Isosceles.')\n",
    "        else:\n",
    "            print('Triangle is Scalane') \n",
    "else:\n",
    "    print('Tringle is not possible from given sides.')\n"
   ]
  },
  {
   "cell_type": "markdown",
   "id": "25855218",
   "metadata": {},
   "source": [
    "Q7. Build a program that determines the largest of three given numbers."
   ]
  },
  {
   "cell_type": "code",
   "execution_count": null,
   "id": "89e325d1",
   "metadata": {},
   "outputs": [],
   "source": [
    "num1 = float(input(\"Enter first number: \"))\n",
    "num2 = float(input(\"Enter second number: \"))\n",
    "num3 = float(input(\"Enter third number: \"))\n",
    "\n",
    "if (num1 >= num2) and (num1 >= num3):\n",
    "    largest = num1\n",
    "elif (num2 >= num1) and (num2 >= num3):\n",
    "    largest = num2\n",
    "else:\n",
    "    largest = num3\n",
    "\n",
    "print(\"The largest number is\", largest)"
   ]
  },
  {
   "cell_type": "markdown",
   "id": "64c7c08a",
   "metadata": {},
   "source": [
    "Q8. Develop a program that checks whether a character is a vowel or a consonant."
   ]
  },
  {
   "cell_type": "code",
   "execution_count": null,
   "id": "7d747ac3",
   "metadata": {},
   "outputs": [],
   "source": [
    "#Step 1: Get input from user\n",
    "input_char=input(\"Enter any character in english alphabets: \")"
   ]
  },
  {
   "cell_type": "code",
   "execution_count": null,
   "id": "7ebac55f",
   "metadata": {},
   "outputs": [],
   "source": [
    "#Step 2: to check if vowel or consonant\n",
    "vowels=\"aeiouAEIOU\"\n",
    "if input_char in vowels:\n",
    "    print(\"The input character is a vowel.\")\n",
    "else:\n",
    "    print(\"The input character is a consonant\")"
   ]
  },
  {
   "cell_type": "markdown",
   "id": "b5b78cf0",
   "metadata": {},
   "source": [
    "Q9. Create a program to calculate the total cost of a shopping cart based on discounts."
   ]
  },
  {
   "cell_type": "code",
   "execution_count": null,
   "id": "7162f777",
   "metadata": {},
   "outputs": [],
   "source": [
    "# input sale amount\n",
    "amt = int(input(\"Enter Sale Amount: \"))\n",
    "\n",
    "# checking conditions and calculating discount\n",
    "if(amt>0):\n",
    "    if amt<=5000:\n",
    "       disc = amt*0.05\n",
    "    elif amt<=15000:\n",
    "        disc=amt*0.12\n",
    "    elif amt<=25000:\n",
    "        disc=0.2 * amt\n",
    "    else:\n",
    "         disc=0.3 * amt\n",
    "\n",
    "    print(\"Discount : \",disc)\n",
    "    print(\"Net Pay  : \",amt-disc)\n",
    "else:\n",
    "    print(\"Invalid Amount\")"
   ]
  },
  {
   "cell_type": "markdown",
   "id": "9bb6be95",
   "metadata": {},
   "source": [
    "Q10. Write a program that checks if a given number is even or odd."
   ]
  },
  {
   "cell_type": "code",
   "execution_count": null,
   "id": "fbee0cad",
   "metadata": {},
   "outputs": [],
   "source": [
    "#Step 1: Get input from user\n",
    "input_num=int(input(\"Enter any number: \"))"
   ]
  },
  {
   "cell_type": "code",
   "execution_count": null,
   "id": "ee923754",
   "metadata": {},
   "outputs": [],
   "source": [
    "#Step 2 : To check if input number is odd or even\n",
    "\n",
    "if input_num%2==0:\n",
    "    print(\"The input number is an even number.\")\n",
    "else:\n",
    "    print(\"The input number is a odd number.\")"
   ]
  },
  {
   "cell_type": "markdown",
   "id": "d4c5c17b",
   "metadata": {},
   "source": [
    "                                                       Intermediate Level:"
   ]
  },
  {
   "cell_type": "markdown",
   "id": "c59bb7c0",
   "metadata": {},
   "source": [
    "Q11. Write a program that calculates the roots of a quadratic equation ."
   ]
  },
  {
   "cell_type": "code",
   "execution_count": null,
   "id": "11463122",
   "metadata": {},
   "outputs": [],
   "source": [
    "print(\"Equation: ax^2 + bx + c \")\n",
    "a=int(input(\"Enter a: \"))\n",
    "b=int(input(\"Enter b: \"))\n",
    "c=int(input(\"Enter c: \"))\n",
    "d=b**2-4*a*c\n",
    "d1=d**0.5\n",
    "if(d<0):\n",
    "    print(\"The roots are imaginary. \")\n",
    "else:\n",
    "    r1=(-b+d1)/2*a\n",
    "    r2=(-b-d1)/2*a\n",
    "    print(\"The first root: \",round(r1,2))\n",
    "    print(\"The second root: \",round(r2,2))"
   ]
  },
  {
   "cell_type": "markdown",
   "id": "7e71c4e1",
   "metadata": {},
   "source": [
    "Q12. Create a program that determines the day of the week based on the day number (1-7)."
   ]
  },
  {
   "cell_type": "code",
   "execution_count": null,
   "id": "fdf93bfa",
   "metadata": {},
   "outputs": [],
   "source": [
    "weekday = int(input(\"Enter weekday number (1-7) : \"))\n",
    "\n",
    "if weekday == 1 :\n",
    "    print(\"\\nMonday\");\n",
    "\n",
    "elif weekday == 2 :\n",
    "    print(\"\\nTuesday\")\n",
    "\n",
    "elif(weekday == 3) :\n",
    "    print(\"\\nWednesday\")\n",
    "\n",
    "elif(weekday == 4) :\n",
    "    print(\"\\nThursday\")\n",
    "\n",
    "elif(weekday == 5) :\n",
    "    print(\"\\nFriday\")\n",
    "\n",
    "elif(weekday == 6) :\n",
    "    print(\"\\nSaturday\")\n",
    "\n",
    "elif (weekday == 7) :\n",
    "    print(\"\\nSunday\")\n",
    "\n",
    "else :\n",
    "    print(\"\\nPlease enter any weekday number (1-7)\")"
   ]
  },
  {
   "cell_type": "markdown",
   "id": "2f829ef6",
   "metadata": {},
   "source": [
    "Q13. Develop a program that calculates the factorial of a given number using recursion."
   ]
  },
  {
   "cell_type": "code",
   "execution_count": null,
   "id": "258b97c6",
   "metadata": {},
   "outputs": [],
   "source": [
    "num=int(input(\"Enter any number: \"))\n",
    "def recur_factorial(n):\n",
    "    if n == 1:\n",
    "        return n\n",
    "    else:\n",
    "        return n*recur_factorial(n-1)\n",
    "if num < 0:\n",
    "    print(\"Sorry, factorial does not exist for negative numbers\")\n",
    "elif num == 0:\n",
    "    print(\"The factorial of 0 is 1\")\n",
    "else:\n",
    "    print(\"The factorial of\", num, \"is\", recur_factorial(num))"
   ]
  },
  {
   "cell_type": "markdown",
   "id": "380e11f9",
   "metadata": {},
   "source": [
    "14. Write a program to find the largest among three numbers without using the `max()` function."
   ]
  },
  {
   "cell_type": "code",
   "execution_count": null,
   "id": "c892465f",
   "metadata": {},
   "outputs": [],
   "source": [
    "num1 = float(input(\"Enter first number: \"))\n",
    "num2 = float(input(\"Enter second number: \"))\n",
    "num3 = float(input(\"Enter third number: \"))\n",
    "\n",
    "if (num1 >= num2) and (num1 >= num3):\n",
    "    largest = num1\n",
    "elif (num2 >= num1) and (num2 >= num3):\n",
    "    largest = num2\n",
    "else:\n",
    "    largest = num3\n",
    "\n",
    "print(\"The largest number is\", largest)"
   ]
  },
  {
   "cell_type": "markdown",
   "id": "bc1804ae",
   "metadata": {},
   "source": [
    "Q15. Create a program that simulates a basic ATM transaction menu."
   ]
  },
  {
   "cell_type": "code",
   "execution_count": null,
   "id": "ac1f70b4",
   "metadata": {},
   "outputs": [],
   "source": [
    "print(\"Welcome to Bank\")\n",
    "p=int(input(\"Enter your 4 digit pin number: \"))\n",
    "m = 25000\n",
    "if(p == 1234):\n",
    "    print(\"1-Withdraw\")\n",
    "    print(\"2-Balance Enquiry\")\n",
    "    print(\"3-Fast Cash\")\n",
    "    c = int(input(\"Please choose transactions: \"))\n",
    "    if (c == 1):\n",
    "        w=int(input(\"Enter withdraw amount: \"))\n",
    "        if (w < m and w%100 == 0):\n",
    "            print(\"Please take your amount:\", w)\n",
    "        else:\n",
    "            print(\"Invalid cash\")\n",
    "\n",
    "    elif(c==2):\n",
    "        print(\"Your available amount : \",m)\n",
    "\n",
    "    elif (c == 3):\n",
    "        print(\"1->5,000\")\n",
    "        print(\"2->10,000\")\n",
    "        print(\"3->15,000\")\n",
    "        print(\"4->20,000\")\n",
    "        f = int(input(\"Enter fast cash option: \"))\n",
    "        if (f == 1 and 5000 < m):\n",
    "            print(\"please take cash 5000\")\n",
    "        elif (f == 2 and 10000 < m):\n",
    "            print(\"please take cash 10000\")\n",
    "        elif (f == 3 and 15000 < m):\n",
    "            print(\"please take cash 15000\")\n",
    "        elif (f == 4 and 20000 < m):\n",
    "            print(\"please take cash 20000\")\n",
    "        else:\n",
    "            print(\"Invalid fast cash option\")\n",
    "    else:\n",
    "        print(\"Wrong choice\")\n",
    "else:\n",
    "    print(\"Wrong pin number\")"
   ]
  },
  {
   "cell_type": "markdown",
   "id": "83496706",
   "metadata": {},
   "source": [
    "Q16. Build a program that checks if a given string is a palindrome or not."
   ]
  },
  {
   "cell_type": "code",
   "execution_count": null,
   "id": "7a62d7fa",
   "metadata": {},
   "outputs": [],
   "source": [
    "# Step 1: Get the input string\n",
    "input_string=input(\"Enter the string: \")"
   ]
  },
  {
   "cell_type": "code",
   "execution_count": null,
   "id": "06953423",
   "metadata": {},
   "outputs": [],
   "source": [
    "# Step 2: Remove spaces and special characters from the string and convert it to lower case\n",
    "clean_string=''.join(e for e in input_string if e.isalnum()).lower()          #This line removes any non-alphanumeric characters"
   ]
  },
  {
   "cell_type": "code",
   "execution_count": null,
   "id": "35912a19",
   "metadata": {},
   "outputs": [],
   "source": [
    "# step 3: Reverse the string using slicing and indexing\n",
    "reverse_string=clean_string[::-1]                                             #Reverse the string"
   ]
  },
  {
   "cell_type": "code",
   "execution_count": null,
   "id": "4a2b267c",
   "metadata": {},
   "outputs": [],
   "source": [
    "# Step 4: Check if input string is same as reverse string and display result\n",
    "if clean_string==reverse_string:                                              #Check if input string is same as reverse string\n",
    "    print(\"The string is palindrome\")\n",
    "else:\n",
    "    print(\"The string is not palindrome\") "
   ]
  },
  {
   "cell_type": "markdown",
   "id": "218baed6",
   "metadata": {},
   "source": [
    "Q17. Write a program that calculates the average of a list of numbers, excluding the smallest and largest values."
   ]
  },
  {
   "cell_type": "code",
   "execution_count": null,
   "id": "36745cfd",
   "metadata": {},
   "outputs": [],
   "source": [
    "#Step 1: get the input from user\n",
    "input_list=input(\"Enter the integer numbers: \").split()"
   ]
  },
  {
   "cell_type": "code",
   "execution_count": null,
   "id": "b23dfc3a",
   "metadata": {},
   "outputs": [],
   "source": [
    "max_value=max(input_list)\n",
    "min_value=min(input_list)\n",
    "l=len(input_list)\n",
    "sum_list=0\n",
    "avg_list=0\n",
    "\n",
    "for i in input_list:\n",
    "    sum_list=sum_list+int(i)\n",
    "new_sum=sum_list-(int(max_value)+int(min_value))\n",
    "\n",
    "avg_list=new_sum/(l-2)  \n",
    "\n",
    "print(\"The maximum value in list is: \",max_value)\n",
    "print(\"The minimum value in list is: \",min_value)\n",
    "print(\"The average value excluding max and min value is: \",avg_list)"
   ]
  },
  {
   "cell_type": "markdown",
   "id": "44cb7ac2",
   "metadata": {},
   "source": [
    "Q18. Develop a program that converts a given temperature from Celsius to Fahrenheit."
   ]
  },
  {
   "cell_type": "code",
   "execution_count": null,
   "id": "d798bed5",
   "metadata": {},
   "outputs": [],
   "source": [
    "#Step 1: Get the input from user\n",
    "celsius = float(input(\"Enter temperature in Celsius: \"))"
   ]
  },
  {
   "cell_type": "code",
   "execution_count": null,
   "id": "a728f3f1",
   "metadata": {},
   "outputs": [],
   "source": [
    "#Step 2: Function to convert Celsius to Fahrenheit\n",
    "def celsius_to_fahrenheit(celsius):\n",
    "    fahrenheit = (celsius * 9/5) + 32\n",
    "    return fahrenheit\n",
    "fahrenheit = celsius_to_fahrenheit(celsius)\n",
    "\n",
    "print(f\"{celsius} Celsius is equal to {fahrenheit} Fahrenheit\")"
   ]
  },
  {
   "cell_type": "markdown",
   "id": "b6416cc0",
   "metadata": {},
   "source": [
    "Q19. Create a program that simulates a basic calculator for addition, subtraction, multiplication, and division."
   ]
  },
  {
   "cell_type": "code",
   "execution_count": null,
   "id": "38bdd5e8",
   "metadata": {},
   "outputs": [],
   "source": [
    "# This function adds two numbers\n",
    "def add(x, y):\n",
    "    return x + y\n",
    "\n",
    "# This function subtracts two numbers\n",
    "def subtract(x, y):\n",
    "    return x - y\n",
    "\n",
    "# This function multiplies two numbers\n",
    "def multiply(x, y):\n",
    "    return x * y\n",
    "\n",
    "# This function divides two numbers\n",
    "def divide(x, y):\n",
    "    return x / y\n",
    "\n",
    "\n",
    "print(\"Select operation.\")\n",
    "print(\"1.Add\")\n",
    "print(\"2.Subtract\")\n",
    "print(\"3.Multiply\")\n",
    "print(\"4.Divide\")\n",
    "\n",
    "while True:\n",
    "    # take input from the user\n",
    "    choice = input(\"Enter choice(1/2/3/4): \")\n",
    "\n",
    "    # check if choice is one of the four options\n",
    "    if choice in ('1', '2', '3', '4'):\n",
    "        try:\n",
    "            num1 = float(input(\"Enter first number: \"))\n",
    "            num2 = float(input(\"Enter second number: \"))\n",
    "        except ValueError:\n",
    "            print(\"Invalid input. Please enter a number.\")\n",
    "            continue\n",
    "\n",
    "        if choice == '1':\n",
    "            print(num1, \"+\", num2, \"=\", add(num1, num2))\n",
    "\n",
    "        elif choice == '2':\n",
    "            print(num1, \"-\", num2, \"=\", subtract(num1, num2))\n",
    "\n",
    "        elif choice == '3':\n",
    "            print(num1, \"*\", num2, \"=\", multiply(num1, num2))\n",
    "\n",
    "        elif choice == '4':\n",
    "            print(num1, \"/\", num2, \"=\", divide(num1, num2))\n",
    "        \n",
    "        # check if user wants another calculation\n",
    "        # break the while loop if answer is no\n",
    "        next_calculation = input(\"Let's do next calculation? (yes/no): \")\n",
    "        if next_calculation == \"no\":\n",
    "            break\n",
    "    else:\n",
    "        print(\"Invalid Input\")\n"
   ]
  },
  {
   "cell_type": "markdown",
   "id": "91b70da4",
   "metadata": {},
   "source": [
    "Q20. Write a program that determines the roots of a cubic equation using the Cardano formula."
   ]
  },
  {
   "cell_type": "code",
   "execution_count": null,
   "id": "b4abc0ea",
   "metadata": {},
   "outputs": [],
   "source": [
    "import math\n",
    "\n",
    "def solve_cubic(a, b, c, d):\n",
    "    if a == 0:\n",
    "        raise ValueError(\"The coefficient 'a' cannot be zero for a cubic equation.\")\n",
    "\n",
    "    # Calculate the discriminant and intermediate values\n",
    "    p = (3 * a * c - b ** 2) / (3 * a ** 2)\n",
    "    q = (2 * b ** 3 - 9 * a * b * c + 27 * a ** 2 * d) / (27 * a ** 3)\n",
    "    discriminant = q ** 2 / 4 + p ** 3 / 27\n",
    "\n",
    "    if discriminant > 0:\n",
    "        # Three distinct real roots\n",
    "        r = -(q / 2) + math.sqrt(discriminant)\n",
    "        s = -(q / 2) - math.sqrt(discriminant)\n",
    "        r_cubic_root = math.copysign(1, r) * abs(r) ** (1/3)\n",
    "        s_cubic_root = math.copysign(1, s) * abs(s) ** (1/3)\n",
    "        root1 = -b / (3 * a) - r_cubic_root - s_cubic_root\n",
    "        return [root1]\n",
    "\n",
    "    elif discriminant == 0:\n",
    "        # Three real roots, two of which are equal\n",
    "        r_cubic_root = math.copysign(1, r) * abs(r) ** (1/3)\n",
    "        s_cubic_root = math.copysign(1, s) * abs(s) ** (1/3)\n",
    "        root1 = -b / (3 * a) - r_cubic_root - s_cubic_root\n",
    "        root2 = -b / (3 * a) + (r_cubic_root + s_cubic_root) / 2\n",
    "        return [root1, root2]\n",
    "\n",
    "    else:\n",
    "        # One real root and two complex roots\n",
    "        r_cubic_root = math.copysign(1, r) * abs(r) ** (1/3)\n",
    "        s_cubic_root = math.copysign(1, s) * abs(s) ** (1/3)\n",
    "        root1 = -b / (3 * a) + (r_cubic_root + s_cubic_root) / 2\n",
    "        real_part = -(r_cubic_root + s_cubic_root) / 2\n",
    "        imaginary_part = (r_cubic_root - s_cubic_root) * math.sqrt(3) / 2\n",
    "        root2 = complex(root1, 0)\n",
    "        root3 = complex(real_part, imaginary_part)\n",
    "        return [root1, root2, root3]\n",
    "\n",
    "# Example usage\n",
    "a = 1  # Coefficient of x^3\n",
    "b = 0  # Coefficient of x^2\n",
    "c = -6  # Coefficient of x\n",
    "d = 12  # Constant term\n",
    "\n",
    "roots = solve_cubic(a, b, c, d)\n",
    "print(\"Roots:\", roots)"
   ]
  },
  {
   "cell_type": "markdown",
   "id": "d9abbd25",
   "metadata": {},
   "source": [
    "                                                     Advanced Level:"
   ]
  },
  {
   "cell_type": "markdown",
   "id": "11558731",
   "metadata": {},
   "source": [
    "Q21. Create a program that calculates the income tax based on the user's income and tax brackets."
   ]
  },
  {
   "cell_type": "code",
   "execution_count": null,
   "id": "8b2abcd5",
   "metadata": {},
   "outputs": [],
   "source": [
    "income = int(input(\"Please enter your taxable income : \"))"
   ]
  },
  {
   "cell_type": "code",
   "execution_count": null,
   "id": "9ba00031",
   "metadata": {},
   "outputs": [],
   "source": [
    "if income <= 250000:                                     #2 Lakh 50 thousand\n",
    "    tax = 0\n",
    "elif income <= 500000:                                   #5 Lakh\n",
    "    tax = (income - 250000) * 0.05\n",
    "elif income <= 750000:                                   #7 lakh 50 thousand\n",
    "    tax = (income - 500000) * 0.10 + 12500 \n",
    "elif income <= 1000000: #10 Lakh\n",
    "    tax = (income - 750000) * 0.15 + 37500 \n",
    "elif income <= 1250000:                                  #12 lakh 50 thousand\n",
    "    tax = (income - 1000000) * 0.20 + 75000 \n",
    "elif income <= 1500000: #15 lakh\n",
    "    tax = (income - 1250000) * 0.25 + 125000 \n",
    "else:\n",
    "    tax = (income - 1500000) * 0.30 + 187500\n",
    "print(\"you owe\", tax, \"Rupees in tax!\")"
   ]
  },
  {
   "cell_type": "markdown",
   "id": "9e9680d3",
   "metadata": {},
   "source": [
    "Q22. Write a program that simulates a rock-paper-scissors game against the computer."
   ]
  },
  {
   "cell_type": "code",
   "execution_count": null,
   "id": "a79e2dfb",
   "metadata": {},
   "outputs": [],
   "source": [
    "# import random module\n",
    "import random\n",
    "# print multiline instruction\n",
    "# performstring concatenation of string\n",
    "print('Winning rules of the game ROCK PAPER SCISSORS are :\\n'\n",
    "      + \"Rock vs Paper -> Paper wins \\n\"\n",
    "      + \"Rock vs Scissors -> Rock wins \\n\"\n",
    "      + \"Paper vs Scissors -> Scissor wins \\n\")\n",
    " \n",
    "while True:\n",
    "     \n",
    "    print(\"Enter your choice \\n 1 - Rock \\n 2 - Paper \\n 3 - Scissors \\n\")\n",
    "     \n",
    "    # take the input from user\n",
    "     \n",
    "    choice=int(input(\"Enter your choice :\"))\n",
    "     \n",
    "     # OR is the short-circuit operator\n",
    "    # if any one of the condition is true\n",
    "    # then it return True value\n",
    "     \n",
    "    # looping until user enter invalid input\n",
    "    while choice > 3 or choice <1:\n",
    "      choice=int(input('Enter a valid choice please ☺'))\n",
    "         \n",
    "        # initialize value of choice_name variable\n",
    "    # corresponding to the choice value\n",
    "    if choice == 1:\n",
    "        choice_name= 'Rock'\n",
    "    elif choice == 2:\n",
    "        choice_name= 'Paper'\n",
    "    else:\n",
    "        choice_name= 'Scissors'\n",
    "         \n",
    "        # print user choice\n",
    "    print('User choice is \\n',choice_name)\n",
    "    print('Now its Computers Turn....')\n",
    "     \n",
    "    # Computer chooses randomly any number\n",
    "    # among 1 , 2 and 3. Using randint method\n",
    "    # of random module\n",
    "    comp_choice = random.randint(1,3)\n",
    "     \n",
    "    # looping until comp_choice value\n",
    "    # is equal to the choice value\n",
    "    while comp_choice == choice:\n",
    "        comp_choice = random.randint(1,3)\n",
    "         \n",
    "     # initialize value of comp_choice_name\n",
    "    # variable corresponding to the choice value\n",
    "    if comp_choice == 1:\n",
    "        comp_choice_name = 'rocK'\n",
    "    elif comp_choice == 2:\n",
    "        comp_choice_name = 'papeR'\n",
    "    else:\n",
    "        comp_choice_name = 'scissoR'\n",
    "    print(\"Computer choice is \\n\", comp_choice_name)\n",
    "    print(choice_name,'Vs',comp_choice_name)\n",
    "    # we need to check of a draw\n",
    "    if choice == comp_choice:\n",
    "        print('Its a Draw',end=\"\")\n",
    "        result=\"DRAW\"\n",
    "    # condition for winning     \n",
    "    if (choice==1 and comp_choice==2):\n",
    "        print('paper wins =>',end=\"\")\n",
    "        result='papeR'\n",
    "    elif (choice==2 and comp_choice==1):\n",
    "        print('paper wins =>',end=\"\")\n",
    "        result='Paper'\n",
    "         \n",
    "       \n",
    "    if (choice==1 and comp_choice==3):\n",
    "        print('Rock wins =>\\n',end= \"\")\n",
    "        result='Rock'\n",
    "    elif (choice==3 and comp_choice==1):\n",
    "        print('Rock wins =>\\n',end= \"\")\n",
    "        result='rocK'\n",
    "         \n",
    "    if (choice==2 and comp_choice==3):\n",
    "        print('Scissors wins =>',end=\"\")\n",
    "        result='scissoR'\n",
    "    elif (choice==3 and comp_choice==2):\n",
    "        print('Scissors wins =>',end=\"\")\n",
    "        result='Rock'\n",
    "     # Printing either user or computer wins or draw\n",
    "    if result == 'DRAW':\n",
    "        print(\"<== Its a tie ==>\")\n",
    "    if result == choice_name:\n",
    "        print(\"<== User wins ==>\")\n",
    "    else:\n",
    "        print(\"<== Computer wins ==>\")\n",
    "    print(\"Do you want to play again? (Y/N)\")\n",
    "    # if user input n or N then condition is True\n",
    "    ans = input().lower\n",
    "    if ans =='n':\n",
    "        break\n",
    "# after coming out of the while loop\n",
    "# we print thanks for playing\n",
    "print(\"thanks for playing\")  \n"
   ]
  },
  {
   "cell_type": "markdown",
   "id": "35d48686",
   "metadata": {},
   "source": [
    "Q23. Develop a program that generates a random password based on user preferences (length, complexity)."
   ]
  },
  {
   "cell_type": "code",
   "execution_count": null,
   "id": "e5accbcc",
   "metadata": {},
   "outputs": [],
   "source": [
    "import string\n",
    "import random\n",
    "\n",
    "length=int(input(\"Enter password length: \"))\n",
    "\n",
    "print(\"\"\"Choose character set for password:\n",
    "                       1.Digits\n",
    "                       2.Letters\n",
    "                       3.Special characters\n",
    "                       4.Exit\"\"\")\n",
    "\n",
    "characterlist=\"\"\n",
    "\n",
    "while True:\n",
    "    choice=int(input(\"Pick a number\"))\n",
    "    \n",
    "    if (choice==1):\n",
    "        characterlist+=string.ascii_letters\n",
    "    elif(choice==2):\n",
    "        characterlist+=string.digits\n",
    "    elif(choice==3):\n",
    "        characterlist+=string.punctuation\n",
    "    elif(choice==4):\n",
    "        break\n",
    "    else:\n",
    "        print(\"Please pick a valid option!\")\n",
    "        \n",
    "password=[]\n",
    "\n",
    "for i in range(length):\n",
    "    randomchar=random.choice(characterlist)\n",
    "    \n",
    "    password.append(randomchar)\n",
    "    \n",
    "print(\"The random password is\" + \"\".join(password))"
   ]
  },
  {
   "cell_type": "markdown",
   "id": "e40a0a7e",
   "metadata": {},
   "source": [
    "Q24.Create a program that implements a simple text-based adventure game with branching scenarios."
   ]
  },
  {
   "cell_type": "code",
   "execution_count": null,
   "id": "b51cd1e3",
   "metadata": {},
   "outputs": [],
   "source": [
    "print(\"\"\"WELCOME TO THE ADVENTURE GAME!\n",
    "    Let's start the action! ☆-🎬-☆\n",
    "     \n",
    "    Lily wakes up in her bedroom in the middle of the night. She heard a loud BAN outside the house.\n",
    "    Now she has two choices she can either stay in the room or check what the sound might be about.\n",
    "     \n",
    "    Type your choice: Stay or Evaluate?\n",
    "\"\"\")"
   ]
  },
  {
   "cell_type": "code",
   "execution_count": null,
   "id": "b5214c72",
   "metadata": {},
   "outputs": [],
   "source": [
    "def scene1():\n",
    "    import time\n",
    "    print(\"\"\"WELCOME TO THE ADVENTURE GAME!\n",
    "        Let's start the action! ☆-🎬-☆\n",
    " \n",
    "        Lily wakes up in her bedroom in the middle of the night. She heard a loud BAN outside the house.\n",
    "        Now she has two choices she can either stay in the room or check what the sound might be about.\n",
    " \n",
    "        Type your choice: Stay or Evaluate?\n",
    "    \"\"\")\n",
    " \n",
    "    c1 = input()\n",
    "    time.sleep(2)\n",
    "    ans = 'incorrect'\n",
    "    while(ans=='incorrect'):\n",
    "        if(c1.upper()==\"STAY\"):\n",
    "            print(\"\\nLily decides to stay in the room and ends up staying inside forever as noone seems to come to help her.\")\n",
    "            ans = 'correct'\n",
    "        elif(c1.upper()==\"EVALUATE\"):\n",
    "            print(\"Lily exits the room silently and reaches the main hall.\")\n",
    "            ans='correct'\n",
    "            scene2()\n",
    "        else:\n",
    "            print(\"ENTER THE CORRECT CHOICE! Stay or Evaluate?\")\n",
    "            c1 = input()"
   ]
  },
  {
   "cell_type": "code",
   "execution_count": null,
   "id": "c6419be2",
   "metadata": {},
   "outputs": [],
   "source": [
    "def scene2():\n",
    "    import time\n",
    "    print(\"\"\"\n",
    "            In the main hall, she finds a strange but cute teddy bear on the floor. \n",
    "            She wanted to pick the teddy up. \n",
    "            But should she? It doesn't belong to her. (•˳̂•̆)\n",
    " \n",
    "            Type your choice: Pick or Ignore?\n",
    " \n",
    "            \"\"\")\n",
    "    time.sleep(2)\n",
    "    c1 = input()\n",
    "    ans = 'incorrect'\n",
    "    while(ans=='incorrect'):\n",
    "        if(c1.upper()==\"PICK\"):\n",
    "            print(\"\"\"\\nThe moment Lily picked up the the teddy bear. The Teddy bear starts TALKING!The bear tells Lily that she is in grave danger as there is a monster in the house.And the monster has captured her PARENTS as well!But he hugged her and told her not to get scared as he knows how to beat the moster!\"\"\")\n",
    "            time.sleep(2)\n",
    "            print(\"\"\"\\nThe bear handed lily a magical potion which can weaken the moster and make him run away!He handed her the potion and then DISAPPEARED!Lily moved forward.\"\"\")\n",
    "            ans = 'correct'\n",
    "            pick=\"True\"\n",
    "        elif(c1.upper()=='IGNORE'):\n",
    "            print(\"\"\"\\nLily decided not to pick up the bear and walked forward.\"\"\")\n",
    "            ans='correct'\n",
    "            pick=\"False\"\n",
    "        else:\n",
    "            print(\"Wrong Input! Enter pick or ignore?\")\n",
    "            c1=input()\n",
    "    time.sleep(2)\n",
    "    scene3(pick)"
   ]
  },
  {
   "cell_type": "code",
   "execution_count": null,
   "id": "50f54eb6",
   "metadata": {},
   "outputs": [],
   "source": [
    "def scene3(pick_value):\n",
    "    import time\n",
    "    print(\"\"\"\\n\\nAfter walking for a while, Lily saw the MONSTOR in front of her!\n",
    "    It had red eyes and evil looks. She got very scared! \"\"\")\n",
    "    time.sleep(2)\n",
    "    if(pick_value==\"True\"):\n",
    "        time.sleep(2)\n",
    "        print(\"\"\"But then she remembered! She had the magic portion and she threw it on the moster!\n",
    "              Well she had nothing to lose!\"\"\")\n",
    "        time.sleep(2)\n",
    "        print(\"\\n The monster SCREAMED in pain but he managed to make a portal and pushed Lily to a new world!\")\n",
    "    elif(pick_value==\"False\"):\n",
    "        print(\"The monster attacked Lily and hurt her! She was then thrown to the new world by the monster!\")"
   ]
  },
  {
   "cell_type": "code",
   "execution_count": null,
   "id": "8d3238b0",
   "metadata": {},
   "outputs": [],
   "source": [
    "scene1()\n",
    "print(\"\\n\\n\")\n",
    "print(\"=================================END OF CHAPTER 1=================================\")\n"
   ]
  },
  {
   "cell_type": "markdown",
   "id": "f428113c",
   "metadata": {},
   "source": [
    "Q25.Build a program that solves a linear equation for x, considering different cases."
   ]
  },
  {
   "cell_type": "code",
   "execution_count": null,
   "id": "075718eb",
   "metadata": {},
   "outputs": [],
   "source": [
    "def solve_linear_equation(a, b, c):\n",
    "    if a == 0:\n",
    "        if b == c:\n",
    "            return \"Infinite solutions (0x = 0)\"\n",
    "        else:\n",
    "            return \"No solution (0x = c, where c ≠ 0)\"\n",
    "    else:\n",
    "        x = (c - b) / a\n",
    "        return f\"x = {x}\"\n",
    "\n",
    "# Input coefficients a, b, and c\n",
    "a = float(input(\"Enter the coefficient a: \"))\n",
    "b = float(input(\"Enter the coefficient b: \"))\n",
    "c = float(input(\"Enter the constant c: \"))\n",
    "\n",
    "# Solve the linear equation\n",
    "solution = solve_linear_equation(a, b, c)\n",
    "print(solution)\n"
   ]
  },
  {
   "cell_type": "markdown",
   "id": "e944a139",
   "metadata": {},
   "source": [
    "Q26. Write a program that simulates a basic quiz game with multiple-choice questions and scoring."
   ]
  },
  {
   "cell_type": "code",
   "execution_count": null,
   "id": "c8b29a31",
   "metadata": {},
   "outputs": [],
   "source": [
    "print(\"Wellcome to quiz game !!\")\n",
    "print('NOTE: if your spelling is incorrect then it is considered as wrong answer')\n",
    "score = 0\n",
    "question_no = 0\n",
    "playing = input('Do you want to play ? (yes/no)').lower()\n",
    "if playing == 'yes':\n",
    "    question_no += 1\n",
    "    ques = input(f'\\n{question_no}. what does CPU stand for? ').lower()\n",
    "    if ques == 'central processing unit':\n",
    "        score +=1\n",
    "        print('correct! you got 1 point')\n",
    "        \n",
    "    else:\n",
    "        print('Incorrect!')\n",
    "        print(f'current answer is --> central processing unit')\n",
    "\n",
    "# ------1\n",
    "    question_no += 1\n",
    "    ques = input(f'\\n{question_no}. what does GPU stand for? ').lower()\n",
    "    \n",
    "    if ques == 'graphics processing unit':\n",
    "        score +=1\n",
    "        print('correct! you got 1 point')\n",
    "        \n",
    "    else:\n",
    "        print('Incorrect!')\n",
    "        print(f'current answer is --> graphics processing unit')\n",
    "\n",
    "# -----2\n",
    "    question_no += 1\n",
    "    ques = input(f'\\n{question_no}. what does RAM stand for? ').lower()\n",
    "    \n",
    "    if ques == 'random access memory':\n",
    "        score +=1\n",
    "        print('correct! you got 1 point')\n",
    "        \n",
    "    else:\n",
    "        print('Incorrect!')\n",
    "        print(f'current answer is --> random access memory')\n",
    "\n",
    "# -----3\n",
    "    question_no += 1\n",
    "    ques = input(f'\\n{question_no}. what does PSU stand for? ').lower()\n",
    "    \n",
    "    if ques == 'power supply unit':\n",
    "        score +=1\n",
    "        print('correct! you got 1 point')\n",
    "        \n",
    "    else:\n",
    "        print('Incorrect!')\n",
    "        print(f'current answer is --> power supply unit')\n",
    "\n",
    "\n",
    "# -----4\n",
    "    question_no += 1\n",
    "    ques = input(f'\\n{question_no}. what does ROM stand for? ').lower()\n",
    "    \n",
    "    if ques == 'read only memory':\n",
    "        score +=1\n",
    "        print('correct! you got 1 point')\n",
    "        \n",
    "    else:\n",
    "        print('Incorrect!')\n",
    "        print(f'current answer is --> read only memory')\n",
    "\n",
    "\n",
    "# ------5 \n",
    "\n",
    "else:\n",
    "    print('thankyou you are out of a game.')\n",
    "    quit()\n",
    "\n",
    "print(f'\\nnumber of question is {question_no}')\n",
    "print(f'your score is {score}')\n",
    "try:\n",
    "    percentage = (score *100)/question_no\n",
    "except ZeroDivisionError:\n",
    "    print('0% quetions are correct')\n",
    "\n",
    "print(f'{percentage}% questions are correct.')"
   ]
  },
  {
   "cell_type": "markdown",
   "id": "26841810",
   "metadata": {},
   "source": [
    "Q27. Develop a program that determines whether a given year is a prime number or not."
   ]
  },
  {
   "cell_type": "code",
   "execution_count": null,
   "id": "1ea6ec91",
   "metadata": {},
   "outputs": [],
   "source": [
    "#Step 1: get the input from user\n",
    "\n",
    "n = int(input(\"Enter any year: \"))\n",
    "\n",
    "# Check if the number is greater than 1\n",
    "\n",
    "if n > 1:\n",
    "    for i in range(2, int(n/2)+1):\n",
    "        if (n % i) == 0:\n",
    "            print(n, \"is not a prime number\")\n",
    "            break\n",
    "    else:\n",
    "        print(n, \"is a prime number\")\n",
    "else:                                                               # If the number is less than 1, its also not a prime number.\n",
    "    print(n, \"is not a prime number\")"
   ]
  },
  {
   "cell_type": "markdown",
   "id": "15d454d3",
   "metadata": {},
   "source": [
    "Q28.Create a program that sorts three numbers in ascending order using conditional statements."
   ]
  },
  {
   "cell_type": "code",
   "execution_count": null,
   "id": "32b89310",
   "metadata": {},
   "outputs": [],
   "source": [
    "\n",
    "\n",
    "num1=int(input(\"Enter First number : \"))\n",
    "num2=int(input(\"Enter Second number : \"))\n",
    "num3=int(input(\"Enter Third number : \"))\n",
    "if num1<num2 and num1<num3:\n",
    "    if num2<num3:\n",
    "        x,y,z=num1,num2,num3\n",
    "    else:\n",
    "        x,y,z=num1,num3,num2\n",
    "elif num2<num1 and num2<num3:\n",
    "    if num1<num3:\n",
    "        x,y,z=num2,num1,num3\n",
    "    else:\n",
    "        x,y,z=num2,num3,num1\n",
    "else:\n",
    "    if num1<num2:\n",
    "        x,y,z=num3,num1,num2\n",
    "    else:\n",
    "        x,y,z=num3,num2,num1\n",
    "print(\"Numbers in ascending order are : \",x,y,z)"
   ]
  },
  {
   "cell_type": "markdown",
   "id": "e6ce5485",
   "metadata": {},
   "source": [
    "Q29. Build a program that determines the roots of a quartic equation using numerical methods."
   ]
  },
  {
   "cell_type": "code",
   "execution_count": null,
   "id": "54bb66d8",
   "metadata": {},
   "outputs": [],
   "source": [
    "def f(x, coefficients):\n",
    "    # Define the quartic equation f(x) = ax^4 + bx^3 + cx^2 + dx + e\n",
    "    a, b, c, d, e = coefficients\n",
    "    return a * x**4 + b * x**3 + c * x**2 + d * x + e\n",
    "\n",
    "def df(x, coefficients):\n",
    "    # Derivative of the quartic equation f'(x) = 4ax^3 + 3bx^2 + 2cx + d\n",
    "    a, b, c, d, _ = coefficients\n",
    "    return 4 * a * x**3 + 3 * b * x**2 + 2 * c * x + d\n",
    "\n",
    "def find_root(coefficients, initial_guess, tolerance=1e-6, max_iterations=100):\n",
    "    x = initial_guess\n",
    "    for i in range(max_iterations):\n",
    "        # Use the Newton-Raphson formula to update the estimate\n",
    "        x = x - f(x, coefficients) / df(x, coefficients)\n",
    "        \n",
    "        # Check if the estimated root is within the desired tolerance\n",
    "        if abs(f(x, coefficients)) < tolerance:\n",
    "            return x\n",
    "    return None\n",
    "\n",
    "if __name__ == \"__main__\":\n",
    "    # Example usage:\n",
    "    coefficients = [1, -6, 11, -6, 1]  # Replace with the coefficients of your quartic equation\n",
    "    initial_guess = 1.0  # Replace with your initial guess\n",
    "    root = find_root(coefficients, initial_guess)\n",
    "\n",
    "    if root is not None:\n",
    "        print(f\"Root found: {root}\")\n",
    "    else:\n",
    "        print(\"Root not found within the maximum number of iterations.\")"
   ]
  },
  {
   "cell_type": "markdown",
   "id": "a3a01303",
   "metadata": {},
   "source": [
    "Q30. Write a program that calculates the BMI (Body Mass Index) and provides health recommendations based\n",
    "on the user's input."
   ]
  },
  {
   "cell_type": "code",
   "execution_count": null,
   "id": "6c3649ef",
   "metadata": {},
   "outputs": [],
   "source": [
    "#Step 1: Get the BMI from the user\n",
    "height=float(input(\"Enter the height of the person in cm: \"))\n",
    "weight=float(input(\"Enter the weight of the person in kg: \"))"
   ]
  },
  {
   "cell_type": "code",
   "execution_count": null,
   "id": "80199a97",
   "metadata": {},
   "outputs": [],
   "source": [
    "#Step 2: To find the BMI\n",
    "\n",
    "bmi=weight/(height/100)**2\n",
    "print(\"The BMI of the person is \",bmi)\n",
    "\n",
    "if (bmi < 18.5):\n",
    "    print(\"underweight\")\n",
    "elif ( bmi >= 18.5 and bmi < 24.9):\n",
    "    print(\"Healthy\")\n",
    "elif ( bmi >= 24.9 and bmi < 30):\n",
    "    print(\"overweight\")\n",
    "elif ( bmi >=30):\n",
    "    print(\"Suffering from Obesity\")"
   ]
  },
  {
   "cell_type": "markdown",
   "id": "945965c3",
   "metadata": {},
   "source": [
    "                                                  Challenge Level:"
   ]
  },
  {
   "cell_type": "markdown",
   "id": "5ffa7dce",
   "metadata": {},
   "source": [
    "Q31. Create a program that validates a password based on complexity rules (length, characters, etc.)."
   ]
  },
  {
   "cell_type": "code",
   "execution_count": null,
   "id": "c686da20",
   "metadata": {},
   "outputs": [],
   "source": [
    "l, u, p, d = 0, 0, 0, 0\n",
    "input_password = input(\"Enter password: \")\n",
    "if (len(input_password) >= 8):\n",
    "    for i in input_password:\n",
    " \n",
    "        # counting lowercase alphabets\n",
    "        if (i.islower()):\n",
    "            l+=1           \n",
    " \n",
    "        # counting uppercase alphabets\n",
    "        if (i.isupper()):\n",
    "            u+=1           \n",
    " \n",
    "        # counting digits\n",
    "        if (i.isdigit()):\n",
    "            d+=1           \n",
    " \n",
    "        # counting the mentioned special characters\n",
    "        if(i=='@'or i=='$' or i=='_'):\n",
    "            p+=1          \n",
    "if (l>=1 and u>=1 and p>=1 and d>=1 and l+p+u+d==len(input_password)):\n",
    "    print(\"Valid Password\")\n",
    "else:\n",
    "    print(\"Invalid Password\")"
   ]
  },
  {
   "cell_type": "markdown",
   "id": "cfd82beb",
   "metadata": {},
   "source": [
    "Q32. Develop a program that performs matrix addition and subtraction based on user input."
   ]
  },
  {
   "cell_type": "code",
   "execution_count": null,
   "id": "f1abad2b",
   "metadata": {},
   "outputs": [],
   "source": [
    "# matrix addition in python\n",
    "\n",
    "rows = int(input('Enter number of rows: '))\n",
    "cols  = int(input('Enter number of column: '))\n",
    "\n",
    "print() # for new line\n",
    "print('Enter values for matrix A')\n",
    "\n",
    "matrix_A = [[int(input(f\"column {j+1} -> Enter {i+1} element:\")) for j in range(cols)] for i in range(rows) ]  \n",
    "\n",
    "print() # for new line\n",
    "print('Enter values for matrix B ')\n",
    "\n",
    "matrix_B = [[int(input(f\"column {j+1} -> Enter {i+1} element:\")) for j in range(cols)] for i in range(rows) ]  \n",
    "\n",
    "print() #for new line\n",
    "\n",
    "print('Matrix-A :')\n",
    "for i in matrix_A:\n",
    "    print(i)\n",
    "\n",
    "print() #for new line\n",
    "\n",
    "print('Matrix-B :')\n",
    "for i in matrix_B:\n",
    "    print(i)\n",
    "\n",
    "# resultant matrix (matrix that store answer and intially it is Zero)\n",
    "result = [[0 for j in range(cols)] for i in range(rows)]\n",
    "\n",
    "# addition\n",
    "for i in range(rows):\n",
    "    for j in range(cols):\n",
    "        result[i][j] = matrix_A[i][j] + matrix_B[i][j]\n",
    "        \n",
    "print() #for new line\n",
    "print('Addition of Matrix-A and Matrix-B is :')\n",
    "\n",
    "for i in result:\n",
    "    print(i)\n",
    "    \n",
    "# subtraction\n",
    "for i in range(rows):\n",
    "    for j in range(cols):\n",
    "        result[i][j] = matrix_A[i][j] - matrix_B[i][j]\n",
    "\n",
    "print() #for new line\n",
    "\n",
    "print('Subtraction of Matrix-A and Matrix-B is :')\n",
    "for i in result:\n",
    "    print(i)"
   ]
  },
  {
   "cell_type": "markdown",
   "id": "9786e959",
   "metadata": {},
   "source": [
    "Q33. Write a program that calculates the greatest common divisor (GCD) of two numbers using the Euclidean\n",
    "algorithm."
   ]
  },
  {
   "cell_type": "code",
   "execution_count": null,
   "id": "624e4e2f",
   "metadata": {},
   "outputs": [],
   "source": [
    "\n",
    "# Recursive function to return gcd of a and b\n",
    "def gcd(a, b):\n",
    " \n",
    "    # Everything divides 0\n",
    "    if (a == 0):\n",
    "        return b\n",
    "    if (b == 0):\n",
    "        return a\n",
    " \n",
    "    # base case\n",
    "    if (a == b):\n",
    "        return a\n",
    " \n",
    "    # a is greater\n",
    "    if (a > b):\n",
    "        return gcd(a-b, b)\n",
    "    return gcd(a, b-a)\n",
    " \n",
    "# Driver program to test above function\n",
    "a = int(input(\"Enter first number: \"))\n",
    "b = int(input(\"Enter second number: \"))\n",
    "if(gcd(a, b)):\n",
    "    print('GCD of', a, 'and', b, 'is', gcd(a, b))\n",
    "else:\n",
    "    print('not found')"
   ]
  },
  {
   "cell_type": "markdown",
   "id": "7134f613",
   "metadata": {},
   "source": [
    "Q34. Build a program that performs matrix multiplication using nested loops and conditional statements."
   ]
  },
  {
   "cell_type": "code",
   "execution_count": null,
   "id": "fe32a84a",
   "metadata": {},
   "outputs": [],
   "source": [
    "# matrix multiplication in python\n",
    "matrix_A_rows = int(input('Enter number of rows for matrix-A: '))\n",
    "matrix_A_cols  = int(input('Enter number of columns for matrix-A: '))\n",
    "\n",
    "print() # for new line\n",
    "\n",
    "matrix_B_rows = int(input('Enter number of rows for matrix-B: '))\n",
    "matrix_B_cols  = int(input('Enter number of columns for matrix-B: '))\n",
    "\n",
    "print() # for new line\n",
    "\n",
    "if matrix_A_cols == matrix_B_rows:\n",
    "    print('Enter values for matrix A')\n",
    "    matrix_A = [[int(input(f\"column {j+1} -> ENter {i+1} element:\")) for j in range(matrix_A_cols)] for i in range(matrix_A_rows) ]\n",
    "\n",
    "    print() # for new line\n",
    "\n",
    "    print('Enter values for matrix B ')\n",
    "    matrix_B = [[int(input(f\"column {j+1} -> ENter {i+1} element:\")) for j in range(matrix_B_cols)] for i in range(matrix_B_rows) ]\n",
    "\n",
    "    print() #for new line\n",
    "\n",
    "    print('Matrix-A :')\n",
    "    for i in matrix_A:\n",
    "        print(i)\n",
    "\n",
    "    print() #for new line\n",
    "\n",
    "    print('Matrix-B :')\n",
    "    for i in matrix_B:\n",
    "        print(i)\n",
    "\n",
    "    # mutiplication operation\n",
    "\n",
    "    # resultant matrix (matrix that store answer and intially it is Zero)\n",
    "    result = [[0 for j in range(matrix_B_cols)] for i in range(matrix_A_rows)]\n",
    "\n",
    "    # main logic for matrix multiplication (multiplication operation)\n",
    "    for i in range(len(matrix_A)):\n",
    "        for j in range(len(matrix_B[0])):\n",
    "            for k in range(len(matrix_B)):\n",
    "                result[i][j] += matrix_A[i][k] * matrix_B[k][j]\n",
    "        \n",
    "    print() #for new line\n",
    "\n",
    "    print('Multiplication of Matrix-A and Matrix-B is :')\n",
    "    for i in result:  #print result\n",
    "        print(i)\n",
    "        \n",
    "else:\n",
    "    print('Multiplication of matrices is not possible (columns of matrix-A = row of matrix-B)')"
   ]
  },
  {
   "cell_type": "markdown",
   "id": "b15bca86",
   "metadata": {},
   "source": [
    "Q35. Create a program that simulates a basic text-based tic-tac-toe game against the computer."
   ]
  },
  {
   "cell_type": "code",
   "execution_count": null,
   "id": "010a14c4",
   "metadata": {},
   "outputs": [],
   "source": [
    "import random\n",
    "\n",
    "# Function to print the Tic-Tac-Toe board\n",
    "def print_board(board):\n",
    "    for row in board:\n",
    "        print(\" | \".join(row))\n",
    "        print(\"-\" * 9)\n",
    "\n",
    "# Function to check if a player has won\n",
    "def check_win(board, player):\n",
    "    for row in board:\n",
    "        if all(cell == player for cell in row):\n",
    "            return True\n",
    "\n",
    "    for col in range(3):\n",
    "        if all(board[row][col] == player for row in range(3)):\n",
    "            return True\n",
    "\n",
    "    if all(board[i][i] == player for i in range(3)) or all(board[i][2 - i] == player for i in range(3)):\n",
    "        return True\n",
    "\n",
    "    return False\n",
    "\n",
    "# Function to check if the board is full\n",
    "def is_board_full(board):\n",
    "    return all(cell != \" \" for row in board for cell in row)\n",
    "\n",
    "# Function to make the computer's move\n",
    "def computer_move(board):\n",
    "    empty_cells = [(row, col) for row in range(3) for col in range(3) if board[row][col] == \" \"]\n",
    "    return random.choice(empty_cells)\n",
    "\n",
    "# Initialize the Tic-Tac-Toe board\n",
    "board = [[\" \" for _ in range(3)] for _ in range(3)]\n",
    "\n",
    "# Main game loop\n",
    "while True:\n",
    "    print_board(board)\n",
    "\n",
    "    # Player's turn\n",
    "    while True:\n",
    "        try:\n",
    "            row, col = map(int, input(\"Enter your move (row and column, e.g., 1 2): \").split())\n",
    "            if board[row - 1][col - 1] == \" \":\n",
    "                board[row - 1][col - 1] = \"X\"\n",
    "                break\n",
    "            else:\n",
    "                print(\"Cell already occupied. Try again.\")\n",
    "        except (ValueError, IndexError):\n",
    "            print(\"Invalid input. Please enter row and column numbers (e.g., 1 2).\")\n",
    "\n",
    "    # Check if the player has won\n",
    "    if check_win(board, \"X\"):\n",
    "        print_board(board)\n",
    "        print(\"Congratulations! You win!\")\n",
    "        break\n",
    "\n",
    "    # Check for a draw\n",
    "    if is_board_full(board):\n",
    "        print_board(board)\n",
    "        print(\"It's a draw!\")\n",
    "        break\n",
    "\n",
    "    # Computer's turn\n",
    "    row, col = computer_move(board)\n",
    "    board[row][col] = \"O\"\n",
    "\n",
    "    # Check if the computer has won\n",
    "    if check_win(board, \"O\"):\n",
    "        print_board(board)\n",
    "        print(\"Computer wins! Better luck next time.\")\n",
    "        break"
   ]
  },
  {
   "cell_type": "markdown",
   "id": "9285ffd1",
   "metadata": {},
   "source": [
    "Q36. Write a program that generates Fibonacci numbers up to a specified term using iterative methods."
   ]
  },
  {
   "cell_type": "code",
   "execution_count": null,
   "id": "5081c1a7",
   "metadata": {},
   "outputs": [],
   "source": [
    "# Program to display the Fibonacci sequence up to n-th term\n",
    "\n",
    "nterms = int(input(\"How many terms? \"))\n",
    "\n",
    "# first two terms\n",
    "n1, n2 = 0, 1\n",
    "count = 0\n",
    "\n",
    "# check if the number of terms is valid\n",
    "if nterms <= 0:\n",
    "    print(\"Please enter a positive integer\")\n",
    "# if there is only one term, return n1\n",
    "elif nterms == 1:\n",
    "    print(\"Fibonacci sequence upto\",nterms,\"terms :\")\n",
    "    print(n1)\n",
    "# generate fibonacci sequence\n",
    "else:\n",
    "    print(\"Fibonacci sequence upto\",nterms,\"terms :\")\n",
    "    while count < nterms:\n",
    "        print(n1,end=\" \")\n",
    "        nth = n1 + n2\n",
    "       # update values\n",
    "        n1 = n2\n",
    "        n2 = nth\n",
    "        count += 1"
   ]
  },
  {
   "cell_type": "markdown",
   "id": "8639f5c6",
   "metadata": {},
   "source": [
    "Q37.Develop a program that calculates the nth term of the Fibonacci sequence using memoization."
   ]
  },
  {
   "cell_type": "code",
   "execution_count": null,
   "id": "3202c71b",
   "metadata": {},
   "outputs": [],
   "source": [
    "def Fibonacci(n):\n",
    "    if n<= 0:\n",
    "        print(\"Incorrect input\")\n",
    "    # First Fibonacci number is 0\n",
    "    elif n == 1:\n",
    "        return 0\n",
    "    # Second Fibonacci number is 1\n",
    "    elif n == 2:\n",
    "        return 1\n",
    "    else:\n",
    "        return Fibonacci(n-1)+Fibonacci(n-2)\n",
    " \n",
    "# Driver Program\n",
    " \n",
    "n=int(input(\"which term of fibonacci series needs to be printed? \"))\n",
    "Fibonacci(n)"
   ]
  },
  {
   "cell_type": "markdown",
   "id": "3bd5e622",
   "metadata": {},
   "source": [
    "Q38. Create a program that generates a calendar for a given month and year using conditional statements."
   ]
  },
  {
   "cell_type": "code",
   "execution_count": null,
   "id": "65e2850b",
   "metadata": {},
   "outputs": [],
   "source": [
    "# Python code to print Calendar\n",
    "# Without use of Calendar module\n",
    "   \n",
    "mm = int(input(\"Enter the month: \"))\n",
    "yy = int(input(\"Enter the year: \"))\n",
    "  \n",
    "month ={1:'January', 2:'February', 3:'March', \n",
    "        4:'April', 5:'May', 6:'June', 7:'July',\n",
    "        8:'August', 9:'September', 10:'October',\n",
    "        11:'November', 12:'December'}\n",
    "   \n",
    "# code below for calculation of odd days\n",
    "day =(yy-1)% 400\n",
    "day = (day//100)*5 + ((day % 100) - (day % 100)//4) + ((day % 100)//4)*2\n",
    "day = day % 7\n",
    "  \n",
    "nly =[31, 28, 31, 30, 31, 30, \n",
    "      31, 31, 30, 31, 30, 31]\n",
    "ly =[31, 29, 31, 30, 31, 30, \n",
    "     31, 31, 30, 31, 30, 31]\n",
    "s = 0\n",
    "  \n",
    "if yy % 4 == 0:\n",
    "    for i in range(mm-1):\n",
    "        s+= ly[i]\n",
    "else:\n",
    "    for i in range(mm-1):\n",
    "        s+= nly[i]\n",
    "  \n",
    "day += s % 7\n",
    "day = day % 7\n",
    "   \n",
    "# variable used for white space filling \n",
    "# where date not present\n",
    "space =''\n",
    "space = space.rjust(2, ' ')\n",
    "  \n",
    "# code below is to print the calendar\n",
    "print(month[mm], yy)\n",
    "print('Su', 'Mo', 'Tu', 'We', 'Th', 'Fr', 'Sa')\n",
    "  \n",
    "if mm == 9 or mm == 4 or mm == 6 or mm == 11: \n",
    "    for i in range(31 + day):\n",
    "          \n",
    "        if i<= day:\n",
    "            print(space, end =' ')\n",
    "        else:\n",
    "            print(\"{:02d}\".format(i-day), end =' ')\n",
    "            if (i + 1)% 7 == 0:\n",
    "                print()\n",
    "elif mm == 2:\n",
    "    if yy % 4 == 0:\n",
    "        p = 30\n",
    "    else:\n",
    "        p = 29\n",
    "          \n",
    "    for i in range(p + day):\n",
    "        if i<= day:\n",
    "            print(space, end =' ')\n",
    "        else:\n",
    "            print(\"{:02d}\".format(i-day), end =' ')\n",
    "            if (i + 1)% 7 == 0:\n",
    "                print() \n",
    "else:\n",
    "    for i in range(32 + day):\n",
    "          \n",
    "        if i<= day:\n",
    "            print(space, end =' ')\n",
    "        else:\n",
    "            print(\"{:02d}\".format(i-day), end =' ')\n",
    "            if (i + 1)% 7 == 0:\n",
    "                print()"
   ]
  },
  {
   "cell_type": "markdown",
   "id": "df1aed4f",
   "metadata": {},
   "source": [
    "Q39. Build a program that simulates a basic text-based blackjack game against the computer."
   ]
  },
  {
   "cell_type": "code",
   "execution_count": null,
   "id": "2a1d52cc",
   "metadata": {},
   "outputs": [],
   "source": [
    "import random\n",
    "  \n",
    "card_categories = ['Hearts', 'Diamonds', 'Clubs', 'Spades']\n",
    "cards_list = ['Ace', '2', '3', '4', '5', '6', '7', '8', '9', '10', 'Jack', 'Queen', 'King']\n",
    "deck = [(card, category) for category in card_categories for card in cards_list]\n",
    "  \n",
    "def card_value(card):\n",
    "    if card[0] in ['Jack', 'Queen', 'King']:\n",
    "        return 10\n",
    "    elif card[0] == 'Ace':\n",
    "        return 11\n",
    "    else:\n",
    "        return int(card[0])\n",
    "  \n",
    "random.shuffle(deck)\n",
    "player_card = [deck.pop(), deck.pop()]\n",
    "dealer_card = [deck.pop(), deck.pop()]\n",
    "  \n",
    "while True:\n",
    "    player_score = sum(card_value(card) for card in player_card)\n",
    "    dealer_score = sum(card_value(card) for card in dealer_card)\n",
    "    print(\"Cards Player Has:\", player_card)\n",
    "    print(\"Score Of The Player:\", player_score)\n",
    "    print(\"\\n\")\n",
    "    choice = input('What do you want? [\"play\" to request another card, \"stop\" to stop]: ').lower()\n",
    "    if choice == \"play\":\n",
    "        new_card = deck.pop()\n",
    "        player_card.append(new_card)\n",
    "    elif choice == \"stop\":\n",
    "        break\n",
    "    else:\n",
    "        print(\"Invalid choice. Please try again.\")\n",
    "        continue\n",
    "  \n",
    "    if player_score > 21:\n",
    "        print(\"Cards Dealer Has:\", dealer_card)\n",
    "        print(\"Score Of The Dealer:\", dealer_score)\n",
    "        print(\"Cards Player Has:\", player_card)\n",
    "        print(\"Score Of The Player:\", player_score)\n",
    "        print(\"Dealer wins (Player Loss Because Player Score is exceeding 21)\")\n",
    "        break\n",
    "  \n",
    "while dealer_score < 17:\n",
    "    new_card = deck.pop()\n",
    "    dealer_card.append(new_card)\n",
    "    dealer_score += card_value(new_card)\n",
    "  \n",
    "print(\"Cards Dealer Has:\", dealer_card)\n",
    "print(\"Score Of The Dealer:\", dealer_score)\n",
    "print(\"\\n\")\n",
    "  \n",
    "if dealer_score > 21:\n",
    "    print(\"Cards Dealer Has:\", dealer_card)\n",
    "    print(\"Score Of The Dealer:\", dealer_score)\n",
    "    print(\"Cards Player Has:\", player_card)\n",
    "    print(\"Score Of The Player:\", player_score)\n",
    "    print(\"Player wins (Dealer Loss Because Dealer Score is exceeding 21)\")\n",
    "elif player_score > dealer_score:\n",
    "    print(\"Cards Dealer Has:\", dealer_card)\n",
    "    print(\"Score Of The Dealer:\", dealer_score)\n",
    "    print(\"Cards Player Has:\", player_card)\n",
    "    print(\"Score Of The Player:\", player_score)\n",
    "    print(\"Player wins (Player Has High Score than Dealer)\")\n",
    "elif dealer_score > player_score:\n",
    "    print(\"Cards Dealer Has:\", dealer_card)\n",
    "    print(\"Score Of The Dealer:\", dealer_score)\n",
    "    print(\"Cards Player Has:\", player_card)\n",
    "    print(\"Score Of The Player:\", player_score)\n",
    "    print(\"Dealer wins (Dealer Has High Score than Player)\")\n",
    "else:\n",
    "    print(\"Cards Dealer Has:\", dealer_card)\n",
    "    print(\"Score Of The Dealer:\", dealer_score)\n",
    "    print(\"Cards Player Has:\", player_card)\n",
    "    print(\"Score Of The Player:\", player_score)\n",
    "    print(\"It's a tie.\")"
   ]
  },
  {
   "cell_type": "markdown",
   "id": "25e45a00",
   "metadata": {},
   "source": [
    "Q40. Write a program that generates the prime factors of a given number using trial division."
   ]
  },
  {
   "cell_type": "code",
   "execution_count": null,
   "id": "41b37706",
   "metadata": {},
   "outputs": [],
   "source": [
    "# Python program to print prime factors\n",
    " \n",
    "import math\n",
    " \n",
    "# A function to print all prime factors of\n",
    "# a given number n\n",
    "def primeFactors(n):\n",
    "     \n",
    "    # Print the number of two's that divide n\n",
    "    while n % 2 == 0:\n",
    "        print(2)\n",
    "        n = n // 2\n",
    "         \n",
    "    # n must be odd at this point\n",
    "    # so a skip of 2 ( i = i + 2) can be used\n",
    "    for i in range(3,int(math.sqrt(n))+1,2):\n",
    "         \n",
    "        # while i divides n , print i ad divide n\n",
    "        while n % i== 0:\n",
    "            print(i)\n",
    "            n = n // i\n",
    "             \n",
    "    # Condition if n is a prime\n",
    "    # number greater than 2\n",
    "    if n > 2:\n",
    "        print(n)\n",
    "         \n",
    "# Driver Program to test above function\n",
    " \n",
    "n = int(input(\"Enter any number: \"))\n",
    "primeFactors(n)"
   ]
  }
 ],
 "metadata": {
  "kernelspec": {
   "display_name": "Python 3 (ipykernel)",
   "language": "python",
   "name": "python3"
  },
  "language_info": {
   "codemirror_mode": {
    "name": "ipython",
    "version": 3
   },
   "file_extension": ".py",
   "mimetype": "text/x-python",
   "name": "python",
   "nbconvert_exporter": "python",
   "pygments_lexer": "ipython3",
   "version": "3.11.5"
  }
 },
 "nbformat": 4,
 "nbformat_minor": 5
}
