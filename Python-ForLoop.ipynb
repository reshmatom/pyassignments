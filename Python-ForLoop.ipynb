{
 "cells": [
  {
   "cell_type": "markdown",
   "id": "64896b78-a033-46c1-9bc8-6b1f0cfea066",
   "metadata": {},
   "source": [
    "1. Write a Python program to print the numbers from 1 to 10 using a `for` loop.\n"
   ]
  },
  {
   "cell_type": "code",
   "execution_count": 5,
   "id": "9c49ca38-1375-4790-b7e6-9defa49f5bb0",
   "metadata": {},
   "outputs": [
    {
     "name": "stdout",
     "output_type": "stream",
     "text": [
      "1\n",
      "2\n",
      "3\n",
      "4\n",
      "5\n",
      "6\n",
      "7\n",
      "8\n",
      "9\n",
      "10\n"
     ]
    }
   ],
   "source": [
    "for i in range(1, 11):\n",
    "    print(i)\n"
   ]
  },
  {
   "cell_type": "markdown",
   "id": "bf7a24b0-8d69-4280-8378-8b504d5a5815",
   "metadata": {},
   "source": [
    "2. Create a program that calculates the sum of all numbers in a list using a `for` loop.\n"
   ]
  },
  {
   "cell_type": "code",
   "execution_count": 12,
   "id": "806d0bf7-9d08-4d8c-a131-df64d3303d25",
   "metadata": {},
   "outputs": [
    {
     "name": "stdout",
     "output_type": "stream",
     "text": [
      "Sum of all elements in given list:  55\n"
     ]
    }
   ],
   "source": [
    "list =[1,2,3,4,5,6,7,8,9,10]\n",
    "sum = 0\n",
    "for i in range(0,len(list)):\n",
    "    sum = sum + list[i]\n",
    "\n",
    "print(\"Sum of all elements in given list: \", sum)\n",
    "\n"
   ]
  },
  {
   "cell_type": "markdown",
   "id": "4e68c4b9-cf87-48e9-b1d9-1ac3180a49ac",
   "metadata": {},
   "source": [
    "3. Write a program to print the characters of a string in reverse order using a `for` loop.\n"
   ]
  },
  {
   "cell_type": "code",
   "execution_count": 19,
   "id": "5fb946b0-cbf7-44a0-8f18-1e0423383911",
   "metadata": {},
   "outputs": [
    {
     "name": "stdout",
     "output_type": "stream",
     "text": [
      "reversed string is:  noitazilabolg\n"
     ]
    }
   ],
   "source": [
    "def reverse(string):\n",
    "    reversed_str = \"\"\n",
    "    for i in string:\n",
    "        reversed_str = i + reversed_str\n",
    "    print(\"reversed string is: \", reversed_str)\n",
    "\n",
    "string = 'globalization'\n",
    "reverse(string)"
   ]
  },
  {
   "cell_type": "markdown",
   "id": "e4aab563-5379-48e7-9a2f-87e9182939e6",
   "metadata": {},
   "source": [
    "4. Develop a program that finds the factorial of a given number using a `for` loop.\n"
   ]
  },
  {
   "cell_type": "code",
   "execution_count": 22,
   "id": "975650ff-5c15-42ca-a1f3-3812b7e0bc6f",
   "metadata": {},
   "outputs": [
    {
     "name": "stdin",
     "output_type": "stream",
     "text": [
      "Enter a number:  4\n"
     ]
    },
    {
     "name": "stdout",
     "output_type": "stream",
     "text": [
      "The factorial of 4 is 24\n"
     ]
    }
   ],
   "source": [
    "def factorial(n):\n",
    "    if n == 1:\n",
    "        return 1\n",
    "    else:\n",
    "        return (n * factorial(n-1))\n",
    "\n",
    "num = int(input(\"Enter a number: \"))\n",
    "result = factorial(num)\n",
    "print(\"The factorial of\", num, \"is\", result)"
   ]
  },
  {
   "cell_type": "markdown",
   "id": "9450c176-cc29-4c5b-ba7f-c3739850d6e8",
   "metadata": {},
   "source": [
    "5. Create a program to print the multiplication table of a given number using a `for` loop.\n"
   ]
  },
  {
   "cell_type": "code",
   "execution_count": 25,
   "id": "02b95c87-78d4-4096-a5be-394fa0584a52",
   "metadata": {},
   "outputs": [
    {
     "name": "stdin",
     "output_type": "stream",
     "text": [
      "Enter the number  2\n"
     ]
    },
    {
     "name": "stdout",
     "output_type": "stream",
     "text": [
      "2  *  1  =  2\n",
      "2  *  2  =  4\n",
      "2  *  3  =  6\n",
      "2  *  4  =  8\n",
      "2  *  5  =  10\n",
      "2  *  6  =  12\n",
      "2  *  7  =  14\n",
      "2  *  8  =  16\n",
      "2  *  9  =  18\n",
      "2  *  10  =  20\n"
     ]
    }
   ],
   "source": [
    "num = int(input(\"Enter the number \"))\n",
    "range_num = range(1,11)\n",
    "for x in range_num:\n",
    "    result = num * x\n",
    "    print(num,\" * \",x,\" = \",result)"
   ]
  },
  {
   "cell_type": "markdown",
   "id": "d3693f5a-7bb2-4db8-9eab-9c7f1faf49ea",
   "metadata": {},
   "source": [
    "6. Write a program that counts the number of even and odd numbers in a list using a `for` loop.\n"
   ]
  },
  {
   "cell_type": "code",
   "execution_count": 32,
   "id": "add65ad9-5913-4458-b6e9-8312cba3de7a",
   "metadata": {},
   "outputs": [
    {
     "name": "stdout",
     "output_type": "stream",
     "text": [
      "Even numbers in the list:  5\n",
      "Odd numbers in the list:  6\n"
     ]
    }
   ],
   "source": [
    "list= [1,2,3,4,5,6,7,8,9,10,11]\n",
    "even_count = 0\n",
    "odd_count = 0\n",
    "\n",
    "for num in list:\n",
    "\tif num % 2 == 0:\n",
    "\t\teven_count += 1\n",
    "\telse:\n",
    "\t\todd_count += 1\n",
    "print(\"Even numbers in the list: \", even_count)\n",
    "print(\"Odd numbers in the list: \", odd_count)\n"
   ]
  },
  {
   "cell_type": "markdown",
   "id": "831e7d08-cd5f-4e0d-a068-b60aa65bfd43",
   "metadata": {},
   "source": [
    "7. Develop a program that prints the squares of numbers from 1 to 5 using a `for` loop."
   ]
  },
  {
   "cell_type": "code",
   "execution_count": 35,
   "id": "609eb961-6321-47cb-a01c-beb636d4349e",
   "metadata": {},
   "outputs": [
    {
     "name": "stdout",
     "output_type": "stream",
     "text": [
      "0\n",
      "1\n",
      "4\n",
      "9\n",
      "16\n",
      "25\n"
     ]
    }
   ],
   "source": [
    "index =0\n",
    "for i in range(0,6) :\n",
    "   print(index**2)\n",
    "   index+=1"
   ]
  },
  {
   "cell_type": "markdown",
   "id": "e8a7df59-0527-4d0f-b530-e7cd881dc997",
   "metadata": {},
   "source": [
    "8. Create a program to find the length of a string without using the `len()` function."
   ]
  },
  {
   "cell_type": "code",
   "execution_count": 38,
   "id": "de8e795b-561e-420f-b6f5-d37e180a5271",
   "metadata": {},
   "outputs": [
    {
     "name": "stdin",
     "output_type": "stream",
     "text": [
      "enter a string program\n"
     ]
    },
    {
     "name": "stdout",
     "output_type": "stream",
     "text": [
      "the length of the sgring is:  7\n"
     ]
    }
   ],
   "source": [
    "string = input(\"enter a string\")\n",
    "count = 0\n",
    "for i in string:\n",
    "    count+=1\n",
    "print(\"the length of the sgring is: \",count)\n"
   ]
  },
  {
   "cell_type": "markdown",
   "id": "7a164641-c108-474e-b7c3-cccb9c26b6fe",
   "metadata": {},
   "source": [
    "9. Write a program that calculates the average of a list of numbers using a `for` loop.\n",
    "   "
   ]
  },
  {
   "cell_type": "code",
   "execution_count": 43,
   "id": "189caf9c-b1f5-44c0-82b8-32c128008e09",
   "metadata": {},
   "outputs": [
    {
     "name": "stdin",
     "output_type": "stream",
     "text": [
      "Enter number 50\n"
     ]
    },
    {
     "name": "stdout",
     "output_type": "stream",
     "text": [
      "Sum of first  50 numbers is:  1275\n",
      "Average of  50 numbers is:  25.5\n"
     ]
    }
   ],
   "source": [
    "n = int(input(\"Enter number\"))\n",
    "sum = 0\n",
    "\n",
    "for num in range(1, n + 1, 1):\n",
    "    sum = sum + num\n",
    "print(\"Sum of first \", n, \"numbers is: \", sum)\n",
    "average = sum / n\n",
    "print(\"Average of \", n, \"numbers is: \", average)"
   ]
  },
  {
   "cell_type": "markdown",
   "id": "54660cbd-2997-4a5c-b9e6-7c0aba7ed7b1",
   "metadata": {},
   "source": [
    "10. Develop a program that prints the first `n` Fibonacci numbers using a `for` loop."
   ]
  },
  {
   "cell_type": "code",
   "execution_count": 45,
   "id": "da550f01-5415-4b0c-8efd-44e73c929f68",
   "metadata": {},
   "outputs": [
    {
     "name": "stdout",
     "output_type": "stream",
     "text": [
      "0\n",
      "1\n",
      "1\n",
      "2\n",
      "3\n",
      "5\n",
      "8\n",
      "13\n",
      "21\n",
      "34\n",
      "55\n"
     ]
    }
   ],
   "source": [
    "first = 0\n",
    "second = 1\n",
    "print(first)\n",
    "print(second)\n",
    "for x in range(1,10):\n",
    "    third = first + second\n",
    "    print(third)\n",
    "    first,second=second,third"
   ]
  },
  {
   "cell_type": "markdown",
   "id": "faf13b09-7799-4824-babc-f2a5d911ef7b",
   "metadata": {},
   "source": [
    "11. Write a program to check if a given list contains any duplicates using a `for` loop."
   ]
  },
  {
   "cell_type": "code",
   "execution_count": 50,
   "id": "4c3eeb65-c652-46e5-b098-93dec8f66895",
   "metadata": {},
   "outputs": [
    {
     "name": "stdout",
     "output_type": "stream",
     "text": [
      "the list contain duplicate values [5, 6]\n",
      "list after removing duplicates [5, 3, 2, 1, 6, 4]\n"
     ]
    }
   ],
   "source": [
    "mylist = [5, 3, 5, 2, 1, 6, 6, 4] \n",
    "newlist = [] \n",
    "duplicatelist = [] \n",
    "for i in mylist:\n",
    "    if i not in newlist:\n",
    "        newlist.append(i)\n",
    "    else:\n",
    "        duplicatelist.append(i) \n",
    "print(\"the list contain duplicate values\", duplicatelist)\n",
    "print(\"list after removing duplicates\", newlist) "
   ]
  },
  {
   "cell_type": "markdown",
   "id": "52eb4b55-60c4-438e-a29e-9c9cb70c95ee",
   "metadata": {},
   "source": [
    "12. Create a program that prints the prime numbers in a given range using a `for` loop."
   ]
  },
  {
   "cell_type": "code",
   "execution_count": 51,
   "id": "9b891991-fdbe-4b5d-b1cf-f65de4722412",
   "metadata": {},
   "outputs": [
    {
     "name": "stdout",
     "output_type": "stream",
     "text": [
      "2\n",
      "3\n",
      "5\n",
      "7\n",
      "11\n"
     ]
    }
   ],
   "source": [
    "for number in range (1,12):  \n",
    "    if number > 1:  \n",
    "        for i in range (2, number):  \n",
    "            if (number % i) == 0:  \n",
    "                break  \n",
    "        else:  \n",
    "            print (number)  "
   ]
  },
  {
   "cell_type": "markdown",
   "id": "e76af2e3-62ef-4047-8926-2bec1639a69c",
   "metadata": {},
   "source": [
    "13. Develop a program that counts the number of vowels in a string using a `for` loop."
   ]
  },
  {
   "cell_type": "code",
   "execution_count": 53,
   "id": "ce201a71-cb14-4e72-8537-8cbbe9cce48f",
   "metadata": {},
   "outputs": [
    {
     "name": "stdout",
     "output_type": "stream",
     "text": [
      "Number of vowels in the given string is:  6\n"
     ]
    }
   ],
   "source": [
    "string = \"computer programming\"\n",
    "count = 0\n",
    "vowels = [\"a\", \"e\", \"i\", \"o\", \"u\"]\n",
    "\n",
    "for i in range(len(string)):\n",
    "    if string[i] in vowels:\n",
    "        count += 1\n",
    "\n",
    "print(\"Number of vowels in the given string is: \", count)"
   ]
  },
  {
   "cell_type": "markdown",
   "id": "2ce677f2-b5f1-411f-9650-754ba7ff55d9",
   "metadata": {},
   "source": [
    "14. Write a program to find the maximum element in a 2D list using a nested `for` loop\n"
   ]
  },
  {
   "cell_type": "code",
   "execution_count": 84,
   "id": "10c9f516-f955-4cb5-a324-5347be6e124d",
   "metadata": {},
   "outputs": [
    {
     "name": "stdout",
     "output_type": "stream",
     "text": [
      "Maximum element in the 2D list: 9\n"
     ]
    }
   ],
   "source": [
    "matrix = [\n",
    "    [1, 2, 3],\n",
    "    [4, 5, 6],\n",
    "    [7, 8, 9]\n",
    "]\n",
    "\n",
    "# Initialize the maximum element to the smallest possible value\n",
    "max_element = float('-inf')\n",
    "\n",
    "# Nested loops to iterate through the elements of the matrix\n",
    "for row in matrix:\n",
    "    for element in row:\n",
    "        if element > max_element:\n",
    "            max_element = element\n",
    "\n",
    "print(\"Maximum element in the 2D list:\", max_element)\n"
   ]
  },
  {
   "cell_type": "markdown",
   "id": "704cd985-ddcc-42f9-9bd7-aa8d28153e35",
   "metadata": {},
   "source": [
    "15. Create a program that removes all occurrences of a specific element from a list using a `for` loop."
   ]
  },
  {
   "cell_type": "code",
   "execution_count": 64,
   "id": "79533cc5-8a6e-4369-b60a-db6f37949c94",
   "metadata": {},
   "outputs": [
    {
     "name": "stdout",
     "output_type": "stream",
     "text": [
      "Original list: [1, 2, 3, 4, 2, 20, 6, 8, 10, 2]\n",
      "list after removing elements: [1, 3, 4, 20, 6, 8, 10]\n"
     ]
    }
   ],
   "source": [
    "list = [1,2,3,4,2,20,6,8,10,2]\n",
    "n = 2\n",
    "print (\"Original list:\",list)\n",
    "\n",
    "for x in list:\n",
    "    if x == n:\n",
    "        list.remove(x)\n",
    "\n",
    "print (\"list after removing elements:\",list)"
   ]
  },
  {
   "cell_type": "markdown",
   "id": "eb2266c0-dbaa-45ec-9e68-69dc77ca8dcf",
   "metadata": {},
   "source": [
    "16. Develop a program that generates a multiplication table for numbers from 1 to 5 using a nested `for` loop."
   ]
  },
  {
   "cell_type": "code",
   "execution_count": 89,
   "id": "66bd443a-6b36-4ed3-9254-b5b62919e9ff",
   "metadata": {},
   "outputs": [
    {
     "name": "stdout",
     "output_type": "stream",
     "text": [
      "Multiplication table for 1:\n",
      "1 x 1 = 1\n",
      "1 x 2 = 2\n",
      "1 x 3 = 3\n",
      "1 x 4 = 4\n",
      "1 x 5 = 5\n",
      "1 x 6 = 6\n",
      "1 x 7 = 7\n",
      "1 x 8 = 8\n",
      "1 x 9 = 9\n",
      "1 x 10 = 10\n",
      "Multiplication table for 2:\n",
      "2 x 1 = 2\n",
      "2 x 2 = 4\n",
      "2 x 3 = 6\n",
      "2 x 4 = 8\n",
      "2 x 5 = 10\n",
      "2 x 6 = 12\n",
      "2 x 7 = 14\n",
      "2 x 8 = 16\n",
      "2 x 9 = 18\n",
      "2 x 10 = 20\n",
      "Multiplication table for 3:\n",
      "3 x 1 = 3\n",
      "3 x 2 = 6\n",
      "3 x 3 = 9\n",
      "3 x 4 = 12\n",
      "3 x 5 = 15\n",
      "3 x 6 = 18\n",
      "3 x 7 = 21\n",
      "3 x 8 = 24\n",
      "3 x 9 = 27\n",
      "3 x 10 = 30\n",
      "Multiplication table for 4:\n",
      "4 x 1 = 4\n",
      "4 x 2 = 8\n",
      "4 x 3 = 12\n",
      "4 x 4 = 16\n",
      "4 x 5 = 20\n",
      "4 x 6 = 24\n",
      "4 x 7 = 28\n",
      "4 x 8 = 32\n",
      "4 x 9 = 36\n",
      "4 x 10 = 40\n",
      "Multiplication table for 5:\n",
      "5 x 1 = 5\n",
      "5 x 2 = 10\n",
      "5 x 3 = 15\n",
      "5 x 4 = 20\n",
      "5 x 5 = 25\n",
      "5 x 6 = 30\n",
      "5 x 7 = 35\n",
      "5 x 8 = 40\n",
      "5 x 9 = 45\n",
      "5 x 10 = 50\n"
     ]
    }
   ],
   "source": [
    "def generate_multiplication_table():\n",
    "    for i in range(1, 6):\n",
    "        print(f\"Multiplication table for {i}:\")\n",
    "        for j in range(1, 11):\n",
    "            result = i * j\n",
    "            print(f\"{i} x {j} = {result}\")\n",
    "       \n",
    "generate_multiplication_table()"
   ]
  },
  {
   "cell_type": "markdown",
   "id": "7088dd44-d0eb-4bdd-9720-a2d50c38d428",
   "metadata": {},
   "source": [
    "17. Write a program that converts a list of Fahrenheit temperatures to Celsius using a `for` loop."
   ]
  },
  {
   "cell_type": "code",
   "execution_count": 81,
   "id": "d6a9cdc1-7e6d-423f-8ab7-67e1e2727d74",
   "metadata": {},
   "outputs": [
    {
     "name": "stdout",
     "output_type": "stream",
     "text": [
      "[32.111111111111114, 19.444444444444443, 33.333333333333336, 37.22222222222222]\n"
     ]
    }
   ],
   "source": [
    "fahrenhiet = [89.8, 67.0, 92, 99]\n",
    "celcius = []\n",
    "for f in fahrenhiet:\n",
    "    c = (f - 32) * 5 / 9\n",
    "    celcius.append(c)\n",
    "\n",
    "print(celcius)"
   ]
  },
  {
   "cell_type": "markdown",
   "id": "bfcd7cc3-75a3-412c-affb-f25c3b15afd4",
   "metadata": {},
   "source": [
    "18. Create a program to print the common elements from two lists using a `for` loop."
   ]
  },
  {
   "cell_type": "code",
   "execution_count": 90,
   "id": "aacb64be-2b63-4ed8-b9f3-a3b37a9f4fa3",
   "metadata": {},
   "outputs": [
    {
     "name": "stdout",
     "output_type": "stream",
     "text": [
      "Common elements in list1 and list2: [3, 4, 5]\n"
     ]
    }
   ],
   "source": [
    "list1 = [1, 2, 3, 4, 5]\n",
    "list2 = [3, 4, 5, 6, 7]\n",
    "\n",
    "common_ele = []\n",
    "\n",
    "for element in list1:\n",
    "    if element in list2:\n",
    "        common_ele.append(element)\n",
    "print(\"Common elements in list1 and list2:\", common_ele)\n"
   ]
  },
  {
   "cell_type": "markdown",
   "id": "99f17248-8275-4087-ade3-f301ee1ea216",
   "metadata": {},
   "source": [
    "19. Develop a program that prints the pattern of right-angled triangles using a `for` loop. Use ‘*’ to draw the\n",
    "pattern\n"
   ]
  },
  {
   "cell_type": "code",
   "execution_count": 91,
   "id": "e741947a-fbf9-423e-bf8c-c45f8bcdfa7e",
   "metadata": {},
   "outputs": [
    {
     "name": "stdout",
     "output_type": "stream",
     "text": [
      "* \n",
      "* * \n",
      "* * * \n",
      "* * * * \n",
      "* * * * * \n"
     ]
    }
   ],
   "source": [
    "num_rows = 5\n",
    "\n",
    "for i in range(1, num_rows + 1):\n",
    "    for j in range(i):\n",
    "        print('*', end=' ')\n",
    "    print()\n"
   ]
  },
  {
   "cell_type": "markdown",
   "id": "855aa0f5-0e07-467c-88cd-83ac20b7c217",
   "metadata": {},
   "source": [
    "20. Write a program to find the greatest common divisor (GCD) of two numbers using a `for` loop."
   ]
  },
  {
   "cell_type": "code",
   "execution_count": 94,
   "id": "b0f8b7f2-125b-4806-b562-9f19115df12c",
   "metadata": {},
   "outputs": [
    {
     "name": "stdin",
     "output_type": "stream",
     "text": [
      "Enter the first number:  20\n",
      "Enter the second number:  45\n"
     ]
    },
    {
     "name": "stdout",
     "output_type": "stream",
     "text": [
      "The Greatest Common Divisor (GCD) of 20 and 45 is 5\n"
     ]
    }
   ],
   "source": [
    "def find_gcd(a, b):\n",
    "    gcd = 1\n",
    "    for i in range(1, min(a, b) + 1):\n",
    "        if a % i == 0 and b % i == 0:\n",
    "            gcd = i\n",
    "    return gcd\n",
    "\n",
    "n1 = int(input(\"Enter the first number: \"))\n",
    "n2 = int(input(\"Enter the second number: \"))\n",
    "\n",
    "gcd = find_gcd(num1, num2)\n",
    "print(\"The Greatest Common Divisor (GCD) of\", n1, \"and\", n2, \"is\", gcd)"
   ]
  },
  {
   "cell_type": "markdown",
   "id": "d333b9c6-9fb0-4a58-a345-48420e2e9379",
   "metadata": {},
   "source": [
    "21. Create a program that calculates the sum of the digits of numbers in a list using a list comprehension."
   ]
  },
  {
   "cell_type": "code",
   "execution_count": 1,
   "id": "5b3bea91-551e-4b8d-8c8c-7bd053103821",
   "metadata": {},
   "outputs": [
    {
     "name": "stdout",
     "output_type": "stream",
     "text": [
      "40\n"
     ]
    }
   ],
   "source": [
    "list1 = [12, 15, 3, 10]\n",
    "s=[i for i in list1]\n",
    "print(int(sum(s)))"
   ]
  },
  {
   "cell_type": "markdown",
   "id": "e44e11e9-54e5-4de3-b2a9-9e0acea755ad",
   "metadata": {},
   "source": [
    "22. Write a program to find the prime factors of a given number using a `for` loop and list comprehension."
   ]
  },
  {
   "cell_type": "code",
   "execution_count": 15,
   "id": "41a90cc2-1056-4669-b92b-4869a88f87aa",
   "metadata": {},
   "outputs": [
    {
     "name": "stdin",
     "output_type": "stream",
     "text": [
      "Enter a number:  56\n"
     ]
    },
    {
     "name": "stdout",
     "output_type": "stream",
     "text": [
      "Prime factors of 56: [2, 7]\n"
     ]
    }
   ],
   "source": [
    "# Function to find prime factors of a number\n",
    "def prime_factors(number):\n",
    "    fact = [x for x in range(2, number + 1) if number % x == 0]\n",
    "    prime_factors = [factor for factor in fact if all(factor % divisor != 0 for divisor in range(2, factor))]\n",
    "    return prime_factors\n",
    "\n",
    "num = int(input(\"Enter a number: \"))\n",
    "fact = prime_factors(num)\n",
    "print(f\"Prime factors of {num}: {fact}\")\n"
   ]
  },
  {
   "cell_type": "markdown",
   "id": "4aad602b-1428-4a12-b9ca-fdc059454245",
   "metadata": {},
   "source": [
    "23.Develop a program that extracts unique elements from a list and stores them in a new list using a list\n",
    "comprehension."
   ]
  },
  {
   "cell_type": "code",
   "execution_count": 18,
   "id": "6f59adcb-40e2-4948-8dac-7338142795c7",
   "metadata": {},
   "outputs": [
    {
     "name": "stdout",
     "output_type": "stream",
     "text": [
      "Original list: [11, 20, 20, 3, 4, 4, 45, 6, 6]\n",
      "Unique elements: [11, 20, 3, 4, 45, 6]\n"
     ]
    }
   ],
   "source": [
    "list1 = [11, 20, 20, 3, 4, 4, 45, 6, 6]\n",
    "\n",
    "unique_elements = [x for i, x in enumerate(list1) if x not in list1[:i]]\n",
    "\n",
    "print(\"Original list:\", list1)\n",
    "print(\"Unique elements:\", unique_elements)\n"
   ]
  },
  {
   "cell_type": "markdown",
   "id": "bd16d4ea-6a61-481a-819e-90894c30af52",
   "metadata": {},
   "source": [
    "24. Create a program that generates a list of all palindromic numbers up to a specified limit using a list\n",
    "comprehension."
   ]
  },
  {
   "cell_type": "code",
   "execution_count": 21,
   "id": "67da46df-6110-4065-8502-38429000fa07",
   "metadata": {},
   "outputs": [
    {
     "name": "stdin",
     "output_type": "stream",
     "text": [
      "Enter the upper limit:  50\n"
     ]
    },
    {
     "name": "stdout",
     "output_type": "stream",
     "text": [
      "Palindromic Numbers up to 50 are: [0, 1, 2, 3, 4, 5, 6, 7, 8, 9, 11, 22, 33, 44]\n"
     ]
    }
   ],
   "source": [
    "# Function to check if a number is a palindrome\n",
    "def is_palindrome(number):\n",
    "    return str(number) == str(number)[::-1]\n",
    "\n",
    "# Input the upper limit\n",
    "limit = int(input(\"Enter the upper limit: \"))\n",
    "\n",
    "# Generate a list of palindromic numbers up to the specified limit using a list comprehension\n",
    "palindromic_numbers = [num for num in range(limit + 1) if is_palindrome(num)]\n",
    "\n",
    "print(\"Palindromic Numbers up to\", limit, \"are:\", palindromic_numbers)\n"
   ]
  },
  {
   "cell_type": "markdown",
   "id": "44b98dc9-b399-4b82-8ac5-d4e22aea7b6b",
   "metadata": {},
   "source": [
    "25. Write a program to flatten a nested list using list comprehension."
   ]
  },
  {
   "cell_type": "code",
   "execution_count": 23,
   "id": "1f9cefa1-65fa-404c-9dc5-682ac49b4482",
   "metadata": {},
   "outputs": [
    {
     "name": "stdout",
     "output_type": "stream",
     "text": [
      "Original Nested List: [[1, 2, 3], [4, 5], [6, 7, 8]]\n",
      "Flattened List: [1, 2, 3, 4, 5, 6, 7, 8]\n"
     ]
    }
   ],
   "source": [
    "# Function to flatten a nested list using list comprehension\n",
    "def flatten_list(nested_list):\n",
    "    return [item for sublist in nested_list for item in sublist]\n",
    "\n",
    "nested_list = [[1, 2, 3], [4, 5], [6, 7, 8]]\n",
    "flattened_list = flatten_list(nested_list)\n",
    "\n",
    "print(\"Original Nested List:\", nested_list)\n",
    "print(\"Flattened List:\", flattened_list)"
   ]
  },
  {
   "cell_type": "markdown",
   "id": "43a30ca5-29b5-4e8d-b305-e7eb444ed979",
   "metadata": {},
   "source": [
    "26. Develop a program that computes the sum of even and odd numbers in a list separately using list comprehension."
   ]
  },
  {
   "cell_type": "code",
   "execution_count": 24,
   "id": "19be6428-fc21-403c-9e92-21c5b5cd2d3c",
   "metadata": {},
   "outputs": [
    {
     "name": "stdout",
     "output_type": "stream",
     "text": [
      "Original List: [1, 2, 3, 4, 5, 6, 7, 8, 9, 10]\n",
      "Even Numbers: [2, 4, 6, 8, 10]\n",
      "Odd Numbers: [1, 3, 5, 7, 9]\n",
      "Sum of Even Numbers: 30\n",
      "Sum of Odd Numbers: 25\n"
     ]
    }
   ],
   "source": [
    "numbers = [1, 2, 3, 4, 5, 6, 7, 8, 9, 10]\n",
    "\n",
    "even_numbers = [x for x in numbers if x % 2 == 0]\n",
    "odd_numbers = [x for x in numbers if x % 2 != 0]\n",
    "\n",
    "sum_even = sum(even_numbers)\n",
    "sum_odd = sum(odd_numbers)\n",
    "\n",
    "print(\"Original List:\", numbers)\n",
    "print(\"Even Numbers:\", even_numbers)\n",
    "print(\"Odd Numbers:\", odd_numbers)\n",
    "print(\"Sum of Even Numbers:\", sum_even)\n",
    "print(\"Sum of Odd Numbers:\", sum_odd)"
   ]
  },
  {
   "cell_type": "markdown",
   "id": "ed846cbf-1ba8-4db6-b406-d687857d960e",
   "metadata": {},
   "source": [
    "27. Create a program that generates a list of squares of odd numbers between 1 and 10 using list\n",
    "comprehension."
   ]
  },
  {
   "cell_type": "code",
   "execution_count": 28,
   "id": "3347e1b1-4e68-402a-a7e8-f5135746960b",
   "metadata": {},
   "outputs": [
    {
     "name": "stdout",
     "output_type": "stream",
     "text": [
      "Squares of Odd Numbers between 1 and 10: [1, 9, 25, 49, 81]\n"
     ]
    }
   ],
   "source": [
    "squares_of_odd_numbers = [x**2 for x in range(1, 11) if x % 2 != 0]\n",
    "print(\"Squares of Odd Numbers between 1 and 10:\", squares_of_odd_numbers)\n"
   ]
  },
  {
   "cell_type": "markdown",
   "id": "143df967-7099-44e0-a9b8-7b550e24de16",
   "metadata": {},
   "source": [
    "28. Write a program that combines two lists into a dictionary using list comprehension."
   ]
  },
  {
   "cell_type": "code",
   "execution_count": 29,
   "id": "793aecbf-84fd-442d-a588-802060e74f34",
   "metadata": {},
   "outputs": [
    {
     "name": "stdout",
     "output_type": "stream",
     "text": [
      "Combined Dictionary: {'name': 'Alice', 'age': 30, 'city': 'New York'}\n"
     ]
    }
   ],
   "source": [
    "keys = [\"name\", \"age\", \"city\"]\n",
    "values = [\"Alice\", 30, \"New York\"]\n",
    "\n",
    "dict1 = {keys[i]: values[i] for i in range(min(len(keys), len(values)))}\n",
    "\n",
    "print(\"Combined Dictionary:\", dict1)\n"
   ]
  },
  {
   "cell_type": "markdown",
   "id": "11874ee0-2e6e-4608-8a51-03df486713e2",
   "metadata": {},
   "source": [
    "29. Develop a program that extracts the vowels from a string and stores them in a list using list comprehension."
   ]
  },
  {
   "cell_type": "code",
   "execution_count": 30,
   "id": "36833596-d18f-400f-99db-9b1c9f4474e5",
   "metadata": {},
   "outputs": [
    {
     "name": "stdout",
     "output_type": "stream",
     "text": [
      "Original String: Hello, World!\n",
      "Vowels: ['e', 'o', 'o']\n"
     ]
    }
   ],
   "source": [
    "string = \"Hello, World!\"\n",
    "\n",
    "string1 = string.lower()\n",
    "\n",
    "vowels = [char for char in string1 if char in \"aeiou\"]\n",
    "\n",
    "print(\"Original String:\", string)\n",
    "print(\"Vowels:\", vowels)\n"
   ]
  },
  {
   "cell_type": "markdown",
   "id": "5a3a9fa8-2a2a-4700-9810-2b5d9015ed3d",
   "metadata": {},
   "source": [
    "30. Create a program that removes all non-numeric characters from a list of strings using list comprehension."
   ]
  },
  {
   "cell_type": "code",
   "execution_count": 33,
   "id": "2ca21520-1476-4574-9a8c-bf33f7bd5069",
   "metadata": {},
   "outputs": [
    {
     "name": "stdout",
     "output_type": "stream",
     "text": [
      "Original List: ['abc123', '456xyz', '7_8', '9!0']\n",
      "Numeric Strings: ['123', '456', '78', '90']\n"
     ]
    }
   ],
   "source": [
    "str = [\"abc123\", \"456xyz\", \"7_8\", \"9!0\"]\n",
    "\n",
    "# Remove non-numeric characters using list comprehension\n",
    "numerical_string = [''.join(char for char in string if char.isdigit()) for string in str]\n",
    "\n",
    "print(\"Original List:\", str)\n",
    "print(\"Numeric Strings:\", numerical_string)\n"
   ]
  },
  {
   "cell_type": "markdown",
   "id": "46ce5a8e-0dcb-4bdb-9b16-6d205feb249d",
   "metadata": {},
   "source": [
    "31. Write a program to generate a list of prime numbers using the Sieve of Eratosthenes algorithm and list\n",
    "comprehension."
   ]
  },
  {
   "cell_type": "code",
   "execution_count": 34,
   "id": "c740a336-3b42-4dc4-862f-54abc9e28467",
   "metadata": {},
   "outputs": [
    {
     "name": "stdin",
     "output_type": "stream",
     "text": [
      "Enter the upper limit for prime numbers:  20\n"
     ]
    },
    {
     "name": "stdout",
     "output_type": "stream",
     "text": [
      "Prime numbers up to 20 are: [2, 3, 5, 7, 11, 13, 17, 19]\n"
     ]
    }
   ],
   "source": [
    "# Input the upper limit for prime number generation\n",
    "upper_limit = int(input(\"Enter the upper limit for prime numbers: \"))\n",
    "\n",
    "# Create a list of boolean values to represent prime numbers (True means prime)\n",
    "is_prime = [True] * (upper_limit + 1)\n",
    "is_prime[0] = is_prime[1] = False\n",
    "\n",
    "# Implement the Sieve of Eratosthenes algorithm\n",
    "for number in range(2, int(upper_limit**0.5) + 1):\n",
    "    if is_prime[number]:\n",
    "        for multiple in range(number * number, upper_limit + 1, number):\n",
    "            is_prime[multiple] = False\n",
    "\n",
    "prime_numbers = [number for number in range(2, upper_limit + 1) if is_prime[number]]\n",
    "\n",
    "print(\"Prime numbers up to\", upper_limit, \"are:\", prime_numbers)\n"
   ]
  },
  {
   "cell_type": "markdown",
   "id": "c9128368-da3a-4ae3-a9fd-2ba0c9dab67d",
   "metadata": {},
   "source": [
    "32. Create a program that generates a list of all Pythagorean triplets up to a specified limit using list\n",
    "comprehension."
   ]
  },
  {
   "cell_type": "code",
   "execution_count": 35,
   "id": "8d73aa9d-378e-4ff8-8555-f8018e621997",
   "metadata": {},
   "outputs": [
    {
     "name": "stdin",
     "output_type": "stream",
     "text": [
      "Enter the upper limit:  20\n"
     ]
    },
    {
     "name": "stdout",
     "output_type": "stream",
     "text": [
      "Pythagorean Triplets up to 20 are: [(3, 4, 5), (5, 12, 13), (6, 8, 10), (8, 15, 17), (9, 12, 15), (12, 16, 20)]\n"
     ]
    }
   ],
   "source": [
    "limit = int(input(\"Enter the upper limit: \"))\n",
    "\n",
    "# Generate a list of Pythagorean triplets using list comprehension\n",
    "py_triplets = [(a, b, c) for a in range(1, limit + 1) for b in range(a, limit + 1) for c in range(b, limit + 1) if a**2 + b**2 == c**2]\n",
    "\n",
    "# Print the list of Pythagorean triplets\n",
    "print(\"Pythagorean Triplets up to\", limit, \"are:\", py_triplets)\n"
   ]
  },
  {
   "cell_type": "markdown",
   "id": "90210b6c-c331-4618-9abd-a9bb8fbc3683",
   "metadata": {},
   "source": [
    "33. Develop a program that generates a list of all possible combinations of two lists using list comprehension."
   ]
  },
  {
   "cell_type": "code",
   "execution_count": 36,
   "id": "5b47653e-b52a-4f2b-8618-11d88fe76d8f",
   "metadata": {},
   "outputs": [
    {
     "name": "stdout",
     "output_type": "stream",
     "text": [
      "List 1: [1, 2, 3]\n",
      "List 2: ['a', 'b', 'c']\n",
      "Combinations: [(1, 'a'), (1, 'b'), (1, 'c'), (2, 'a'), (2, 'b'), (2, 'c'), (3, 'a'), (3, 'b'), (3, 'c')]\n"
     ]
    }
   ],
   "source": [
    "list1 = [1, 2, 3]\n",
    "list2 = ['a', 'b', 'c']\n",
    "\n",
    "combinations = [(x, y) for x in list1 for y in list2]\n",
    "\n",
    "print(\"List 1:\", list1)\n",
    "print(\"List 2:\", list2)\n",
    "print(\"Combinations:\", combinations)\n"
   ]
  },
  {
   "cell_type": "markdown",
   "id": "d2cf8da2-ad96-41f1-b259-b3f1d486feb8",
   "metadata": {},
   "source": [
    "34. Write a program that calculates the mean, median, and mode of a list of numbers using list\n",
    "comprehension."
   ]
  },
  {
   "cell_type": "code",
   "execution_count": 37,
   "id": "f97f2ad4-f1a8-491f-a4dd-a6b562005269",
   "metadata": {},
   "outputs": [
    {
     "name": "stdout",
     "output_type": "stream",
     "text": [
      "Original List: [1, 2, 2, 3, 4, 4, 5, 6, 6, 7]\n",
      "Mean: 4.0\n",
      "Median: 4.0\n",
      "Mode: [2, 4, 6]\n"
     ]
    }
   ],
   "source": [
    "from collections import Counter\n",
    "import statistics\n",
    "\n",
    "numbers = [1, 2, 2, 3, 4, 4, 5, 6, 6, 7]\n",
    "\n",
    "# Calculate mean using list comprehension\n",
    "mean = sum(numbers) / len(numbers)\n",
    "\n",
    "# Calculate median using list comprehension\n",
    "sorted_numbers = sorted(numbers)\n",
    "middle = len(sorted_numbers) // 2\n",
    "median = (sorted_numbers[middle] + sorted_numbers[-middle - 1]) / 2\n",
    "\n",
    "# Calculate mode using Counter and list comprehension\n",
    "counts = Counter(numbers)\n",
    "max_count = max(counts.values())\n",
    "mode = [num for num, count in counts.items() if count == max_count]\n",
    "\n",
    "# Print the results\n",
    "print(\"Original List:\", numbers)\n",
    "print(\"Mean:\", mean)\n",
    "print(\"Median:\", median)\n",
    "print(\"Mode:\", mode)"
   ]
  },
  {
   "cell_type": "markdown",
   "id": "6226930e-9cd1-41aa-bd85-f4795a5f900f",
   "metadata": {},
   "source": [
    "35. Create a program that generates Pascal's triangle up to a specified number of rows using list\n",
    "comprehension."
   ]
  },
  {
   "cell_type": "code",
   "execution_count": 1,
   "id": "6982ca37-6877-4541-aa04-c022972148c9",
   "metadata": {},
   "outputs": [
    {
     "name": "stdout",
     "output_type": "stream",
     "text": [
      "      1 \n",
      "     1 1 \n",
      "    1 2 1 \n",
      "   1 3 3 1 \n",
      "  1 4 6 4 1 \n"
     ]
    }
   ],
   "source": [
    "# Print Pascal's Triangle in Python\n",
    "from math import factorial\n",
    "\n",
    "# input n\n",
    "n = 5\n",
    "for i in range(n):\n",
    "\tfor j in range(n-i+1):\n",
    "\n",
    "\t\t# for left spacing\n",
    "\t\tprint(end=\" \")\n",
    "\n",
    "\tfor j in range(i+1):\n",
    "\n",
    "\t\t# nCr = n!/((n-r)!*r!)\n",
    "\t\tprint(factorial(i)//(factorial(j)*factorial(i-j)), end=\" \")\n",
    "\n",
    "\t# for new line\n",
    "\tprint()\n",
    "\n"
   ]
  },
  {
   "cell_type": "markdown",
   "id": "13abb430-1b5a-41be-9388-a6bcf35e9c72",
   "metadata": {},
   "source": [
    "36. Develop a program that calculates the sum of the digits of a factorial of numbers from 1 to 5 using list\n",
    "comprehension."
   ]
  },
  {
   "cell_type": "code",
   "execution_count": 2,
   "id": "a0f3d0d2-3c65-4e00-8555-44d77d28660b",
   "metadata": {},
   "outputs": [
    {
     "name": "stdout",
     "output_type": "stream",
     "text": [
      "Factorial of 1 is 1, and the sum of its digits is 1\n",
      "Factorial of 2 is 2, and the sum of its digits is 2\n",
      "Factorial of 3 is 6, and the sum of its digits is 6\n",
      "Factorial of 4 is 24, and the sum of its digits is 6\n",
      "Factorial of 5 is 120, and the sum of its digits is 3\n"
     ]
    }
   ],
   "source": [
    "# Function to calculate factorial of a number\n",
    "def factorial(n):\n",
    "    if n == 0 or n == 1:\n",
    "        return 1\n",
    "    else:\n",
    "        return n * factorial(n - 1)\n",
    "\n",
    "# Calculate the factorial of numbers from 1 to 5 and sum their digits\n",
    "factorials = [factorial(i) for i in range(1, 6)]\n",
    "\n",
    "digit_sums = [sum(map(int, str(f))) for f in factorials]\n",
    "\n",
    "# Display the results\n",
    "for i, factorial_num in enumerate(factorials, start=1):\n",
    "    print(f\"Factorial of {i} is {factorial_num}, and the sum of its digits is {digit_sums[i-1]}\")"
   ]
  },
  {
   "cell_type": "code",
   "execution_count": null,
   "id": "5c53c23f-7c30-4f0b-acd3-a810b9dbf709",
   "metadata": {},
   "outputs": [],
   "source": [
    "37. Write a program that finds the longest word in a sentence using list comprehension."
   ]
  },
  {
   "cell_type": "code",
   "execution_count": 46,
   "id": "10ccd62d-0be4-4dbf-94c6-dd335900da76",
   "metadata": {},
   "outputs": [
    {
     "name": "stdin",
     "output_type": "stream",
     "text": [
      "Enter a sentence:  Make a career and build your dreams\n"
     ]
    },
    {
     "name": "stdout",
     "output_type": "stream",
     "text": [
      "The longest words are: career, dreams\n"
     ]
    }
   ],
   "source": [
    "# Input sentence\n",
    "sentence = input(\"Enter a sentence: \")\n",
    "\n",
    "# Split the sentence into words\n",
    "words = sentence.split()\n",
    "\n",
    "# Use list comprehension to find the longest word(s)\n",
    "longest_words = [word for word in words if len(word) == max(len(word) for word in words)]\n",
    "\n",
    "# Display the result\n",
    "if len(longest_words) == 1:\n",
    "    print(\"The longest word is:\", longest_words[0])\n",
    "else:\n",
    "    print(\"The longest words are:\", \", \".join(longest_words))\n"
   ]
  },
  {
   "cell_type": "code",
   "execution_count": null,
   "id": "8c0859cf-e262-4822-810b-f6197ff17646",
   "metadata": {},
   "outputs": [],
   "source": [
    "38. Create a program that filters a list of strings to include only those with more than three vowels using list\n",
    "comprehension."
   ]
  },
  {
   "cell_type": "code",
   "execution_count": 48,
   "id": "f1c0d046-fc01-47d0-b834-e78398683ce2",
   "metadata": {},
   "outputs": [
    {
     "name": "stdout",
     "output_type": "stream",
     "text": [
      "Strings with more than three vowels: Hello, World!\n"
     ]
    }
   ],
   "source": [
    "# Function to count vowels in a string\n",
    "def count_vowels(string):\n",
    "    vowels = \"aeiouAEIOU\"\n",
    "    return sum(1 for char in string if char in vowels)\n",
    "\n",
    "# List of strings\n",
    "strings = [\"apple\", \"banana\", \"cherry\", \"date\", \"elephant\", \"fig\", \"grape\"]\n",
    "\n",
    "# Use list comprehension to filter strings with more than three vowels\n",
    "filtered_strings = [string for string in strings if count_vowels(string) > 3]\n",
    "\n",
    "# Display the filtered strings\n",
    "print(\"Strings with more than three vowels:\")\n",
    "for string in filtered_strings:\n",
    "    print(string)\n"
   ]
  },
  {
   "cell_type": "code",
   "execution_count": null,
   "id": "93351495-49f0-4866-abea-c2da50a89f59",
   "metadata": {},
   "outputs": [],
   "source": [
    "39. Develop a program that calculates the sum of the digits of numbers from 1 to 1000 using list\n",
    "comprehension."
   ]
  },
  {
   "cell_type": "code",
   "execution_count": 3,
   "id": "ce6d1477-e249-41db-9a98-ed4f454411df",
   "metadata": {},
   "outputs": [
    {
     "name": "stdout",
     "output_type": "stream",
     "text": [
      "The sum of the digits of numbers from 1 to 1000 is: 13501\n"
     ]
    }
   ],
   "source": [
    "# Function to calculate the sum of the digits of a number\n",
    "def sum_of_digits(number):\n",
    "    return sum(int(digit) for digit in str(number))\n",
    "\n",
    "# Use list comprehension to calculate the sum of digits for numbers from 1 to 1000\n",
    "digit_sums = [sum_of_digits(num) for num in range(1, 1001)]\n",
    "\n",
    "# Calculate and display the total sum of all digit sums\n",
    "total_sum = sum(digit_sums)\n",
    "\n",
    "print(\"The sum of the digits of numbers from 1 to 1000 is:\", total_sum)\n"
   ]
  },
  {
   "cell_type": "code",
   "execution_count": null,
   "id": "7fd0ce85-45ad-4c6b-9680-c0f91d7f298a",
   "metadata": {},
   "outputs": [],
   "source": [
    "40. Write a program that generates a list of prime palindromic numbers using list comprehension."
   ]
  },
  {
   "cell_type": "code",
   "execution_count": 4,
   "id": "6b43e4cb-887b-4e95-8c32-50496ace59e3",
   "metadata": {},
   "outputs": [
    {
     "name": "stdout",
     "output_type": "stream",
     "text": [
      "Prime palindromic numbers:\n",
      "[2, 3, 5, 7, 11, 101, 131, 151, 181, 191, 313, 353, 373, 383, 727, 757, 787, 797, 919, 929]\n"
     ]
    }
   ],
   "source": [
    "# Function to check if a number is prime\n",
    "def is_prime(number):\n",
    "    if number <= 1:\n",
    "        return False\n",
    "    if number <= 3:\n",
    "        return True\n",
    "    if number % 2 == 0 or number % 3 == 0:\n",
    "        return False\n",
    "    i = 5\n",
    "    while i * i <= number:\n",
    "        if number % i == 0 or number % (i + 2) == 0:\n",
    "            return False\n",
    "        i += 6\n",
    "    return True\n",
    "\n",
    "# List comprehension to generate palindromic numbers\n",
    "palindromic_numbers = [n for n in range(1, 1000) if str(n) == str(n)[::-1]]\n",
    "\n",
    "# Filter the palindromic numbers to include only prime ones\n",
    "prime_palindromic_numbers = [n for n in palindromic_numbers if is_prime(n)]\n",
    "\n",
    "# Display the list of prime palindromic numbers\n",
    "print(\"Prime palindromic numbers:\")\n",
    "print(prime_palindromic_numbers)\n"
   ]
  },
  {
   "cell_type": "code",
   "execution_count": null,
   "id": "166375d0-f5a0-482a-9bda-be1a40898ce3",
   "metadata": {},
   "outputs": [],
   "source": []
  }
 ],
 "metadata": {
  "kernelspec": {
   "display_name": "Python 3 (ipykernel)",
   "language": "python",
   "name": "python3"
  },
  "language_info": {
   "codemirror_mode": {
    "name": "ipython",
    "version": 3
   },
   "file_extension": ".py",
   "mimetype": "text/x-python",
   "name": "python",
   "nbconvert_exporter": "python",
   "pygments_lexer": "ipython3",
   "version": "3.11.5"
  }
 },
 "nbformat": 4,
 "nbformat_minor": 5
}
