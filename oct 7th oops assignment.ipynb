{
 "cells": [
  {
   "cell_type": "markdown",
   "id": "1016cf87-9546-4d23-9e62-cae65e65c74f",
   "metadata": {},
   "source": [
    "1. Bank Account Create a class representing a bank account with attributes like account number, account holder name, and balance. Implement methods to deposit and withdraw money from the account."
   ]
  },
  {
   "cell_type": "code",
   "execution_count": 7,
   "id": "8946ec2c-3958-41d3-914a-04c031f86fc8",
   "metadata": {},
   "outputs": [
    {
     "name": "stdout",
     "output_type": "stream",
     "text": [
      "Account Number: 098745\n",
      "Account Holder: Lasya\n",
      "Balance: Rs.10000\n",
      "Deposited Rs.500, New balance: Rs10500\n",
      "Withdrew Rs.100, New balance: Rs10400\n",
      "Account Number: 098745\n",
      "Account Holder: Lasya\n",
      "Balance: Rs.10400\n"
     ]
    }
   ],
   "source": [
    "class BankAccount:\n",
    "    def __init__(self, account_number, account_holder_name, balance=0):\n",
    "        self.account_number = account_number\n",
    "        self.account_holder_name = account_holder_name\n",
    "        self.balance = balance\n",
    "\n",
    "    def deposit(self, amount):\n",
    "        if amount > 0:\n",
    "            self.balance += amount\n",
    "            print(f\"Deposited Rs.{amount}, New balance: Rs{self.balance}\")\n",
    "        else:\n",
    "            print(\"Invalid deposit amount. Please enter a positive value.\")\n",
    "\n",
    "    def withdraw(self, amount):\n",
    "        if amount > 0:\n",
    "            if amount <= self.balance:\n",
    "                self.balance -= amount\n",
    "                print(f\"Withdrew Rs.{amount}, New balance: Rs{self.balance}\")\n",
    "            else:\n",
    "                print(\"Insufficient balance.\")\n",
    "        else:\n",
    "            print(\"Invalid withdrawal amount. Please enter a positive value.\")\n",
    "\n",
    "    def get_balance(self):\n",
    "        return self.balance\n",
    "\n",
    "    def display_account_info(self):\n",
    "        print(f\"Account Number: {self.account_number}\")\n",
    "        print(f\"Account Holder: {self.account_holder_name}\")\n",
    "        print(f\"Balance: Rs.{self.balance}\")\n",
    "        \n",
    "if __name__ == \"__main__\":\n",
    "    account = BankAccount(\"098745\", \"Lasya\", 10000)\n",
    "    account.display_account_info()\n",
    "\n",
    "    account.deposit(500)\n",
    "    account.withdraw(100)\n",
    "\n",
    "    account.display_account_info()"
   ]
  },
  {
   "cell_type": "markdown",
   "id": "fca4a770-04c9-4216-8902-16f736b0fc63",
   "metadata": {},
   "source": [
    "2. Employee Management Create a class representing an employee with attributes like employee ID, name, and salary. Implement methods to calculate the yearly bonus and display employee details."
   ]
  },
  {
   "cell_type": "code",
   "execution_count": 18,
   "id": "406988b1-88ab-4b9c-a72c-cf786e3f1a66",
   "metadata": {},
   "outputs": [
    {
     "name": "stdout",
     "output_type": "stream",
     "text": [
      "Employee ID: 101\n",
      "Name: Rakesh\n",
      "Salary: $60,000.00\n",
      "Yearly Bonus: $6,000.00\n"
     ]
    }
   ],
   "source": [
    "class Employee:\n",
    "    def __init__(self,emp_ID,emp_name,emp_salary ):\n",
    "        self.emp_ID = emp_ID\n",
    "        self.emp_name = emp_name\n",
    "        self.emp_salary = emp_salary\n",
    "\n",
    "    def calculate_bonus(self,percentage_bonus):\n",
    "       if percentage_bonus < 0 or percentage_bonus > 100:\n",
    "            raise ValueError(\"Bonus percentage should be between 0 and 100\")\n",
    "       return (percentage_bonus / 100) * self.emp_salary\n",
    "\n",
    "    def display_details(self):\n",
    "        print(f\"Employee ID: {self.emp_ID}\")\n",
    "        print(f\"Name: {self.emp_name}\")\n",
    "        print(f\"Salary: ${self.emp_salary:,.2f}\")\n",
    "\n",
    "if __name__ == \"__main__\":\n",
    "    employee1 = Employee(101, \"Rakesh\", 60000)\n",
    "    \n",
    "    yearly_bonus = employee1.calculate_bonus(10)  # Calculate a 10% bonus\n",
    "    employee1.display_details()\n",
    "    print(f\"Yearly Bonus: ${yearly_bonus:,.2f}\")    \n"
   ]
  },
  {
   "cell_type": "markdown",
   "id": "5c8aca21-df0e-408a-823b-fb9db664bc10",
   "metadata": {},
   "source": [
    "3. Vehicle Rental Create a class representing a vehicle rental system. Implement methods to rent a vehicle, return a vehicle, and display available vehicles."
   ]
  },
  {
   "cell_type": "code",
   "execution_count": 20,
   "id": "dc552cc3-cf42-47b9-8bb3-40457e978054",
   "metadata": {},
   "outputs": [
    {
     "name": "stdout",
     "output_type": "stream",
     "text": [
      "Added Sedan with ID V1 to the system.\n",
      "Added SUV with ID V2 to the system.\n",
      "Added Truck with ID V3 to the system.\n",
      "Available Vehicles:\n",
      "ID: V1, Type: Sedan\n",
      "ID: V2, Type: SUV\n",
      "ID: V3, Type: Truck\n",
      "Rented Sedan with ID V1.\n",
      "Available Vehicles:\n",
      "ID: V2, Type: SUV\n",
      "ID: V3, Type: Truck\n",
      "Returned Sedan with ID V1.\n",
      "Available Vehicles:\n",
      "ID: V2, Type: SUV\n",
      "ID: V3, Type: Truck\n",
      "ID: V1, Type: Sedan\n"
     ]
    }
   ],
   "source": [
    "class VehicleRentalSystem:\n",
    "    def __init__(self):\n",
    "        self.available_vehicles = {}\n",
    "\n",
    "    def add_vehicle(self, vehicle_id, vehicle_type):\n",
    "        \"\"\"Add a vehicle to the rental system.\"\"\"\n",
    "        if vehicle_id in self.available_vehicles:\n",
    "            print(f\"Vehicle with ID {vehicle_id} already exists in the system.\")\n",
    "        else:\n",
    "            self.available_vehicles[vehicle_id] = vehicle_type\n",
    "            print(f\"Added {vehicle_type} with ID {vehicle_id} to the system.\")\n",
    "\n",
    "    def rent_vehicle(self, vehicle_id):\n",
    "        \"\"\"Rent a vehicle from the rental system.\"\"\"\n",
    "        if vehicle_id not in self.available_vehicles:\n",
    "            print(f\"Vehicle with ID {vehicle_id} is not available for rent.\")\n",
    "        else:\n",
    "            vehicle_type = self.available_vehicles.pop(vehicle_id)\n",
    "            print(f\"Rented {vehicle_type} with ID {vehicle_id}.\")\n",
    "\n",
    "    def return_vehicle(self, vehicle_id, vehicle_type):\n",
    "        \"\"\"Return a rented vehicle to the rental system.\"\"\"\n",
    "        if vehicle_id in self.available_vehicles:\n",
    "            print(f\"Vehicle with ID {vehicle_id} is already available for rent.\")\n",
    "        else:\n",
    "            self.available_vehicles[vehicle_id] = vehicle_type\n",
    "            print(f\"Returned {vehicle_type} with ID {vehicle_id}.\")\n",
    "\n",
    "    def display_available_vehicles(self):\n",
    "        \"\"\"Display the available vehicles in the rental system.\"\"\"\n",
    "        if not self.available_vehicles:\n",
    "            print(\"No vehicles are available for rent.\")\n",
    "        else:\n",
    "            print(\"Available Vehicles:\")\n",
    "            for vehicle_id, vehicle_type in self.available_vehicles.items():\n",
    "                print(f\"ID: {vehicle_id}, Type: {vehicle_type}\")\n",
    "\n",
    "if __name__ == \"__main__\":\n",
    "    rental_system = VehicleRentalSystem()\n",
    "\n",
    "    rental_system.add_vehicle(\"V1\", \"Sedan\")\n",
    "    rental_system.add_vehicle(\"V2\", \"SUV\")\n",
    "    rental_system.add_vehicle(\"V3\", \"Truck\")\n",
    "\n",
    "    rental_system.display_available_vehicles()\n",
    "\n",
    "    rental_system.rent_vehicle(\"V1\")\n",
    "    rental_system.display_available_vehicles()\n",
    "\n",
    "    rental_system.return_vehicle(\"V1\", \"Sedan\")\n",
    "    rental_system.display_available_vehicles()\n"
   ]
  },
  {
   "cell_type": "markdown",
   "id": "1d27a41a-dea3-4dbf-b001-3086461fd6c0",
   "metadata": {},
   "source": [
    " 4: Library Catalog Create classes representing a library and a book. Implement methods to add books to the library, borrow books, and display available books."
   ]
  },
  {
   "cell_type": "code",
   "execution_count": 33,
   "id": "d2649e6f-64c0-49f1-8e05-5f4c2180be20",
   "metadata": {},
   "outputs": [
    {
     "name": "stdout",
     "output_type": "stream",
     "text": [
      "Added book with ID B001 to the library.\n",
      "Added book with ID B002 to the library.\n",
      "Added book with ID B003 to the library.\n",
      "Available Books:\n",
      "Book ID: B001, Title: Macbeth, Author: Shakespear, Available: True\n",
      "Book ID: B002, Title: Mein Kampf, Author: Adolf Hitler, Available: True\n",
      "Book ID: B003, Title: Geetanjali, Author: Rabindra Nath Tagore, Available: True\n",
      "Borrowed book with ID B001.\n",
      "Borrowed book with ID B002.\n",
      "Available Books:\n",
      "Book ID: B003, Title: Geetanjali, Author: Rabindra Nath Tagore, Available: True\n"
     ]
    }
   ],
   "source": [
    "class Book:\n",
    "    def __init__(self, title, author, book_id):\n",
    "        self.title = title\n",
    "        self.author = author\n",
    "        self.book_id = book_id\n",
    "        self.is_available = True\n",
    "\n",
    "    def __str__(self):\n",
    "        return f\"Book ID: {self.book_id}, Title: {self.title}, Author: {self.author}, Available: {self.is_available}\"\n",
    "\n",
    "class Library:\n",
    "    def __init__(self):\n",
    "        self.books = {}\n",
    "\n",
    "    def add_book(self, title, author, book_id):\n",
    "        if book_id in self.books:\n",
    "            print(f\"Book with ID {book_id} already exists in the library.\")\n",
    "        else:\n",
    "            book = Book(title, author, book_id)\n",
    "            self.books[book_id] = book\n",
    "            print(f\"Added book with ID {book_id} to the library.\")\n",
    "\n",
    "    def borrow_book(self, book_id):\n",
    "        if book_id not in self.books:\n",
    "            print(f\"Book with ID {book_id} is not available in the library.\")\n",
    "        elif not self.books[book_id].is_available:\n",
    "            print(f\"Book with ID {book_id} is already borrowed.\")\n",
    "        else:\n",
    "            self.books[book_id].is_available = False\n",
    "            print(f\"Borrowed book with ID {book_id}.\")\n",
    "\n",
    "\n",
    "    def display_available_books(self):\n",
    "        available_books = [book for book in self.books.values() if book.is_available]\n",
    "        if not available_books:\n",
    "            print(\"No books are available in the library.\")\n",
    "        else:\n",
    "            print(\"Available Books:\")\n",
    "            for book in available_books:\n",
    "                print(book)\n",
    "\n",
    "if __name__ == \"__main__\":\n",
    "    library = Library()\n",
    "\n",
    "    library.add_book(\"Macbeth\", \"Shakespear\", \"B001\")\n",
    "    library.add_book(\"Mein Kampf\", \"Adolf Hitler\", \"B002\")\n",
    "    library.add_book(\"Geetanjali\", \"Rabindra Nath Tagore\", \"B003\")\n",
    "\n",
    "    library.display_available_books()\n",
    "\n",
    "    library.borrow_book(\"B001\")\n",
    "    library.borrow_book(\"B002\")\n",
    "    library.display_available_books()"
   ]
  },
  {
   "cell_type": "markdown",
   "id": "633be857-d846-4f7b-9ce9-488dd376b8a9",
   "metadata": {},
   "source": [
    "5. Product Inventory Create classes representing a product and an inventory system. Implement methods to add products to the inventory, update product quantity, and display available products."
   ]
  },
  {
   "cell_type": "code",
   "execution_count": 39,
   "id": "93c03f2c-2216-4672-a2e7-e19de9a28731",
   "metadata": {},
   "outputs": [
    {
     "name": "stdout",
     "output_type": "stream",
     "text": [
      "Added product with ID P001 to the inventory.\n",
      "Added product with ID P002 to the inventory.\n",
      "Added product with ID P003 to the inventory.\n",
      "Available Products:\n",
      "Product ID: P001, Name: Laptop, Price: $99989.99, Quantity: 10\n",
      "Product ID: P002, Name: TV, Price: $49549.99, Quantity: 20\n",
      "Product ID: P003, Name: Iphone, Price: $199999.99, Quantity: 15\n",
      "Updated quantity for product with ID P001 to 8.\n",
      "Updated quantity for product with ID P002 to 18.\n",
      "Available Products:\n",
      "Product ID: P001, Name: Laptop, Price: $99989.99, Quantity: 8\n",
      "Product ID: P002, Name: TV, Price: $49549.99, Quantity: 18\n",
      "Product ID: P003, Name: Iphone, Price: $199999.99, Quantity: 15\n"
     ]
    }
   ],
   "source": [
    "class Product:\n",
    "    def __init__(self, product_id, name, price, quantity):\n",
    "        self.product_id = product_id\n",
    "        self.name = name\n",
    "        self.price = price\n",
    "        self.quantity = quantity\n",
    "\n",
    "    def __str__(self):\n",
    "        return f\"Product ID: {self.product_id}, Name: {self.name}, Price: ${self.price:.2f}, Quantity: {self.quantity}\"\n",
    "\n",
    "class InventorySystem:\n",
    "    def __init__(self):\n",
    "        self.products = {}\n",
    "\n",
    "    def add_product(self, product_id, name, price, quantity):\n",
    "        if product_id in self.products:\n",
    "            print(f\"Product with ID {product_id} already exists in the inventory.\")\n",
    "        else:\n",
    "            product = Product(product_id, name, price, quantity)\n",
    "            self.products[product_id] = product\n",
    "            print(f\"Added product with ID {product_id} to the inventory.\")\n",
    "\n",
    "    def update_quantity(self, product_id, new_quantity):\n",
    "        if product_id not in self.products:\n",
    "            print(f\"Product with ID {product_id} is not available in the inventory.\")\n",
    "        else:\n",
    "            self.products[product_id].quantity = new_quantity\n",
    "            print(f\"Updated quantity for product with ID {product_id} to {new_quantity}.\")\n",
    "\n",
    "    def display_available_products(self):\n",
    "        available_products = [product for product in self.products.values() if product.quantity > 0]\n",
    "        if not available_products:\n",
    "            print(\"No products are available in the inventory.\")\n",
    "        else:\n",
    "            print(\"Available Products:\")\n",
    "            for product in available_products:\n",
    "                print(product)\n",
    "\n",
    "if __name__ == \"__main__\":\n",
    "    inventory = InventorySystem()\n",
    "\n",
    "    inventory.add_product(\"P001\", \"Laptop\", 99989.99, 10)\n",
    "    inventory.add_product(\"P002\", \"TV\", 49549.99, 20)\n",
    "    inventory.add_product(\"P003\", \"Iphone\", 199999.99, 15)\n",
    "\n",
    "    inventory.display_available_products()\n",
    "\n",
    "    inventory.update_quantity(\"P001\", 8)\n",
    "    inventory.update_quantity(\"P002\", 18)\n",
    "    inventory.display_available_products()\n"
   ]
  },
  {
   "cell_type": "markdown",
   "id": "b02f92c9-38f5-44e2-9976-072993e6b9c7",
   "metadata": {},
   "source": [
    "6.Shape Calculation Create a class representing a shape with attributes like length, width, and height. Implement methods to calculate the area and perimeter of the shape."
   ]
  },
  {
   "cell_type": "code",
   "execution_count": 44,
   "id": "db4135e6-0aeb-4bd6-8141-704ccae3002f",
   "metadata": {},
   "outputs": [
    {
     "name": "stdout",
     "output_type": "stream",
     "text": [
      "Rectangle Area: 8\n",
      "Rectangle Perimeter: 12\n",
      "Square Area: 9\n",
      "Square Perimeter: 12\n",
      "Triangle Area: 3.897114317029974\n",
      "Triangle Perimeter: 9\n",
      "Circle Area: 78.53981633974483\n",
      "Circle Circumference: 31.41592653589793\n"
     ]
    }
   ],
   "source": [
    "class Shape:\n",
    "    def __init__(self, length, width, height):\n",
    "        self.length = length\n",
    "        self.width = width\n",
    "        self.height = height\n",
    "\n",
    "class Rectangle(Shape):\n",
    "    def calculate_area(self):\n",
    "        return self.length * self.width\n",
    "\n",
    "    def calculate_perimeter(self):\n",
    "        return 2 * (self.length + self.width)\n",
    "\n",
    "class Square(Rectangle):\n",
    "    def __init__(self, side_length):\n",
    "        super().__init__(side_length, side_length, 0)\n",
    "\n",
    "class Triangle(Shape):\n",
    "    def calculate_area(self):\n",
    "        # Using Heron's formula to calculate the area of a triangle\n",
    "        s = (self.length + self.width + self.height) / 2\n",
    "        area = (s * (s - self.length) * (s - self.width) * (s - self.height)) ** 0.5\n",
    "        return area\n",
    "\n",
    "    def calculate_perimeter(self):\n",
    "        return self.length + self.width + self.height\n",
    "\n",
    "class Circle(Shape):\n",
    "    def __init__(self, radius):\n",
    "        super().__init__(radius, 0, 0)\n",
    "\n",
    "    def calculate_area(self):\n",
    "        import math\n",
    "        return math.pi * (self.length ** 2)\n",
    "\n",
    "    def calculate_perimeter(self):\n",
    "        import math\n",
    "        return 2 * math.pi * self.length\n",
    "\n",
    "rectangle = Rectangle(2, 4, 0)\n",
    "print(\"Rectangle Area:\", rectangle.calculate_area())\n",
    "print(\"Rectangle Perimeter:\", rectangle.calculate_perimeter())\n",
    "\n",
    "square = Square(3)\n",
    "print(\"Square Area:\", square.calculate_area())\n",
    "print(\"Square Perimeter:\", square.calculate_perimeter())\n",
    "\n",
    "triangle = Triangle(3, 3, 3)\n",
    "print(\"Triangle Area:\", triangle.calculate_area())\n",
    "print(\"Triangle Perimeter:\", triangle.calculate_perimeter())\n",
    "\n",
    "circle = Circle(5)\n",
    "print(\"Circle Area:\", circle.calculate_area())\n",
    "print(\"Circle Circumference:\", circle.calculate_perimeter())\n"
   ]
  },
  {
   "cell_type": "markdown",
   "id": "8c1659ec-ad93-436d-a440-9c7c8d288938",
   "metadata": {},
   "source": [
    "7. Student Management Create a class representing a student with attributes like student ID, name, and grades. Implement methods to calculate the average grade and display student details."
   ]
  },
  {
   "cell_type": "code",
   "execution_count": 45,
   "id": "b94fc4d9-1390-4524-842d-5fde3654ceae",
   "metadata": {},
   "outputs": [
    {
     "name": "stdout",
     "output_type": "stream",
     "text": [
      "Student ID: 1\n",
      "Name: Rahul\n",
      "Grades: 80, 95, 70, 90, 87, 93\n",
      "Average Grade: 85.83333333333333\n",
      "\n",
      "Student ID: 2\n",
      "Name: Raveena\n",
      "Grades: 85, 98, 95, 60\n",
      "Average Grade: 84.5\n"
     ]
    }
   ],
   "source": [
    "class Student:\n",
    "    def __init__(self, student_id, name, grades=[]):\n",
    "        self.student_id = student_id\n",
    "        self.name = name\n",
    "        self.grades = grades\n",
    "\n",
    "    def add_grade(self, grade):\n",
    "        self.grades.append(grade)\n",
    "\n",
    "    def calculate_average_grade(self):\n",
    "        if not self.grades:\n",
    "            return 0\n",
    "        return sum(self.grades) / len(self.grades)\n",
    "\n",
    "    def display_student_details(self):\n",
    "        print(f\"Student ID: {self.student_id}\")\n",
    "        print(f\"Name: {self.name}\")\n",
    "        print(\"Grades:\", \", \".join(map(str, self.grades)))\n",
    "        print(f\"Average Grade: {self.calculate_average_grade()}\")\n",
    "\n",
    "\n",
    "student1 = Student(1, \"Rahul\", [80, 95, 70, 90])\n",
    "student2 = Student(2, \"Raveena\", [85, 98, 95, 60])\n",
    "student1.add_grade(87)\n",
    "student1.add_grade(93)\n",
    "student1.display_student_details()\n",
    "print()\n",
    "student2.display_student_details()\n"
   ]
  },
  {
   "cell_type": "markdown",
   "id": "8b106b17-5f40-4396-b3ef-30c0cf40e833",
   "metadata": {},
   "source": [
    "8.Email Management Create a class representing an email with attributes like sender, recipient, and subject. Implement methods to send an email and display email details."
   ]
  },
  {
   "cell_type": "code",
   "execution_count": 46,
   "id": "36acd3b0-710c-4b86-ae75-402863f29afa",
   "metadata": {},
   "outputs": [
    {
     "name": "stdout",
     "output_type": "stream",
     "text": [
      "Sender: user@example.com\n",
      "Recipient: recipient@example.com\n",
      "Subject: Regarding Meeting\n",
      "Message:\n",
      "Hi,how are you\n",
      "Sent: No\n",
      "Sender: user@example.com\n",
      "Recipient: recipient@example.com\n",
      "Subject: Regarding Meeting\n",
      "Message:\n",
      "Hi,how are you\n",
      "Sent: Yes\n"
     ]
    }
   ],
   "source": [
    "class Email:\n",
    "    def __init__(self, sender, recipient, subject, message):\n",
    "        self.sender = sender\n",
    "        self.recipient = recipient\n",
    "        self.subject = subject\n",
    "        self.message = message\n",
    "        self.sent = False\n",
    "\n",
    "    def send_email(self):\n",
    "        # You can implement the logic to send the email here.\n",
    "        # For simplicity, we'll just mark it as sent in this example.\n",
    "        self.sent = True\n",
    "\n",
    "    def display_email_details(self):\n",
    "        print(\"Sender:\", self.sender)\n",
    "        print(\"Recipient:\", self.recipient)\n",
    "        print(\"Subject:\", self.subject)\n",
    "        print(\"Message:\")\n",
    "        print(self.message)\n",
    "        print(\"Sent:\", \"Yes\" if self.sent else \"No\")\n",
    "\n",
    "email = Email(\"user@example.com\", \"recipient@example.com\", \"Regarding Meeting\", \"Hi,how are you\")\n",
    "email.display_email_details()\n",
    "\n",
    "email.send_email()\n",
    "email.display_email_details()\n"
   ]
  },
  {
   "cell_type": "markdown",
   "id": "904a01be-d250-4e15-ace0-82782b071bc3",
   "metadata": {},
   "source": [
    "9: Social Media Profile Create a class representing a social media profile with attributes like username and posts. Implement methods to add posts, display posts, and search for posts by keyword."
   ]
  },
  {
   "cell_type": "code",
   "execution_count": 48,
   "id": "7bd4c9ab-e679-40fa-adab-1ca51b54f780",
   "metadata": {},
   "outputs": [
    {
     "name": "stdout",
     "output_type": "stream",
     "text": [
      "Posts by Rahul:\n",
      "1. Chilling.\n",
      "2. Celebrating\n",
      "3. Hiking\n",
      "4. Watching a movie'\n",
      "Posts by Rahul containing 'movie':\n",
      "1. Watching a movie'\n"
     ]
    }
   ],
   "source": [
    "class SocialMediaProfile:\n",
    "    def __init__(self, username):\n",
    "        self.username = username\n",
    "        self.posts = []\n",
    "\n",
    "    def add_post(self, post_content):\n",
    "        self.posts.append(post_content)\n",
    "\n",
    "    def display_posts(self):\n",
    "        if not self.posts:\n",
    "            print(f\"{self.username}'s profile has no posts yet.\")\n",
    "        else:\n",
    "            print(f\"Posts by {self.username}:\")\n",
    "            for i, post in enumerate(self.posts, 1):\n",
    "                print(f\"{i}. {post}\")\n",
    "\n",
    "    def search_posts_by_keyword(self, keyword):\n",
    "        matching_posts = [post for post in self.posts if keyword in post]\n",
    "        if matching_posts:\n",
    "            print(f\"Posts by {self.username} containing '{keyword}':\")\n",
    "            for i, post in enumerate(matching_posts, 1):\n",
    "                print(f\"{i}. {post}\")\n",
    "        else:\n",
    "            print(f\"No posts by {self.username} containing '{keyword}' found.\")\n",
    "\n",
    "profile = SocialMediaProfile(\"Rahul\")\n",
    "\n",
    "profile.add_post(\"Chilling.\")\n",
    "profile.add_post(\"Celebrating\")\n",
    "profile.add_post(\"Hiking\")\n",
    "profile.add_post(\"Watching a movie'\")\n",
    "profile.display_posts()\n",
    "profile.search_posts_by_keyword(\"movie\")\n"
   ]
  },
  {
   "cell_type": "markdown",
   "id": "abf67eaf-64bf-4393-af6f-bd249720ba81",
   "metadata": {},
   "source": [
    "10. ToDo List Create a class representing a ToDo list with attributes like tasks and due dates. Implement methods to add tasks, mark tasks as completed, and display pending tasks."
   ]
  },
  {
   "cell_type": "code",
   "execution_count": 49,
   "id": "d7deb404-3d44-4bcd-9fd0-af0ff314808e",
   "metadata": {},
   "outputs": [
    {
     "name": "stdout",
     "output_type": "stream",
     "text": [
      "Pending Tasks:\n",
      "1. Task: Complete homework, Due Date: 2023-10-30\n",
      "2. Task: Go to the gym, Due Date: 2023-10-27\n"
     ]
    }
   ],
   "source": [
    "class ToDoList:\n",
    "    def __init__(self):\n",
    "        self.tasks = []\n",
    "\n",
    "    def add_task(self, task, due_date):\n",
    "        self.tasks.append({\"task\": task, \"due_date\": due_date, \"completed\": False})\n",
    "\n",
    "    def mark_task_as_completed(self, task):\n",
    "        for t in self.tasks:\n",
    "            if t[\"task\"] == task:\n",
    "                t[\"completed\"] = True\n",
    "\n",
    "    def display_pending_tasks(self):\n",
    "        pending_tasks = [t for t in self.tasks if not t[\"completed\"]]\n",
    "        if pending_tasks:\n",
    "            print(\"Pending Tasks:\")\n",
    "            for i, task in enumerate(pending_tasks, start=1):\n",
    "                print(f\"{i}. Task: {task['task']}, Due Date: {task['due_date']}\")\n",
    "        else:\n",
    "            print(\"No pending tasks.\")\n",
    "\n",
    "todo_list = ToDoList()\n",
    "\n",
    "todo_list.add_task(\"Buy groceries\", \"2023-10-25\")\n",
    "todo_list.add_task(\"Complete homework\", \"2023-10-30\")\n",
    "todo_list.add_task(\"Go to the gym\", \"2023-10-27\")\n",
    "\n",
    "todo_list.mark_task_as_completed(\"Buy groceries\")\n",
    "\n",
    "todo_list.display_pending_tasks()\n"
   ]
  }
 ],
 "metadata": {
  "kernelspec": {
   "display_name": "Python 3 (ipykernel)",
   "language": "python",
   "name": "python3"
  },
  "language_info": {
   "codemirror_mode": {
    "name": "ipython",
    "version": 3
   },
   "file_extension": ".py",
   "mimetype": "text/x-python",
   "name": "python",
   "nbconvert_exporter": "python",
   "pygments_lexer": "ipython3",
   "version": "3.11.5"
  }
 },
 "nbformat": 4,
 "nbformat_minor": 5
}
