{
 "cells": [
  {
   "cell_type": "code",
   "execution_count": 1,
   "id": "2222d108-2e9a-4a64-822c-2b1eedffef24",
   "metadata": {},
   "outputs": [
    {
     "name": "stdout",
     "output_type": "stream",
     "text": [
      "x,y :10and20\n",
      "x,y :20and10\n"
     ]
    }
   ],
   "source": [
    "x =10\n",
    "y =20\n",
    "def swap_var(x,y):\n",
    "    print(f\"x,y :{x}and{y}\")\n",
    "    x,y =y,x\n",
    "    print(f\"x,y :{x}and{y}\")\n",
    "        \n",
    "swap_var(x,y)"
   ]
  },
  {
   "cell_type": "code",
   "execution_count": 4,
   "id": "4d26ced2",
   "metadata": {},
   "outputs": [
    {
     "name": "stdout",
     "output_type": "stream",
     "text": [
      "Area of rectangle:  100.0\n"
     ]
    }
   ],
   "source": [
    "l =float(input(\"enter length\"))\n",
    "w =float(input(\"enter width\"))\n",
    "\n",
    "area = l * w\n",
    "\n",
    "print(\"Area of rectangle: \", area)"
   ]
  },
  {
   "cell_type": "code",
   "execution_count": 5,
   "id": "e45d6266",
   "metadata": {},
   "outputs": [
    {
     "name": "stdout",
     "output_type": "stream",
     "text": [
      "The temperature in Fahrenheit is 68.0\n"
     ]
    }
   ],
   "source": [
    "temp = float(input(\"enter the temperature in celcius\"))\n",
    "converted_temp = (temp* 9/5) +32\n",
    "print(\"The temperature in Fahrenheit is\" ,converted_temp)"
   ]
  },
  {
   "cell_type": "code",
   "execution_count": 8,
   "id": "2d406de2",
   "metadata": {},
   "outputs": [
    {
     "data": {
      "text/plain": [
       "11"
      ]
     },
     "execution_count": 8,
     "metadata": {},
     "output_type": "execute_result"
    }
   ],
   "source": [
    "str = input(\"enter string\")\n",
    "len(str)"
   ]
  },
  {
   "cell_type": "code",
   "execution_count": 35,
   "id": "7f36cca0",
   "metadata": {},
   "outputs": [
    {
     "name": "stdout",
     "output_type": "stream",
     "text": [
      "the number of vowels is 6\n"
     ]
    }
   ],
   "source": [
    "sentence =input(\"enter the string\")\n",
    "\n",
    "vowel_count =0\n",
    "\n",
    "for char in sentence:\n",
    "    low_sent =char.lower()\n",
    "\n",
    "    if char in \"aeiou\":\n",
    "       \n",
    "       vowel_count += 1\n",
    "    \n",
    "print(\"the number of vowels is\" ,vowel_count)     "
   ]
  },
  {
   "cell_type": "code",
   "execution_count": 36,
   "id": "ad8439a2",
   "metadata": {},
   "outputs": [
    {
     "name": "stdout",
     "output_type": "stream",
     "text": [
      "the reversed string is uoy era woh\n"
     ]
    }
   ],
   "source": [
    "str = input(\"enter a string\")\n",
    "rev_str = str[::-1]\n",
    "print(\"the reversed string is\",rev_str)"
   ]
  },
  {
   "cell_type": "code",
   "execution_count": 22,
   "id": "e651a6cd",
   "metadata": {},
   "outputs": [
    {
     "name": "stdout",
     "output_type": "stream",
     "text": [
      "The updated string malayalam\n",
      "The string is a palindrome.\n"
     ]
    }
   ],
   "source": [
    "input_string = input(\"Enter a string: \")\n",
    "\n",
    "str1= input_string.replace(\" \", \"\").lower()\n",
    "print(\"The updated string\", str1)\n",
    "\n",
    "rev_str = str1[::-1]\n",
    "\n",
    "if (str1== rev_str):\n",
    "    print(\"The string is a palindrome.\")\n",
    "else:\n",
    "    print(\"The string is not a palindrome.\")"
   ]
  },
  {
   "cell_type": "code",
   "execution_count": 43,
   "id": "d1bc548c",
   "metadata": {},
   "outputs": [
    {
     "name": "stdout",
     "output_type": "stream",
     "text": [
      "new string without spaces: howoldareyou\n"
     ]
    }
   ],
   "source": [
    "input_string = input(\"Enter a string: \")\n",
    "\n",
    "new_string = \"\"\n",
    "\n",
    "for char in input_string:\n",
    "    \n",
    "    if char != \" \":\n",
    "        new_string += char\n",
    "\n",
    "print(\"new string without spaces:\", new_string)"
   ]
  },
  {
   "cell_type": "code",
   "execution_count": null,
   "id": "7c5830e9",
   "metadata": {},
   "outputs": [],
   "source": []
  }
 ],
 "metadata": {
  "kernelspec": {
   "display_name": "Python 3 (ipykernel)",
   "language": "python",
   "name": "python3"
  },
  "language_info": {
   "codemirror_mode": {
    "name": "ipython",
    "version": 3
   },
   "file_extension": ".py",
   "mimetype": "text/x-python",
   "name": "python",
   "nbconvert_exporter": "python",
   "pygments_lexer": "ipython3",
   "version": "3.11.5"
  }
 },
 "nbformat": 4,
 "nbformat_minor": 5
}
