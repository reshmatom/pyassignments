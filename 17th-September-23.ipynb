{
 "cells": [
  {
   "cell_type": "code",
   "execution_count": null,
   "id": "d7c972ed-d701-4901-8877-0c762b40aa2c",
   "metadata": {},
   "outputs": [],
   "source": [
    "1. Write a Python program to print numbers from 1 to 10 using a for loop."
   ]
  },
  {
   "cell_type": "code",
   "execution_count": 5,
   "id": "ac431b5a-fed2-4dfd-b416-66e089b8c882",
   "metadata": {},
   "outputs": [
    {
     "name": "stdout",
     "output_type": "stream",
     "text": [
      "1\n",
      "2\n",
      "3\n",
      "4\n",
      "5\n",
      "6\n",
      "7\n",
      "8\n",
      "9\n",
      "10\n"
     ]
    }
   ],
   "source": [
    "for i in range(1,11):\n",
    "    print (i)"
   ]
  },
  {
   "cell_type": "markdown",
   "id": "dac7db3b-63ee-428c-b30b-e419b9118661",
   "metadata": {},
   "source": [
    "2. Explain the difference between a for loop and a while loop in Python.\n"
   ]
  },
  {
   "cell_type": "markdown",
   "id": "54f692ef-9ee8-4398-876e-6e11270f4439",
   "metadata": {},
   "source": [
    "For loop:\n",
    "For loop is used to iterate over a sequence of items.\n",
    "For loops are designed for iterating over a sequence of items. Eg. list, tuple, etc.\n",
    "\n",
    "While loop:\n",
    "While loop is used to repeatedly execute a block of statements while a condition is true.\n",
    "While loop is used when the number of iterations is not known in advance or when we want to repeat a block of code until a certain condition is met."
   ]
  },
  {
   "cell_type": "markdown",
   "id": "abce7bea-2c02-42be-847e-a57da7f3dc7f",
   "metadata": {},
   "source": [
    "3. Write a Python program to calculate the sum of all numbers from 1 to 100 using a for loop.\n"
   ]
  },
  {
   "cell_type": "code",
   "execution_count": 15,
   "id": "8cd8fcd7-b2d7-4ab6-bd95-bd08e4fc7b4c",
   "metadata": {},
   "outputs": [
    {
     "name": "stdout",
     "output_type": "stream",
     "text": [
      "5050\n"
     ]
    }
   ],
   "source": [
    "sum = 0\n",
    "for i in range(1, 101):\n",
    "    sum = sum + i\n",
    "\n",
    "print(sum)"
   ]
  },
  {
   "cell_type": "markdown",
   "id": "0832e596-3aa8-4e31-a98e-effbb367ffed",
   "metadata": {},
   "source": [
    "4. How do you iterate through a list using a for loop in Python?\n"
   ]
  },
  {
   "cell_type": "markdown",
   "id": "d43bd595-3a05-4cc9-9c61-49c5cd4da745",
   "metadata": {},
   "source": [
    "my_list = [1, 2, 3, 4, 5]\n",
    "\n",
    "for item in my_list:\n",
    "    # Code to be executed for each item in the list\n",
    "    print(item)\n",
    "\n",
    "In this example, we have a list called my_list containing integers.\n",
    "The for loop iterates through each item in the list one by one, and for each iteration, the variable 'item' takes on the value of the current item in the list."
   ]
  },
  {
   "cell_type": "markdown",
   "id": "5e65776e-4f27-48bc-9b1a-819155b15c58",
   "metadata": {},
   "source": [
    "5. Write a Python program to find the product of all elements in a list using a for loop.\n"
   ]
  },
  {
   "cell_type": "code",
   "execution_count": 28,
   "id": "cc1acb67-88ed-4dfb-9642-921e0bd561fa",
   "metadata": {},
   "outputs": [
    {
     "name": "stdout",
     "output_type": "stream",
     "text": [
      "120\n"
     ]
    }
   ],
   "source": [
    "def multiplyList(myList):\n",
    "\n",
    "\tresult = 1\n",
    "\tfor x in myList:\n",
    "\t\tresult = result * x\n",
    "\treturn result\n",
    "\n",
    "list1 = [1, 2, 3,4,5]\n",
    "\n",
    "print(multiplyList(list1))"
   ]
  },
  {
   "cell_type": "markdown",
   "id": "94a315b4-31be-4925-a531-e14fd2a79a44",
   "metadata": {},
   "source": [
    "6. Create a Python program that prints all even numbers from 1 to 20 using a for loop.\n"
   ]
  },
  {
   "cell_type": "code",
   "execution_count": 33,
   "id": "b6fc5174-7e5d-490c-ae76-c41ecef466e9",
   "metadata": {},
   "outputs": [
    {
     "name": "stdout",
     "output_type": "stream",
     "text": [
      "2\n",
      "4\n",
      "6\n",
      "8\n",
      "10\n",
      "12\n",
      "14\n",
      "16\n",
      "18\n",
      "20\n"
     ]
    }
   ],
   "source": [
    "for i in range(1,21):\n",
    "    if i%2 == 0:\n",
    "        print(i)\n",
    "    "
   ]
  },
  {
   "cell_type": "markdown",
   "id": "24342ab5-e6b9-4c4d-9620-5402d0c19be8",
   "metadata": {},
   "source": [
    "7. Write a Python program that calculates the factorial of a number using a for loop.\n"
   ]
  },
  {
   "cell_type": "code",
   "execution_count": 39,
   "id": "cd4e09c5-2a09-41ce-a223-5f82abbb8a58",
   "metadata": {},
   "outputs": [
    {
     "name": "stdin",
     "output_type": "stream",
     "text": [
      "enter a number:  4\n"
     ]
    },
    {
     "name": "stdout",
     "output_type": "stream",
     "text": [
      "factorial of  4  is  24\n"
     ]
    }
   ],
   "source": [
    "num = int(input(\"enter a number: \"))\n",
    "fact = 1\n",
    " \n",
    "for i in range(1, num + 1):\n",
    "    fact = fact * i\n",
    " \n",
    "print(\"factorial of \", num, \" is \", fact)"
   ]
  },
  {
   "cell_type": "markdown",
   "id": "49e1e40a-f5ec-4803-984c-515163236e1a",
   "metadata": {},
   "source": [
    "8. How can you iterate through the characters of a string using a for loop in Python?"
   ]
  },
  {
   "cell_type": "markdown",
   "id": "dc98f47f-0710-44e1-a5ad-7f69da716400",
   "metadata": {},
   "source": [
    "There are many ways to iterate through the characters of a string.Some of them are slice(),enumerate(),range(),reverse(),map() etc.\n"
   ]
  },
  {
   "cell_type": "markdown",
   "id": "4000737f-d892-4a9a-a800-60ef56995feb",
   "metadata": {},
   "source": [
    "9.Write a Python program to find the largest number in a list using a for loop.\r\n"
   ]
  },
  {
   "cell_type": "code",
   "execution_count": 44,
   "id": "7eb3743d-4909-4517-986e-67b0092fa65d",
   "metadata": {},
   "outputs": [
    {
     "name": "stdout",
     "output_type": "stream",
     "text": [
      "the largest number in the array is:  100\n"
     ]
    }
   ],
   "source": [
    "list =[10,3,56,45,20,34,45,100]\n",
    "lg_num= list[0] #assuming the first one in the list is the largest\n",
    "for number in list:\n",
    "    if number> lg_num:\n",
    "        lg_num = number\n",
    "\n",
    "print(\"the largest number in the array is: \",lg_num)\n",
    "    \n",
    "    "
   ]
  },
  {
   "cell_type": "markdown",
   "id": "8c480960-a14c-46f1-81c6-477c41df2ce0",
   "metadata": {},
   "source": [
    "10. Create a Python program that prints the Fibonacci sequence up to a specified limit using a for loop.\n"
   ]
  },
  {
   "cell_type": "code",
   "execution_count": 47,
   "id": "cc6af30e-c76a-4003-a512-310090b981e0",
   "metadata": {},
   "outputs": [
    {
     "name": "stdout",
     "output_type": "stream",
     "text": [
      "1\n",
      "2\n",
      "3\n",
      "5\n",
      "8\n",
      "13\n",
      "21\n"
     ]
    }
   ],
   "source": [
    "limit=9\n",
    "a=0\n",
    "b=1          # Initialize the first two numbers in the sequence\n",
    "\n",
    "for i in range(2, limit):\n",
    "    next = a+b         # Calculate the next Fibonacci number\n",
    "    print(next)\n",
    "    a,b =b,next       # Update the values of a and b for the next iteration\n",
    "\n"
   ]
  },
  {
   "cell_type": "markdown",
   "id": "54bcace3-9f71-43e8-bee1-29fbd9481e86",
   "metadata": {},
   "source": [
    "11. Write a Python program to count the number of vowels in a given string using a for loop."
   ]
  },
  {
   "cell_type": "code",
   "execution_count": 48,
   "id": "0d274dec-eb84-4676-abdd-5917228a21ff",
   "metadata": {},
   "outputs": [
    {
     "name": "stdout",
     "output_type": "stream",
     "text": [
      "the number of vowels in the given string are: 13\n"
     ]
    }
   ],
   "source": [
    "str = \"THERE is no other way to tackle the problem\"\n",
    "new_str = str.lower()\n",
    "vowel_count = 0\n",
    "vowels =\"aeiou\"\n",
    "\n",
    "for char in new_str:\n",
    "    if char in vowels:\n",
    "        vowel_count +=1\n",
    "\n",
    "print(\"the number of vowels in the given string are:\",vowel_count)"
   ]
  },
  {
   "cell_type": "markdown",
   "id": "0e12680a-5313-492d-b0e6-0a631816d99c",
   "metadata": {},
   "source": [
    "12. Create a Python program that generates a multiplication table for a given number using a for loop"
   ]
  },
  {
   "cell_type": "code",
   "execution_count": 59,
   "id": "44f2e23c-196e-44a0-840d-08d36cf45316",
   "metadata": {},
   "outputs": [
    {
     "name": "stdout",
     "output_type": "stream",
     "text": [
      "10 x 1 = 10\n",
      "10 x 2 = 20\n",
      "10 x 3 = 30\n",
      "10 x 4 = 40\n",
      "10 x 5 = 50\n",
      "10 x 6 = 60\n",
      "10 x 7 = 70\n",
      "10 x 8 = 80\n",
      "10 x 9 = 90\n",
      "10 x 10 = 100\n"
     ]
    }
   ],
   "source": [
    "num = 10\n",
    "limit =10\n",
    " \n",
    "for i in range(1, limit+ 1):\n",
    "    result = num * i\n",
    "    print(f\"{num} x {i} = {result}\")\n"
   ]
  },
  {
   "cell_type": "markdown",
   "id": "76a3fc44-8477-4ebe-9b88-41a4523519ce",
   "metadata": {},
   "source": [
    "13. Write a Python program to reverse a list using a for loop.\n"
   ]
  },
  {
   "cell_type": "code",
   "execution_count": 72,
   "id": "2ae8f351-a84e-4aa5-9d5f-a0c1443894a1",
   "metadata": {},
   "outputs": [
    {
     "name": "stdout",
     "output_type": "stream",
     "text": [
      "[15, 14, 13, 12, 11, 10]\n"
     ]
    }
   ],
   "source": [
    "lst = [10, 11, 12, 13, 14, 15]\n",
    "l = [] \n",
    "\n",
    "for i in lst:\n",
    "\t# reversing the list\n",
    "\tl.insert(0, i)\n",
    "print(l)\n"
   ]
  },
  {
   "cell_type": "markdown",
   "id": "d9643343-fe29-4318-a869-f10ffceccd72",
   "metadata": {},
   "source": [
    "14. Write a Python program to find the common elements between two lists using a for loop."
   ]
  },
  {
   "cell_type": "code",
   "execution_count": 85,
   "id": "dd59d1f2-3847-4af8-bd66-0407eb803090",
   "metadata": {},
   "outputs": [
    {
     "name": "stdout",
     "output_type": "stream",
     "text": [
      "the common elements are:  [10, 45, 7, 'any']\n"
     ]
    }
   ],
   "source": [
    "list1= [10,45,7,52,56,2,'any']\n",
    "list2= [10,7,51,20,45,11,'any']\n",
    "common_elements = []\n",
    "\n",
    "for ele in list1:\n",
    "    if ele in list2:\n",
    "       common_elements.append(ele)\n",
    "\n",
    "print(\"the common elements are: \",common_elements)\n"
   ]
  },
  {
   "cell_type": "markdown",
   "id": "cc22b081-fea3-47f0-9611-f48da1ccef38",
   "metadata": {},
   "source": [
    "15. Explain how to use a for loop to iterate through the keys and values of a dictionary in Python.\n"
   ]
  },
  {
   "cell_type": "raw",
   "id": "56c9b231-43ab-4871-9f00-3315ec90d6f5",
   "metadata": {},
   "source": [
    "we can use for loop to iterate through a dictionary with the help of items() method of the dictionary.\n",
    "This method returns a sequence of tuples, where each tuple contains a key-value pair.\n",
    "Here is an example:\n",
    "# Define a sample dictionary\n",
    "my_dict = {'name': 'Angel', 'age': 30, 'city': 'Pune'}\n",
    "\n",
    "# Iterate through the keys and values of the dictionary\n",
    "for key, value in my_dict.items():\n",
    "    print(f\"Key: {key}, Value: {value}\")\n",
    "\n",
    "the output is: \n",
    "Key: name, Value: Angel\n",
    "Key: age, Value: 30\n",
    "Key: city, Value: Pune\n",
    "Here we are defining a dictionary ,my_dict and then iterating through the values using for loop\n",
    "The items() method of the dictionary returns a sequence of key-value pairs as tuples.\n",
    "In each iteration of the loop, we unpack the tuple into key and value variables, which allows us to access both the key and the associated value.\n",
    "Inside the loop, we print the key and value."
   ]
  },
  {
   "cell_type": "raw",
   "id": "1bc7f0f3-276d-4390-912b-7a3aabcbc4a7",
   "metadata": {},
   "source": [
    "16. Write a Python program to find the GCD (Greatest Common Divisor) of two numbers using a for loop.\n"
   ]
  },
  {
   "cell_type": "code",
   "execution_count": 88,
   "id": "50791cca-c536-4a63-96e7-9e642b8e2270",
   "metadata": {},
   "outputs": [
    {
     "name": "stdout",
     "output_type": "stream",
     "text": [
      "The GCD of 10 and 20 is 10\n"
     ]
    }
   ],
   "source": [
    "num1 = 10\n",
    "num2 = 20\n",
    "common_divisors =[]\n",
    "\n",
    "for i in range(1, min(a, b) + 1):\n",
    "        if a % i == 0 and b % i == 0:\n",
    "            common_divisors.append(i)\n",
    "\n",
    "print(f\"The GCD of {num1} and {num2} is {result}\")"
   ]
  },
  {
   "cell_type": "markdown",
   "id": "59bd80bd-b08e-44b2-86bd-9d3df60dbcde",
   "metadata": {},
   "source": [
    "17. Create a Python program that checks if a string is a palindrome using a for loop.\n"
   ]
  },
  {
   "cell_type": "code",
   "execution_count": 135,
   "id": "057f3244-8d77-4265-9afc-87739184d20e",
   "metadata": {},
   "outputs": [
    {
     "name": "stdin",
     "output_type": "stream",
     "text": [
      "Enter a word:  madam\n"
     ]
    },
    {
     "name": "stdout",
     "output_type": "stream",
     "text": [
      "madam is a palindrome\n"
     ]
    }
   ],
   "source": [
    "# input word \n",
    "word = input(\"Enter a word: \")\n",
    "\n",
    "# make it case-INsensitive\n",
    "word = word.lower()\n",
    "\n",
    "# check word against it's reverse\n",
    "if word == word[::-1]:\n",
    "    print(word, \"is a palindrome\")\n",
    "else:\n",
    "    print(word, \"is not a palindrome\")"
   ]
  },
  {
   "cell_type": "markdown",
   "id": "d2da4550-30ea-4af4-91bf-2baa2ae4742b",
   "metadata": {},
   "source": [
    "18. Write a Python program to remove duplicates from a list using a for loop.\n"
   ]
  },
  {
   "cell_type": "code",
   "execution_count": 152,
   "id": "fe2e1b13-4a7c-4d67-b8c6-ed88f828dd3f",
   "metadata": {},
   "outputs": [
    {
     "name": "stdout",
     "output_type": "stream",
     "text": [
      "[1, 2, 3, 4, 5, 6]\n"
     ]
    }
   ],
   "source": [
    "my_list = [1,2,2,3,1,4,5,1,2,6]\n",
    "myFinallist = []\n",
    "for i in my_list:\n",
    "    if i not in myFinallist:\n",
    "       myFinallist.append(i)\n",
    "print(myFinallist)"
   ]
  },
  {
   "cell_type": "markdown",
   "id": "810e359a-5fed-4512-b797-9715ddcb26d7",
   "metadata": {},
   "source": [
    "19. Create a Python program that counts the number of words in a sentence using a for loop.\n"
   ]
  },
  {
   "cell_type": "code",
   "execution_count": 158,
   "id": "0846e2a0-778a-4132-abd0-42f3bb31933b",
   "metadata": {},
   "outputs": [
    {
     "name": "stdout",
     "output_type": "stream",
     "text": [
      "Number of words: 5\n"
     ]
    }
   ],
   "source": [
    "sentence = \"this is a python program\"\n",
    "words_count = 0\n",
    "for i in sentence:\n",
    "    if i == \" \" or i == \"\\t\" or i == \"\\n\":\n",
    "        words_count += 1\n",
    "if len(sentence) > 0:\n",
    "    print(\"Number of words:\", words_count + 1)\n",
    "else:\n",
    "    print(\"Number of words: \",words_count)\n",
    "\n",
    "#Initialize a counter that will trace the number of words in the given string.\n",
    "#Use a for loop to iterate across all the characters of the given string.\n",
    "#As soon as a space or a tab or a new line character is found, increment the counter variable.\n",
    "#Finally, check if the given string is empty or not:\n",
    "#If the given string is empty, display 0 as the output since it has no characters.\n",
    "#If the string is not empty, display the result such that the number of word counts will be given by incrementing the calculated value of the counter by 1.\n",
    "#This is because if a certain string has three words, then it will be separated by two spaces.Hence, the number of words is always one more than the number of spaces in the given sentence.'''"
   ]
  },
  {
   "cell_type": "markdown",
   "id": "17938ec9-ad62-4c30-a4b5-a60b39b8821e",
   "metadata": {},
   "source": [
    "20. Write a Python program to find the sum of all odd numbers from 1 to 50 using a for loop."
   ]
  },
  {
   "cell_type": "code",
   "execution_count": 161,
   "id": "61c01025-cb2a-40b6-a58c-5e5365a00cdd",
   "metadata": {},
   "outputs": [
    {
     "name": "stdout",
     "output_type": "stream",
     "text": [
      "625\n"
     ]
    }
   ],
   "source": [
    "sum_of_odd =0\n",
    "for number in range(1,51):\n",
    "    if number %2!=0 :\n",
    "       sum_of_odd += number  ## Add the odd number to the sum\n",
    "\n",
    "print(sum_of_odd)"
   ]
  },
  {
   "cell_type": "markdown",
   "id": "d8403ee8-4085-45a1-aca1-0ab9d155ea08",
   "metadata": {},
   "source": [
    "21. Write a Python program that checks if a given year is a leap year using a for loop.\n"
   ]
  },
  {
   "cell_type": "code",
   "execution_count": 182,
   "id": "95584a35-56f5-41bc-a9ad-3171b998f794",
   "metadata": {},
   "outputs": [
    {
     "name": "stdout",
     "output_type": "stream",
     "text": [
      "2012 is a leap year.\n"
     ]
    }
   ],
   "source": [
    "# Get the year from the user\n",
    "year = int(2012)\n",
    "\n",
    "# Initialize a boolean flag to check if the year is a leap year\n",
    "is_leap = False\n",
    "\n",
    "# Use a for loop to check if the year is a leap year\n",
    "for _ in range(4):\n",
    "    if year % 4 == 0 and (year % 100 != 0 or year % 400 == 0):\n",
    "        is_leap = True\n",
    "        break\n",
    "    year += 1\n",
    "\n",
    "# Print the result\n",
    "if is_leap:\n",
    "    print(f\"{year} is a leap year.\")\n",
    "else:\n",
    "    print(f\"{year} is not a leap year.\")\n"
   ]
  },
  {
   "cell_type": "markdown",
   "id": "5e71d7af-5c6c-4ed3-bd18-783c67436f9a",
   "metadata": {},
   "source": [
    "22. Create a Python program that calculates the square root of a number using a for loop.\n"
   ]
  },
  {
   "cell_type": "code",
   "execution_count": 180,
   "id": "87bf9858-c288-4248-be13-4357cf1b6bb3",
   "metadata": {},
   "outputs": [
    {
     "name": "stdout",
     "output_type": "stream",
     "text": [
      " the squareroot of 8 is 2.8284271247461903\n",
      " the squareroot of 24 is 4.898979485566356\n",
      " the squareroot of 16 is 4.0\n",
      " the squareroot of 81 is 9.0\n",
      " the squareroot of 9 is 3.0\n"
     ]
    }
   ],
   "source": [
    "list =[8,24,16,81,9]\n",
    "for n in list:\n",
    "    sqrt= n**0.5\n",
    "    print(f\" the squareroot of {n} is\", sqrt)"
   ]
  },
  {
   "cell_type": "markdown",
   "id": "8bde7f8f-15ad-447a-9970-99335c17a645",
   "metadata": {},
   "source": [
    "23. Write a Python program to find the LCM (Least Common Multiple) of two numbers using a for loop."
   ]
  },
  {
   "cell_type": "code",
   "execution_count": 194,
   "id": "1f910fe0-bb4a-40f9-8379-f2802563b964",
   "metadata": {},
   "outputs": [
    {
     "name": "stdout",
     "output_type": "stream",
     "text": [
      "LCM of 12 and 14 is 84\n"
     ]
    }
   ],
   "source": [
    "num1 = 12\n",
    "num2 = 14\n",
    "for i in range(max(num1, num2), 1 + (num1 * num2)):\n",
    "    if i % num1 == i % num2 == 0:\n",
    "        lcm = i\n",
    "        break\n",
    "print(\"LCM of\", num1, \"and\", num2, \"is\", lcm)\n"
   ]
  },
  {
   "cell_type": "raw",
   "id": "64722650-1e4d-4380-a723-16324e4b1307",
   "metadata": {},
   "source": [
    "If else :\r\n"
   ]
  },
  {
   "cell_type": "markdown",
   "id": "d3689f4c-899b-4cb7-828b-66a839f0607d",
   "metadata": {},
   "source": [
    "1. Write a Python program to check if a number is positive, negative, or zero using an if-else statement."
   ]
  },
  {
   "cell_type": "code",
   "execution_count": 198,
   "id": "6df484ce-5d44-491b-b8af-7d411ff2cc53",
   "metadata": {},
   "outputs": [
    {
     "name": "stdin",
     "output_type": "stream",
     "text": [
      "Enter the number: -2\n"
     ]
    },
    {
     "name": "stdout",
     "output_type": "stream",
     "text": [
      "the number is negative\n"
     ]
    }
   ],
   "source": [
    "n= float(input(\"Enter the number:\"))\n",
    "if n>0:\n",
    "    print(\"the number is positive\")\n",
    "elif n==0:\n",
    "    print(\"the number is zero\")\n",
    "else:\n",
    "    print(\"the number is negative\")\n",
    "\n"
   ]
  },
  {
   "cell_type": "markdown",
   "id": "25122a17-a19a-4357-8d7a-419464475469",
   "metadata": {},
   "source": [
    "2. Create a Python program that checks if a given number is even or odd using an if-else statement."
   ]
  },
  {
   "cell_type": "code",
   "execution_count": 202,
   "id": "abb97e07-187a-4f93-a17e-3597861a6b00",
   "metadata": {},
   "outputs": [
    {
     "name": "stdin",
     "output_type": "stream",
     "text": [
      "enter a number 20\n"
     ]
    },
    {
     "name": "stdout",
     "output_type": "stream",
     "text": [
      "the number is even\n"
     ]
    }
   ],
   "source": [
    "n =float(input(\"enter a number\"))\n",
    "if n%2==0:\n",
    "    print(\"the number is even\")\n",
    "else:\n",
    "    print(\"the number is odd\")"
   ]
  },
  {
   "cell_type": "markdown",
   "id": "b9bbafd0-3fc6-4185-9d3f-2a90dbc19e10",
   "metadata": {},
   "source": [
    "3. How can you use nested if-else statements in Python, and provide an example?"
   ]
  },
  {
   "cell_type": "raw",
   "id": "10e90615-cf1d-4f60-9d50-2b9924b53891",
   "metadata": {},
   "source": [
    "Nested if-else statements in Python allow you to have one if or else statement inside another if or else statement.\n",
    "This allows you to check multiple conditions and execute different code blocks based on those conditions. \n",
    "\n",
    "Here's an example for nested if-else:\n",
    "\n",
    "\n",
    "# Get user input for age\n",
    "age = int(input(\"Enter your age: \"))\n",
    "\n",
    "# Nested if-else statements to check age and provide eligibility information\n",
    "if age >= 18:\n",
    "    print(\"You are eligible to vote.\")\n",
    "    \n",
    "    if age >= 65:\n",
    "        print(\"You are also eligible for senior citizen benefits.\")\n",
    "    else:\n",
    "        print(\"You are not eligible for senior citizen benefits.\")\n",
    "else:\n",
    "    print(\"You are not eligible to vote.\")\n",
    "\n",
    "\n",
    "\n",
    "1. We first get the user's age as input.\n",
    "2. We use a nested if-else structure to check the age:\n",
    "The outer if statement checks if the age is greater than or equal to 18. If it is, it prints that the user is eligible to vote.\n",
    "Inside the inner if statement, we check if the age is also greater than or equal to 65. If it is, we print that the user is eligible for senior citizen benefits.\n",
    "If the age is not greater than or equal to 65, we print that the user is not eligible for senior citizen benefits.\n",
    "If the age is not greater than or equal to 18, the outer else block is executed, and it prints that the user is not eligible to vote."
   ]
  },
  {
   "cell_type": "markdown",
   "id": "76a0dc37-e47b-4447-a942-8e52ba3411c1",
   "metadata": {},
   "source": [
    "4. Write a Python program to determine the largest of three numbers using if-else."
   ]
  },
  {
   "cell_type": "code",
   "execution_count": 203,
   "id": "b9c83999-144b-46ac-9374-3a58e7d46683",
   "metadata": {},
   "outputs": [
    {
     "name": "stdin",
     "output_type": "stream",
     "text": [
      "Enter first number:  20\n",
      "Enter second number:  30\n",
      "Enter third number:  40\n"
     ]
    },
    {
     "name": "stdout",
     "output_type": "stream",
     "text": [
      "The largest number is 40.0\n"
     ]
    }
   ],
   "source": [
    "num1 = float(input(\"Enter first number: \"))\n",
    "num2 = float(input(\"Enter second number: \"))\n",
    "num3 = float(input(\"Enter third number: \"))\n",
    "\n",
    "if (num1 >= num2) and (num1 >= num3):\n",
    "   largest = num1\n",
    "elif (num2 >= num1) and (num2 >= num3):\n",
    "   largest = num2\n",
    "else:\n",
    "   largest = num3\n",
    "\n",
    "print(\"The largest number is\", largest)"
   ]
  },
  {
   "cell_type": "markdown",
   "id": "0899678d-a11b-40ed-ab29-7cdbbbbdd084",
   "metadata": {},
   "source": [
    "5. Write a Python program that calculates the absolute value of a number using if-else."
   ]
  },
  {
   "cell_type": "raw",
   "id": "dd702225-90a2-4168-93c8-628c07e804f9",
   "metadata": {},
   "source": [
    "num = float(input(\"Enter a number: \"))\n",
    "\n",
    "# Calculate the absolute value using if-else statements\n",
    "if num < 0:\n",
    "    abs_value = -num  # Change the sign to make it positive\n",
    "else:\n",
    "    abs_value = num   # The number is already positive or zero\n",
    "\n",
    "# Print the absolute value\n",
    "print(f\"The absolute value of {num} is: {abs_value}\")\n"
   ]
  },
  {
   "cell_type": "markdown",
   "id": "8875e536-3768-4274-8ef4-68421ac1abd7",
   "metadata": {},
   "source": [
    "6. Create a Python program that checks if a given character is a vowel or consonant using if-else."
   ]
  },
  {
   "cell_type": "code",
   "execution_count": 206,
   "id": "cb96f0a1-6a8c-4ffc-9ad2-4e65000ce75b",
   "metadata": {},
   "outputs": [
    {
     "name": "stdin",
     "output_type": "stream",
     "text": [
      "Enter a character:  w\n"
     ]
    },
    {
     "name": "stdout",
     "output_type": "stream",
     "text": [
      "w is a Consonant\n"
     ]
    }
   ],
   "source": [
    "ch = input(\"Enter a character: \")\n",
    "\n",
    "if(ch=='A' or ch=='a' or ch=='E' or ch =='e' or ch=='I'\n",
    " or ch=='i' or ch=='O' or ch=='o' or ch=='U' or ch=='u'):\n",
    "    print(ch, \"is a Vowel\")\n",
    "else:\n",
    "    print(ch, \"is a Consonant\")"
   ]
  },
  {
   "cell_type": "markdown",
   "id": "713a14dc-77c2-444f-9a02-1217b3f0d108",
   "metadata": {},
   "source": [
    "7. Write a Python program to determine if a user is eligible to vote based on their age using if-else."
   ]
  },
  {
   "cell_type": "code",
   "execution_count": 210,
   "id": "2bc8fe1e-a413-4ea2-a555-b63774c0146c",
   "metadata": {},
   "outputs": [
    {
     "name": "stdin",
     "output_type": "stream",
     "text": [
      "Enter the age: 61\n"
     ]
    },
    {
     "name": "stdout",
     "output_type": "stream",
     "text": [
      "You are eligible to vote.\n"
     ]
    }
   ],
   "source": [
    "age=int(input(\"Enter the age:\"))\n",
    "\n",
    "if age >= 18:\n",
    "    print(\"You are eligible to vote.\")   \n",
    "else:\n",
    "    print(\"You are not eligible to vote.\")"
   ]
  },
  {
   "cell_type": "markdown",
   "id": "d19b0774-9e33-4da9-a9b2-fb9763306db8",
   "metadata": {},
   "source": [
    "8. Create a Python program that calculates the discount amount based on the purchase amount using if-else."
   ]
  },
  {
   "cell_type": "code",
   "execution_count": 214,
   "id": "bd93952a-001e-4872-babb-3c5e2746350b",
   "metadata": {},
   "outputs": [
    {
     "name": "stdin",
     "output_type": "stream",
     "text": [
      "Enter the purchase amount:  500\n"
     ]
    },
    {
     "name": "stdout",
     "output_type": "stream",
     "text": [
      "Discount Applied: 10%\n",
      "Discount Amount: Rs.50.00\n",
      "Final Amount: Rs.450.00\n"
     ]
    }
   ],
   "source": [
    "purchase_amount = float(input(\"Enter the purchase amount: \"))\n",
    "discount_percentage = 0\n",
    "\n",
    "# Determine the discount percentage based on the purchase amount using if-else statements\n",
    "if purchase_amount >= 1000:\n",
    "    discount_percentage = 20  # 20% discount for purchases of $1000 or more\n",
    "elif purchase_amount >= 500:\n",
    "    discount_percentage = 10   # 10% discount for purchases between $500 and $999\n",
    "\n",
    "# Calculate the discount amount\n",
    "discount_amount = (discount_percentage / 100) * purchase_amount\n",
    "\n",
    "# Calculate the final amount after applying the discount\n",
    "final_amount = purchase_amount - discount_amount\n",
    "\n",
    "if discount_percentage > 0:\n",
    "    print(f\"Discount Applied: {discount_percentage}%\")\n",
    "    print(f\"Discount Amount: Rs.{discount_amount:.2f}\")\n",
    "print(f\"Final Amount: Rs.{final_amount:.2f}\")\n"
   ]
  },
  {
   "cell_type": "markdown",
   "id": "896d79ac-b4e5-4c14-b12f-8f94596b791a",
   "metadata": {},
   "source": [
    "9. Write a Python program to check if a number is within a specified range using if-else."
   ]
  },
  {
   "cell_type": "code",
   "execution_count": 215,
   "id": "528e1789-3e11-49f5-90fb-94e1123c3664",
   "metadata": {},
   "outputs": [
    {
     "name": "stdin",
     "output_type": "stream",
     "text": [
      "Enter a number:  22\n"
     ]
    },
    {
     "name": "stdout",
     "output_type": "stream",
     "text": [
      "22 is within the range\n"
     ]
    }
   ],
   "source": [
    "lower_limit = 10\n",
    "upper_limit = 50\n",
    "\n",
    "number = int(input(\"Enter a number: \"))\n",
    "\n",
    "if number >= lower_limit and number <= upper_limit:\n",
    "    print(f\"{number} is within the range\")\n",
    "else:\n",
    "    print(f\"{number} is not within the range\")\n"
   ]
  },
  {
   "cell_type": "markdown",
   "id": "6aeeb54c-a1a0-46a1-9221-f2ab6b6e3cae",
   "metadata": {},
   "source": [
    "10. Create a Python program that determines the grade of a student based on their score using if-else."
   ]
  },
  {
   "cell_type": "code",
   "execution_count": 216,
   "id": "746ec8be-5909-4b8a-a406-d5132947942d",
   "metadata": {},
   "outputs": [
    {
     "name": "stdin",
     "output_type": "stream",
     "text": [
      "Enter the student's score:  82\n"
     ]
    },
    {
     "name": "stdout",
     "output_type": "stream",
     "text": [
      "The student's grade is: B\n"
     ]
    }
   ],
   "source": [
    "score = float(input(\"Enter the student's score: \"))\n",
    "\n",
    "if score >= 90:\n",
    "    grade = \"A\"\n",
    "elif score >= 80:\n",
    "    grade = \"B\"\n",
    "elif score >= 70:\n",
    "    grade = \"C\"\n",
    "elif score >= 60:\n",
    "    grade = \"D\"\n",
    "else:\n",
    "    grade = \"F\"\n",
    "\n",
    "print(f\"The student's grade is: {grade}\")\n"
   ]
  },
  {
   "cell_type": "markdown",
   "id": "6ff6e069-b793-4283-bdc4-14be5902550c",
   "metadata": {},
   "source": [
    "11. Write a Python program to check if a string is empty or not using if-else."
   ]
  },
  {
   "cell_type": "code",
   "execution_count": 217,
   "id": "e9e33efa-05c9-4969-879d-a3779f6be2e4",
   "metadata": {},
   "outputs": [
    {
     "name": "stdin",
     "output_type": "stream",
     "text": [
      "Enter a string:  \n"
     ]
    },
    {
     "name": "stdout",
     "output_type": "stream",
     "text": [
      "The string is empty.\n"
     ]
    }
   ],
   "source": [
    "user_input = input(\"Enter a string: \")\n",
    "\n",
    "if len(user_input) == 0:\n",
    "    print(\"The string is empty.\")\n",
    "else:\n",
    "    print(\"The string is not empty.\")\n"
   ]
  },
  {
   "cell_type": "markdown",
   "id": "672aed3a-a552-43a0-8d72-5191c493499b",
   "metadata": {},
   "source": [
    "12. Create a Python program that identifies the type of a triangle (e.g., equilateral, isosceles, or scalene) based on input values using if-else."
   ]
  },
  {
   "cell_type": "code",
   "execution_count": 219,
   "id": "6c574622-ec84-470d-bc43-9323f064f007",
   "metadata": {},
   "outputs": [
    {
     "name": "stdin",
     "output_type": "stream",
     "text": [
      "Enter the length of side 1:  52\n",
      "Enter the length of side 2:  25\n",
      "Enter the length of side 3:  25\n"
     ]
    },
    {
     "name": "stdout",
     "output_type": "stream",
     "text": [
      "The triangle is a Isosceles triangle.\n"
     ]
    }
   ],
   "source": [
    "side1 = float(input(\"Enter the length of side 1: \"))\n",
    "side2 = float(input(\"Enter the length of side 2: \"))\n",
    "side3 = float(input(\"Enter the length of side 3: \"))\n",
    "\n",
    "if side1 == side2 == side3:\n",
    "    triangle_type = \"Equilateral\"\n",
    "elif side1 == side2 or side1 == side3 or side2 == side3:\n",
    "    triangle_type = \"Isosceles\"\n",
    "else:\n",
    "    triangle_type = \"Scalene\"\n",
    "\n",
    "print(f\"The triangle is a {triangle_type} triangle.\")\n"
   ]
  },
  {
   "cell_type": "markdown",
   "id": "ec9c5d60-094a-46c8-bc9e-6d80c0188b7b",
   "metadata": {},
   "source": [
    "13. Write a Python program to determine the day of the week based on a user-provided number using if-else."
   ]
  },
  {
   "cell_type": "code",
   "execution_count": 221,
   "id": "531b98cc-5b34-4920-9d4c-66edde3e232c",
   "metadata": {},
   "outputs": [
    {
     "name": "stdin",
     "output_type": "stream",
     "text": [
      "Enter a number (1 for Sunday, 2 for Monday, etc.):  4\n"
     ]
    },
    {
     "name": "stdout",
     "output_type": "stream",
     "text": [
      "The day of the week is Wednesday.\n"
     ]
    }
   ],
   "source": [
    "day_number = int(input(\"Enter a number (1 for Sunday, 2 for Monday, etc.): \"))\n",
    "\n",
    "if day_number == 1:\n",
    "    day_name = \"Sunday\"\n",
    "elif day_number == 2:\n",
    "    day_name = \"Monday\"\n",
    "elif day_number == 3:\n",
    "    day_name = \"Tuesday\"\n",
    "elif day_number == 4:\n",
    "    day_name = \"Wednesday\"\n",
    "elif day_number == 5:\n",
    "    day_name = \"Thursday\"\n",
    "elif day_number == 6:\n",
    "    day_name = \"Friday\"\n",
    "elif day_number == 7:\n",
    "    day_name = \"Saturday\"\n",
    "else:\n",
    "    day_name = \"Invalid input (please enter a number from 1 to 7).\"\n",
    "\n",
    "print(f\"The day of the week is {day_name}.\")\n"
   ]
  },
  {
   "cell_type": "markdown",
   "id": "da480f8a-f056-46e4-bc2f-bdbce674bcf8",
   "metadata": {},
   "source": [
    "14. Create a Python program that checks if a given year is a leap year using both if-else and a function."
   ]
  },
  {
   "cell_type": "code",
   "execution_count": 223,
   "id": "a5d2d364-17bb-4c24-821d-d9170ce45edb",
   "metadata": {},
   "outputs": [
    {
     "name": "stdin",
     "output_type": "stream",
     "text": [
      "Enter a year:  2018\n"
     ]
    },
    {
     "name": "stdout",
     "output_type": "stream",
     "text": [
      "2018 is not a leap year.\n"
     ]
    }
   ],
   "source": [
    "def leap_year(year):\n",
    "    if (year % 4 == 0 and year % 100 != 0) or (year % 400 == 0):\n",
    "        return True\n",
    "    else:\n",
    "        return False\n",
    "\n",
    "year = int(input(\"Enter a year: \"))\n",
    "\n",
    "if leap_year(year):\n",
    "    print(f\"{year} is a leap year.\")\n",
    "else:\n",
    "    print(f\"{year} is not a leap year.\")\n"
   ]
  },
  {
   "cell_type": "markdown",
   "id": "6fa33600-7c52-4ac5-a222-f9d8b28b637e",
   "metadata": {},
   "source": [
    "15. How do you use the \"assert\" statement in Python to add debugging checks within if-else blocks?"
   ]
  },
  {
   "cell_type": "raw",
   "id": "fc357c71-0786-405b-bbfd-1ae1f38a340b",
   "metadata": {},
   "source": [
    "Assertions are mainly assumptions that a programmer knows or always wants to be true \n",
    "and hence puts them in code so that failure of these doesn’t allow the code to execute further. \n",
    "The assert statement takes as input, a boolean condition, which when returns true doesn’t do anything and continues the normal flow of execution,\n",
    "but if it is computed to be false, then it raises an AssertionError along with the optional message provided. \n",
    "\n",
    "Syntax : assert condition, error_message(optional) \n",
    "Parameters:\n",
    "\n",
    "condition : The boolean condition returning true or false. \n",
    "error_message : The optional argument to be printed in console in case of AssertionError\n",
    "Returns: Returns AssertionError, in case the condition evaluates to false along with the error message which when provided. \n",
    "\n",
    "Example:\n",
    "\n",
    "# initializing number\n",
    "a = 4\n",
    "b = 0\n",
    "\n",
    "# using assert to check for 0\n",
    "print(\"The value of a / b is : \")\n",
    "assert b != 0, \"Zero Division Error\"\n",
    "print(a / b)\n",
    "\n",
    "Output:\n",
    "\n",
    "AssertionError: Zero Division Error\n"
   ]
  },
  {
   "cell_type": "markdown",
   "id": "f3afb742-3bcf-429d-ac12-d8ad82dfeed7",
   "metadata": {},
   "source": [
    "16. Create a Python program that determines the eligibility of a person for a senior citizen discount based on age using if-else."
   ]
  },
  {
   "cell_type": "code",
   "execution_count": 224,
   "id": "85178313-9480-4974-8d24-baaa388470a0",
   "metadata": {},
   "outputs": [
    {
     "name": "stdin",
     "output_type": "stream",
     "text": [
      "Enter your age:  80\n"
     ]
    },
    {
     "name": "stdout",
     "output_type": "stream",
     "text": [
      "You are eligible for a senior citizen discount.\n"
     ]
    }
   ],
   "source": [
    "age = int(input(\"Enter your age: \"))\n",
    "\n",
    "if age >= 60:\n",
    "    print(\"You are eligible for a senior citizen discount.\")\n",
    "else:\n",
    "    print(\"You are not eligible for a senior citizen discount.\")\n"
   ]
  },
  {
   "cell_type": "markdown",
   "id": "ee298725-8b91-46e5-887b-5a96026c1be7",
   "metadata": {},
   "source": [
    "17. Write a Python program to categorize a given character as uppercase, lowercase, or neither using if-else."
   ]
  },
  {
   "cell_type": "code",
   "execution_count": 225,
   "id": "db0116da-be31-499e-a0c7-aae3b7b48d38",
   "metadata": {},
   "outputs": [
    {
     "name": "stdin",
     "output_type": "stream",
     "text": [
      "Enter a character:  12\n"
     ]
    },
    {
     "name": "stdout",
     "output_type": "stream",
     "text": [
      "The character '12' is Neither uppercase nor lowercase.\n"
     ]
    }
   ],
   "source": [
    "char = input(\"Enter a character: \")\n",
    "\n",
    "if char.isalpha():\n",
    "    if char.isupper():\n",
    "        category = \"Uppercase\"\n",
    "    else:\n",
    "        category = \"Lowercase\"\n",
    "else:\n",
    "    category = \"Neither uppercase nor lowercase\"\n",
    "\n",
    "print(f\"The character '{char}' is {category}.\")\n"
   ]
  },
  {
   "cell_type": "markdown",
   "id": "278f8fed-dbea-45d7-a10c-e22d246e6b94",
   "metadata": {},
   "source": [
    "18. Write a Python program to determine the roots of a quadratic equation using if-else."
   ]
  },
  {
   "cell_type": "code",
   "execution_count": 227,
   "id": "4b4fa93c-fabc-48b1-a56f-6bbf24d09bf2",
   "metadata": {},
   "outputs": [
    {
     "name": "stdin",
     "output_type": "stream",
     "text": [
      "Enter the coefficient a:  20\n",
      "Enter the coefficient b:  45\n",
      "Enter the coefficient c:  2\n"
     ]
    },
    {
     "name": "stdout",
     "output_type": "stream",
     "text": [
      "Two real roots: -0.045358855915540806 and -2.2046411440844595\n"
     ]
    }
   ],
   "source": [
    "a = float(input(\"Enter the coefficient a: \"))\n",
    "b = float(input(\"Enter the coefficient b: \"))\n",
    "c = float(input(\"Enter the coefficient c: \"))\n",
    "\n",
    "discriminant = b**2 - 4*a*c\n",
    "\n",
    "if discriminant > 0:\n",
    "    root1 = (-b + (discriminant**0.5)) / (2*a)\n",
    "    root2 = (-b - (discriminant**0.5)) / (2*a)\n",
    "    print(f\"Two real roots: {root1} and {root2}\")\n",
    "elif discriminant == 0:\n",
    "    root1 = -b / (2*a)\n",
    "    print(f\"One real root: {root1}\")\n",
    "else:\n",
    "    real_part = -b / (2*a)\n",
    "    imaginary_part = ((-discriminant)**0.5) / (2*a)\n",
    "    print(f\"Complex roots: {real_part} + {imaginary_part}i and {real_part} - {imaginary_part}i\")\n"
   ]
  },
  {
   "cell_type": "markdown",
   "id": "3242bbfa-e398-431a-b01f-9b1cc746ff9b",
   "metadata": {},
   "source": [
    "19. Create a Python program that checks if a given year is a century year or not using if-else."
   ]
  },
  {
   "cell_type": "code",
   "execution_count": 228,
   "id": "4220431c-e0f5-45a7-88db-e1ec548cf9b0",
   "metadata": {},
   "outputs": [
    {
     "name": "stdin",
     "output_type": "stream",
     "text": [
      "Enter a year:  2102\n"
     ]
    },
    {
     "name": "stdout",
     "output_type": "stream",
     "text": [
      "2102 is not a century year.\n"
     ]
    }
   ],
   "source": [
    "year = int(input(\"Enter a year: \"))\n",
    "\n",
    "if year % 100 == 0:\n",
    "    if year % 400 == 0:\n",
    "        is_century_year = True\n",
    "    else:\n",
    "        is_century_year = False\n",
    "else:\n",
    "    is_century_year = False\n",
    "\n",
    "if is_century_year:\n",
    "    print(f\"{year} is a century year.\")\n",
    "else:\n",
    "    print(f\"{year} is not a century year.\")\n"
   ]
  },
  {
   "cell_type": "raw",
   "id": "cec857f3-6004-4c9a-b7fa-cf6d5f838b29",
   "metadata": {},
   "source": [
    "20. Write a Python program to determine if a given number is a perfect square using if-else."
   ]
  },
  {
   "cell_type": "code",
   "execution_count": 230,
   "id": "e6be37ed-f56d-4fbf-a807-0b438cc382ac",
   "metadata": {},
   "outputs": [
    {
     "name": "stdin",
     "output_type": "stream",
     "text": [
      "Enter a number:  26\n"
     ]
    },
    {
     "name": "stdout",
     "output_type": "stream",
     "text": [
      "26 is not a perfect square.\n"
     ]
    }
   ],
   "source": [
    "number = int(input(\"Enter a number: \"))\n",
    "\n",
    "# Check if the number is a perfect square using if-else statements\n",
    "if number >= 0:\n",
    "    square_root = int(number**0.5)\n",
    "    if square_root**2 == number:\n",
    "        is_perfect_square = True\n",
    "    else:\n",
    "        is_perfect_square = False\n",
    "else:\n",
    "    is_perfect_square = False\n",
    "\n",
    "if is_perfect_square:\n",
    "    print(f\"{number} is a perfect square.\")\n",
    "else:\n",
    "    print(f\"{number} is not a perfect square.\")"
   ]
  },
  {
   "cell_type": "markdown",
   "id": "44bedafb-99f9-42fe-8be9-77053682192e",
   "metadata": {},
   "source": [
    "21. Explain the purpose of the \"continue\" and \"break\" statements within if-else loops."
   ]
  },
  {
   "cell_type": "raw",
   "id": "84ef3b7a-f502-4dec-bb75-0b541571d8aa",
   "metadata": {},
   "source": [
    "The break and continue statements in Python are used to skip parts of the current loop or break out of the loop completely.\n",
    "The break statement can be used if you need to break out of a for or while loop and move onto the next section of code.\n",
    "The continue statement can be used if you need to skip the current iteration of a for or while loop and move onto the next iteration."
   ]
  },
  {
   "cell_type": "markdown",
   "id": "264e776f-06ac-4bc6-9195-d9a8fad494e0",
   "metadata": {},
   "source": [
    "22. Create a Python program that calculates the BMI (Body Mass Index) of a person based on their weight and height using if-else."
   ]
  },
  {
   "cell_type": "code",
   "execution_count": 232,
   "id": "18487a1b-1257-497b-8904-1ef49f4adead",
   "metadata": {},
   "outputs": [
    {
     "name": "stdin",
     "output_type": "stream",
     "text": [
      "Enter your weight in kilograms:  65\n",
      "Enter your height in meters:  5\n"
     ]
    },
    {
     "name": "stdout",
     "output_type": "stream",
     "text": [
      "Your BMI is: 2.60\n",
      "You are categorized as: Underweight\n"
     ]
    }
   ],
   "source": [
    "weight= float(input(\"Enter your weight in kilograms: \"))\n",
    "height = float(input(\"Enter your height in meters: \"))\n",
    "\n",
    "# Calculate BMI\n",
    "bmi = weight/ (height ** 2)\n",
    "\n",
    "if bmi < 18.5:\n",
    "    category = \"Underweight\"\n",
    "elif 18.5 <= bmi < 25:\n",
    "    category = \"Normal Weight\"\n",
    "elif 25 <= bmi < 30:\n",
    "    category = \"Overweight\"\n",
    "else:\n",
    "    category = \"Obese\"\n",
    "\n",
    "# Print the BMI and category\n",
    "print(f\"Your BMI is: {bmi:.2f}\")\n",
    "print(f\"You are categorized as: {category}\")\n"
   ]
  },
  {
   "cell_type": "markdown",
   "id": "03f5e11c-5342-4d77-8679-ff29dfc34b57",
   "metadata": {},
   "source": [
    "23. How can you use the \"filter()\" function with if-else statements to filter elements from a list?"
   ]
  },
  {
   "cell_type": "raw",
   "id": "aa3c4fa5-1cdf-4de7-b2f3-bffc5427982a",
   "metadata": {},
   "source": [
    "The filter() function in Python is typically used with a lambda function (anonymous function) or a custom function to filter elements from an iterable (e.g., a list) based on a specified condition.\n",
    "While filter() itself doesn't use if-else statements directly, you can incorporate if-else logic into the filtering condition within the lambda function or custom function.\n",
    " \n",
    "example:\n",
    "\n",
    "# Example list of names\n",
    "names = [\"Amey\", \"Anirudh\", \"Catie\", \"carol\", \"Camy\", \"French\"]\n",
    "\n",
    "# Custom function to filter names longer than 4 characters\n",
    "def is_long_name(names):\n",
    "    return len(name) > 4\n",
    "\n",
    "# Filter names using the custom function\n",
    "filtered_names = list(filter(is_long_name, names))\n",
    "\n",
    "# Print the filtered names\n",
    "print(filtered_names)\n"
   ]
  },
  {
   "cell_type": "markdown",
   "id": "20a5fa06-f195-4068-8ba3-98144c78cc4e",
   "metadata": {},
   "source": [
    "24. Write a Python program to determine if a given number is prime or not using if-else."
   ]
  },
  {
   "cell_type": "code",
   "execution_count": 242,
   "id": "bdf5a0c5-4d42-4f34-87d0-ff345317fa02",
   "metadata": {},
   "outputs": [
    {
     "name": "stdin",
     "output_type": "stream",
     "text": [
      "Enter a number:  23\n"
     ]
    },
    {
     "name": "stdout",
     "output_type": "stream",
     "text": [
      "23 is a prime number.\n"
     ]
    }
   ],
   "source": [
    "number = int(input(\"Enter a number: \"))\n",
    "\n",
    "# Check if the number is prime using if-else statements\n",
    "if number <= 1:\n",
    "    is_prime = False\n",
    "else:\n",
    "    is_prime = True\n",
    "    for i in range(2, int(number**0.5) + 1):\n",
    "        if number % i == 0:\n",
    "            is_prime = False\n",
    "            break\n",
    "\n",
    "if is_prime:\n",
    "    print(f\"{number} is a prime number.\")\n",
    "else:\n",
    "    print(f\"{number} is not a prime number.\")\n"
   ]
  },
  {
   "cell_type": "code",
   "execution_count": null,
   "id": "72cca11a-e19c-4662-9b23-2e1f48804fc2",
   "metadata": {},
   "outputs": [],
   "source": [
    "Map :-"
   ]
  },
  {
   "cell_type": "markdown",
   "id": "839a18c8-0812-4e1a-b611-73f49875049b",
   "metadata": {},
   "source": [
    "1. Explain the purpose of the `map()` function in Python and provide an example of how it can be used to apply a function to each element of an iterable."
   ]
  },
  {
   "cell_type": "raw",
   "id": "7c6cc925-4580-43e8-b6da-878be5e2f27e",
   "metadata": {},
   "source": [
    "The map() function in Python is used to apply a specified function to each element of an iterable (e.g., a list, tuple, or another iterable). It returns a new iterable (a map object) that contains the results of applying the function to each element in the original iterable. The purpose of map() is to transform data by applying a function to each item in a collection without the need for explicit loops.\r\n",
    "\r\n",
    "The syntax of the map() function is as folls:ow\n",
    "map(function, itebr\n",
    "\n",
    "e)\r\n",
    "Example formap a ():\n",
    "# Define a function to square a number\n",
    "def square(x):\n",
    "    return x ** 2\n",
    "\n",
    "# Create a list of numbers\n",
    "numbers = [1, 2, 3, 4, 5]\n",
    "\n",
    "# Use the map() function to apply the square function to each element\n",
    "squared_numbers = map(square, numbers)\n",
    "\n",
    "# Convert the map object to a list to see the squared numbers\n",
    "squared_numbers_list = list(squared_numbers)\n",
    "\n",
    "# Print the squared numbers\n",
    "print(squared_numbers_li\n",
    "\n",
    "s:"
   ]
  },
  {
   "cell_type": "code",
   "execution_count": null,
   "id": "b7df7575-211d-459a-829f-4343fc71f7d9",
   "metadata": {},
   "outputs": [],
   "source": [
    "2. Write a Python program that uses the `map()` function to square each element of a list of numbers."
   ]
  },
  {
   "cell_type": "code",
   "execution_count": 2,
   "id": "6af8f4d1-ad30-45ba-a7b0-14ef3de40fc1",
   "metadata": {},
   "outputs": [
    {
     "name": "stdout",
     "output_type": "stream",
     "text": [
      "Original List:  [4, 5, 2, 9]\n",
      "Square the elements of the said list using map(): [16, 25, 4, 81]\n"
     ]
    }
   ],
   "source": [
    "def square_num(n):\n",
    "  return n * n\n",
    "nums = [4, 5, 2, 9]\n",
    "print(\"Original List: \",nums)\n",
    "result = map(square_num, nums)\n",
    "print(\"Square the elements of the said list using map():\",list(result) )\n",
    "\n"
   ]
  },
  {
   "cell_type": "markdown",
   "id": "d1668ba3-9527-44b4-8056-6974e024fb87",
   "metadata": {},
   "source": [
    "3. How does the `map()` function differ from a list comprehension in Python, and when would you choose one over the other?"
   ]
  },
  {
   "cell_type": "markdown",
   "id": "0478dc3e-796f-40c8-a2f1-63e736b647bb",
   "metadata": {},
   "source": [
    "The map() function and list comprehensions in Python both provide ways to transform data by applying a function or expression to each element of an iterable (e.g., a list). However, they differ in their syntax, use cases, and readability.\r\n",
    "\r\n",
    "map() Function:\r\n",
    "\r\n",
    "Syntax: The map() function takes two arguments: a function and an iterable. It returns a map object, which can be converted to other iterable types (e.g., list, tuple) using list(), tuple(), or similar functions.\r\n",
    "\r\n",
    "Use Case: map() is primarily used to apply a function to each element of an iterable and return the results. It is particularly useful when you have an existing function to apply to the elements.\r\n",
    "\r\n",
    "Readability: While map() is concise, it can be less readable when the function applied is complex or when working with multiple iterables simultaneously.\r\n",
    "\r\n",
    "List Comprehensions:\r\n",
    "\r\n",
    "Syntax: List comprehensions use a compact and expressive syntax to create new lists by specifying the expression to be applied to each element of an iterable enclosed in square brackets.\r\n",
    "\r\n",
    "Use Case: List comprehensions are more versatile and can perform a wide range of operations, not limited to applying a function. They are suitable for filtering elements, transforming data, or creating new lists with specific criteria.\r\n",
    "\r\n",
    "Readability: List comprehensions are often considered more readable, especially for simple operations. They make the code more concise tween map() and List Use map() when you have an existing function to apply to elements and want a concise way to do so. If the operation is straightforward and involves applying a function, map() may be suitable.cUse list comprehensions when you need more flexibility, such as filtering elements, creating new lists, or performing complex transformations. List comprehensions are often considered more Pythonic and readable for these tasks.For more complex tasks, list comprehensions are c\n",
    "\r\n",
    "\r\n",
    "\r\n",
    "\r\n",
    "\r\n",
    "\r\n",
    "Regenerate"
   ]
  },
  {
   "cell_type": "markdown",
   "id": "f5131979-4781-4b7c-91b4-477071e4d50c",
   "metadata": {},
   "source": [
    "4. Create a Python program that uses the `map()` function to convert a list of names to uppercase."
   ]
  },
  {
   "cell_type": "code",
   "execution_count": 3,
   "id": "9ea1d0ab-0e32-439e-be42-6450fb759bde",
   "metadata": {},
   "outputs": [
    {
     "name": "stdout",
     "output_type": "stream",
     "text": [
      "ANU\n",
      "ANVI\n",
      "ANVEY\n",
      "DAD\n",
      "DARSHAN\n"
     ]
    }
   ],
   "source": [
    "def convert_to_uppercase(name):\n",
    "    return name.upper()\n",
    "\n",
    "names = [\"Anu\", \"Anvi\", \"Anvey\", \"Dad\", \"Darshan\"]\n",
    "\n",
    "uppercase_names = list(map(convert_to_uppercase, names))\n",
    "\n",
    "for name in uppercase_names:\n",
    "    print(name)\n"
   ]
  },
  {
   "cell_type": "markdown",
   "id": "16f902fb-4158-4f74-a8b0-972f008889c2",
   "metadata": {},
   "source": [
    "5. Write a Python program that uses the `map()` function to calculate the length of each word in a list of strings."
   ]
  },
  {
   "cell_type": "code",
   "execution_count": 4,
   "id": "8aaa917d-b7df-411b-b4a4-7eb5c8470f2c",
   "metadata": {},
   "outputs": [
    {
     "name": "stdout",
     "output_type": "stream",
     "text": [
      "[5]\n",
      "[6]\n",
      "[11]\n",
      "[5]\n"
     ]
    }
   ],
   "source": [
    "def calculate_word_length(word):\n",
    "    return len(word)\n",
    "\n",
    "strings = [\"Hello\", \"Python\", \"Programming\", \"World\"]\n",
    "\n",
    "# Split the strings into words and use the map() function to calculate word lengths\n",
    "word_lengths = list(map(lambda s: list(map(calculate_word_length, s.split())), strings))\n",
    "\n",
    "for lengths in word_lengths:\n",
    "    print(lengths)\n"
   ]
  },
  {
   "cell_type": "markdown",
   "id": "d7cc7e70-27e9-4c85-b3bd-7dd65321fcf6",
   "metadata": {},
   "source": [
    "6. How can you use the `map()` function to apply a custom function to elements of multiple lists simultaneously in Python?"
   ]
  },
  {
   "cell_type": "raw",
   "id": "bdba8b4f-b859-4117-b627-e27266f2882e",
   "metadata": {},
   "source": [
    " The custom function should accept the same number of arguments as there are lists, and map() will iterate through the elements of each list in parallel.\n",
    " Here's an example:\n",
    "# Define a custom function to add elements from two lists\n",
    "def add_elements(x, y):\n",
    "    return x + y\n",
    "\n",
    "# Create two lists of numbers\n",
    "list1 = [1, 2, 3, 4]\n",
    "list2 = [5, 6, 7, 8]\n",
    "\n",
    "# Use the map() function to apply the custom function to both lists\n",
    "result = list(map(add_elements, list1, list2))\n",
    "\n",
    "# Print the result\n",
    "print(result)\n",
    "\n",
    "In this example:\n",
    "We define a custom function add_elements(x, y) that takes two arguments and returns their sum.\n",
    "We create two lists, list1 and list2, containing sequences of numbers.\n",
    "We use the map() function to apply the add_elements function to both list1 and list2. The map() function will pair the elements from both lists (1 from list1 and 5 from list2, 2 from list1 and 6 from list2, and so on) and apply the function to each pair.\n",
    "The result variable will contain the list [6, 8, 10, 12], which represents the sum of corresponding elements from list1 and list2.\n",
    "You can apply this approach to any custom function that takes multiple arguments and process elements from multiple lists or iterables simultaneously."
   ]
  },
  {
   "cell_type": "markdown",
   "id": "468f7688-a0ad-4cee-8486-cf4f19fb14a8",
   "metadata": {},
   "source": [
    "7. Create a Python program that uses `map()` to convert a list of temperatures from Celsius to Fahrenheit."
   ]
  },
  {
   "cell_type": "code",
   "execution_count": 5,
   "id": "6d9cc694-b1cd-408f-8c63-02ff9479d918",
   "metadata": {},
   "outputs": [
    {
     "name": "stdout",
     "output_type": "stream",
     "text": [
      "0°C = 32.00°F\n",
      "10°C = 50.00°F\n",
      "20°C = 68.00°F\n",
      "30°C = 86.00°F\n",
      "40°C = 104.00°F\n"
     ]
    }
   ],
   "source": [
    "def celsius_to_fahrenheit(celsius):\n",
    "    return (celsius * 9/5) + 32\n",
    "\n",
    "temperatures_celsius = [0, 10, 20, 30, 40]\n",
    "\n",
    "# Use the map() function to apply the conversion function to each temperature\n",
    "temperatures_fahrenheit = list(map(celsius_to_fahrenheit, temperatures_celsius))\n",
    "\n",
    "for celsius, fahrenheit in zip(temperatures_celsius, temperatures_fahrenheit):\n",
    "    print(f\"{celsius}°C = {fahrenheit:.2f}°F\")\n"
   ]
  },
  {
   "cell_type": "markdown",
   "id": "c4e7fcb8-536e-42c6-85eb-337996dc29bf",
   "metadata": {},
   "source": [
    "8. Write a Python program that uses the `map()` function to round each element of a list of floating-point numbers to the nearest integer."
   ]
  },
  {
   "cell_type": "code",
   "execution_count": 6,
   "id": "6b3cfec7-b202-4010-8ce1-5adbc060363e",
   "metadata": {},
   "outputs": [
    {
     "name": "stdout",
     "output_type": "stream",
     "text": [
      "3.14 => 3\n",
      "2.718 => 3\n",
      "1.618 => 2\n",
      "4.669 => 5\n"
     ]
    }
   ],
   "source": [
    "float_numbers = [3.14, 2.718, 1.618, 4.669]\n",
    "\n",
    "# Use the map() function to round each element to the nearest integer\n",
    "rounded_numbers = list(map(round, float_numbers))\n",
    "\n",
    "for original, rounded in zip(float_numbers, rounded_numbers):\n",
    "    print(f\"{original} => {rounded}\")\n"
   ]
  },
  {
   "cell_type": "code",
   "execution_count": null,
   "id": "8fbe4266-e633-4fc2-9ca8-67d6a9ccc618",
   "metadata": {},
   "outputs": [],
   "source": [
    "Reduce :"
   ]
  },
  {
   "cell_type": "markdown",
   "id": "0f7bfcfd-0c8a-45c6-a3a1-6c6ff83a51c5",
   "metadata": {},
   "source": [
    "1. What is the `reduce()` function in Python, and what module should you import to use it? Provide an example of its basic usage."
   ]
  },
  {
   "cell_type": "raw",
   "id": "6f8b7f51-b697-4a72-89e2-aa0a42563874",
   "metadata": {},
   "source": [
    "reduce() is used for reducing a sequence of values (e.g., a list) to a single cumulative result by applying a specified function cumulatively to the elements of the sequence.To use the reduce() function, you need to import it from the functools module.\n",
    "Example:\n",
    "\n",
    "from functools import reduce\r\n",
    "\r\n",
    "# Define a binary function for the reduction\r\n",
    "def custom_reduce_function(x, y):\r\n",
    "    return x + y\r\n",
    "\r\n",
    "# Create a sequence of values (e.g., a list)\r\n",
    "values = [1, 2, 3, 4, 5]\r\n",
    "\r\n",
    "# Use the reduce() function to apply the custom function cumulatively\r\n",
    "result = reduce(custom_reduce_function, values)\r\n",
    "\r\n",
    "# Print the final result\r\n",
    "print(result)\r\n"
   ]
  },
  {
   "cell_type": "markdown",
   "id": "b093880c-a47f-4b3c-a7bb-1a37c60b9407",
   "metadata": {},
   "source": [
    "2. Write a Python program that uses the `reduce()` function to find the product of all elements in a list."
   ]
  },
  {
   "cell_type": "code",
   "execution_count": 8,
   "id": "d995bcd0-c781-4ad3-8c77-4639e47fe0ab",
   "metadata": {},
   "outputs": [
    {
     "name": "stdout",
     "output_type": "stream",
     "text": [
      "The product of all elements is: 120\n"
     ]
    }
   ],
   "source": [
    "from functools import reduce\n",
    "def multiply(x, y):\n",
    "    return x * y\n",
    "\n",
    "numbers = [1, 2, 3, 4, 5]\n",
    "product = reduce(multiply, numbers)\n",
    "print(f\"The product of all elements is: {product}\")"
   ]
  },
  {
   "cell_type": "markdown",
   "id": "4382f150-1aea-4fe4-abd4-2f6ffd9faf8b",
   "metadata": {},
   "source": [
    "3. Create a Python program that uses `reduce()` to find the maximum element in a list of numbers."
   ]
  },
  {
   "cell_type": "code",
   "execution_count": 12,
   "id": "75456fea-a6e0-441c-af3f-54aa5cb29d95",
   "metadata": {},
   "outputs": [
    {
     "name": "stdout",
     "output_type": "stream",
     "text": [
      "The maximum element is: 10\n"
     ]
    }
   ],
   "source": [
    "from functools import reduce\n",
    "\n",
    "def find_maximum(x, y):\n",
    "    return x if x > y else y\n",
    "\n",
    "numbers = [1,5,9,8,10]\n",
    "\n",
    "maximum = reduce(find_maximum, numbers)\n",
    "\n",
    "print(f\"The maximum element is: {maximum}\")"
   ]
  },
  {
   "cell_type": "markdown",
   "id": "8027ebbe-94ea-497f-a277-9560de4f61f3",
   "metadata": {},
   "source": [
    "4. How can you use the `reduce()` function to concatenate a list of strings into a single string?"
   ]
  },
  {
   "cell_type": "code",
   "execution_count": 17,
   "id": "a83e8cfa-fce0-4e0a-a8d0-2c37d16ea63f",
   "metadata": {},
   "outputs": [
    {
     "name": "stdout",
     "output_type": "stream",
     "text": [
      "This is a computer programing language.\n"
     ]
    }
   ],
   "source": [
    "from functools import reduce\n",
    "\n",
    "def concatenate_strings(x, y):\n",
    "    return x + y\n",
    "\n",
    "strings = [\"This \", \"is\",  \" a\", \" computer programing\", \" language.\"]\n",
    "\n",
    "concatenated_string = reduce(concatenate_strings, strings)\n",
    "\n",
    "print(concatenated_string)"
   ]
  },
  {
   "cell_type": "markdown",
   "id": "eaad3171-5ffc-4d31-a095-2598539b9b80",
   "metadata": {},
   "source": [
    "5. Write a Python program that calculates the factorial of a number using the `reduce()` function."
   ]
  },
  {
   "cell_type": "code",
   "execution_count": 19,
   "id": "f55575a9-d0f8-426a-9cf6-b838d68b5e04",
   "metadata": {},
   "outputs": [
    {
     "name": "stdin",
     "output_type": "stream",
     "text": [
      "Enter a number:  21\n"
     ]
    },
    {
     "name": "stdout",
     "output_type": "stream",
     "text": [
      "The factorial of 21 is: 51090942171709440000\n"
     ]
    }
   ],
   "source": [
    "from functools import reduce\n",
    "\n",
    "# Define a binary function to calculate the product of two numbers\n",
    "def multiply(x, y):\n",
    "    return x * y\n",
    "\n",
    "# Function to calculate the factorial of a number\n",
    "def factorial(n):\n",
    "    if n == 0:\n",
    "        return 1\n",
    "    else:\n",
    "        return reduce(multiply, range(1, n + 1))\n",
    "\n",
    "# Input: Get the number for which you want to calculate the factorial\n",
    "num = int(input(\"Enter a number: \"))\n",
    "\n",
    "# Calculate the factorial\n",
    "result = factorial(num)\n",
    "\n",
    "# Print the factorial\n",
    "print(f\"The factorial of {num} is: {result}\")\n"
   ]
  },
  {
   "cell_type": "markdown",
   "id": "a1a3d8e2-94b7-4776-bda2-7cfc59eaa585",
   "metadata": {},
   "source": [
    "6. Create a Python program that uses `reduce()` to find the GCD (Greatest Common Divisor) of a list of numbers."
   ]
  },
  {
   "cell_type": "code",
   "execution_count": 24,
   "id": "d77edc65-0e99-429e-ace0-be69cc01b9e4",
   "metadata": {},
   "outputs": [
    {
     "name": "stdout",
     "output_type": "stream",
     "text": [
      "The GCD of the numbers is: 5\n"
     ]
    }
   ],
   "source": [
    "from functools import reduce\n",
    "import math\n",
    "\n",
    "def find_gcd(x, y):\n",
    "    return math.gcd(x, y)\n",
    "\n",
    "numbers = [20,15,55,25,120]\n",
    "\n",
    "gcd = reduce(find_gcd, numbers)\n",
    "\n",
    "print(f\"The GCD of the numbers is: {gcd}\")\n"
   ]
  },
  {
   "cell_type": "markdown",
   "id": "22d2b165-a1c3-477e-9bb9-09496db92f77",
   "metadata": {},
   "source": [
    "7. Write a Python program that uses the `reduce()` function to find the sum of the digits of a given number."
   ]
  },
  {
   "cell_type": "code",
   "execution_count": 25,
   "id": "725674ed-7e22-4e53-94ae-d9996aee8947",
   "metadata": {},
   "outputs": [
    {
     "name": "stdin",
     "output_type": "stream",
     "text": [
      "Enter a number:  982\n"
     ]
    },
    {
     "name": "stdout",
     "output_type": "stream",
     "text": [
      "The sum of digits in 982 is: 19\n"
     ]
    }
   ],
   "source": [
    "from functools import reduce\n",
    "\n",
    "def sum_digits(x, y):\n",
    "    return int(x) + int(y)\n",
    "\n",
    "number = int(input(\"Enter a number: \"))\n",
    "\n",
    "digits = list(str(number))\n",
    "\n",
    "digit_sum = reduce(sum_digits, digits)\n",
    "\n",
    "print(f\"The sum of digits in {number} is: {digit_sum}\")"
   ]
  },
  {
   "cell_type": "code",
   "execution_count": null,
   "id": "d0f5c7b5-c2d5-49da-80e2-20d8996b1be9",
   "metadata": {},
   "outputs": [],
   "source": [
    "Filter :-"
   ]
  },
  {
   "cell_type": "markdown",
   "id": "ee551692-f6e7-4fbe-8990-4a8ccdd2ad01",
   "metadata": {},
   "source": [
    "1. Explain the purpose of the `filter()` function in Python and provide an example of how it can be used to filter elements from an iterable."
   ]
  },
  {
   "cell_type": "raw",
   "id": "e0e22241-4956-482c-80c7-57a9da9da782",
   "metadata": {},
   "source": [
    "filter() is used to filter elements from an iterable (e.g., a list, tuple, or any iterable object) based on a specified condition.\n",
    "It takes two arguments: a function that defines the filtering condition and an iterable to be filtered.\n",
    "The filter() function returns an iterator that contains only the elements for which the condition specified in the function returns True.\n",
    "Syntax is : filter(function, iterable)\r\n",
    "\n",
    "Example\n",
    "# Define a filtering function to check if a number is even\r\n",
    "def is_even(x):\r\n",
    "    return x % 2 == 0\r\n",
    "\r\n",
    "# Create a list of integers\r\n",
    "numbers = [1, 2, 3, 4, 5, 6, 7, 8, 9, 10]\r\n",
    "\r\n",
    "# Use the filter() function to filter even numbers from the list\r\n",
    "even_numbers = list(filter(is_even, numbers))\r\n",
    "\r\n",
    "# Print the filtered even numbeen_numbers)rs\r\n",
    "print(ev\n",
    "Here filter() filters the even numbers from the numbers list and print the filtered result, which contains only the e_numbers)\r\n",
    ":\n"
   ]
  },
  {
   "cell_type": "code",
   "execution_count": null,
   "id": "e2866041-2cec-4a16-a94a-65ab55227098",
   "metadata": {},
   "outputs": [],
   "source": [
    "2. Write a Python program that uses the `filter()` function to select even numbers from a list of integers."
   ]
  },
  {
   "cell_type": "code",
   "execution_count": 26,
   "id": "b1883bcf-e35c-40ba-99ea-e89203c8e1d1",
   "metadata": {},
   "outputs": [
    {
     "name": "stdout",
     "output_type": "stream",
     "text": [
      "[2, 4, 6, 8, 10]\n"
     ]
    }
   ],
   "source": [
    "def is_even(x):\n",
    "    return x % 2 == 0\n",
    "    \n",
    "numbers = [1, 2, 3, 4, 5, 6, 7, 8, 9, 10]\n",
    "even_numbers = list(filter(is_even, numbers))\n",
    "print(even_numbers)"
   ]
  },
  {
   "cell_type": "markdown",
   "id": "74c17d7a-c401-4210-b179-1b24e69548a8",
   "metadata": {},
   "source": [
    "3. Create a Python program that uses the `filter()` function to select names that start with a specific letter from a list of strings."
   ]
  },
  {
   "cell_type": "code",
   "execution_count": 30,
   "id": "bbc18949-c184-493d-af3c-76b0e9260c5a",
   "metadata": {},
   "outputs": [
    {
     "name": "stdout",
     "output_type": "stream",
     "text": [
      "Names starting with 'A':\n",
      "Abc\n",
      "Aabbb\n",
      "Acbac\n"
     ]
    }
   ],
   "source": [
    "def starts_with_letter(letter, name):\n",
    "    return name.startswith(letter)\n",
    "\n",
    "names = [\"Abc\", \"Xyzz\",\"Aabbb\",\"Acbac\",\"Masd\",\"Sdfgha\"]\n",
    "\n",
    "# Enter the letter you want to filter names by\n",
    "letter_to_filter = \"A\"\n",
    "\n",
    "filtered_names = list(filter(lambda name: starts_with_letter(letter_to_filter, name), names))\n",
    "\n",
    "print(f\"Names starting with '{letter_to_filter}':\")\n",
    "for name in filtered_names:\n",
    "    print(name)\n"
   ]
  },
  {
   "cell_type": "markdown",
   "id": "01482d68-6d5f-4d00-8b74-f1e6b2cc4b4e",
   "metadata": {},
   "source": [
    "4. Write a Python program that uses the `filter()` function to select prime numbers from a list of integers."
   ]
  },
  {
   "cell_type": "code",
   "execution_count": 34,
   "id": "14d2398b-b44f-4eb4-baae-405914a00e6d",
   "metadata": {},
   "outputs": [
    {
     "name": "stdout",
     "output_type": "stream",
     "text": [
      "Prime Numbers:\n",
      "2\n",
      "5\n",
      "7\n",
      "11\n",
      "13\n"
     ]
    }
   ],
   "source": [
    "def is_prime(n):\n",
    "    if n <= 1:\n",
    "        return False\n",
    "    if n <= 3:\n",
    "        return True\n",
    "    if n % 2 == 0 or n % 3 == 0:\n",
    "        return False\n",
    "    i = 5\n",
    "    while i * i <= n:\n",
    "        if n % i == 0 or n % (i + 2) == 0:\n",
    "            return False\n",
    "        i += 6\n",
    "    return True\n",
    "\n",
    "numbers = [2,5,7,8,9,11,12,13,15]\n",
    "\n",
    "prime_numbers = list(filter(is_prime, numbers))\n",
    "\n",
    "print(\"Prime Numbers:\")\n",
    "for num in prime_numbers:\n",
    "    print(num)"
   ]
  },
  {
   "cell_type": "markdown",
   "id": "3c03618b-ce23-4e33-986a-fa513308d058",
   "metadata": {},
   "source": [
    "5. How can you use the `filter()` function to remove None values from a list in Python?"
   ]
  },
  {
   "cell_type": "code",
   "execution_count": 36,
   "id": "a8888e5f-7bf0-4d04-9462-86cc6e1946a7",
   "metadata": {},
   "outputs": [
    {
     "name": "stdout",
     "output_type": "stream",
     "text": [
      "Filtered Values:\n",
      "11\n",
      "23\n",
      "15\n",
      "27\n",
      "91\n"
     ]
    }
   ],
   "source": [
    "def remove_none(value):\n",
    "    return value is not None\n",
    "\n",
    "values = [11, None, 23, None, 15, None, 27, None, 91]\n",
    "\n",
    "filtered_values = list(filter(remove_none, values))\n",
    "\n",
    "print(\"Filtered Values:\")\n",
    "for value in filtered_values:\n",
    "    print(value)\n",
    "    \n",
    "###define a filtering function that returns True for non-None values and then applying that function to the list"
   ]
  },
  {
   "cell_type": "markdown",
   "id": "0bf12e24-afb8-4cb1-bee7-c81c8b53b3cc",
   "metadata": {},
   "source": [
    "6. Create a Python program that uses `filter()` to select words longer than a certain length from a list of strings."
   ]
  },
  {
   "cell_type": "code",
   "execution_count": 38,
   "id": "c719e776-87a3-48aa-809a-c48572232d30",
   "metadata": {
    "scrolled": true
   },
   "outputs": [
    {
     "name": "stdout",
     "output_type": "stream",
     "text": [
      "Words longer than 7 characters:\n",
      "Blackberry\n",
      "xiaomiNote5\n"
     ]
    }
   ],
   "source": [
    "def is_long_word(word, length):\n",
    "    return len(word) > length\n",
    "\n",
    "words = [\"Samsung\", \"OnePlus\", \"Apple\", \"Nokia\", \"Blackberry\", \"Nothing\", \"xiaomiNote5\"]\n",
    "\n",
    "min_length = 7\n",
    "\n",
    "long_words = list(filter(lambda word: is_long_word(word, min_length), words))\n",
    "\n",
    "print(f\"Words longer than {min_length} characters:\")\n",
    "for word in long_words:\n",
    "    print(word)\n"
   ]
  },
  {
   "cell_type": "markdown",
   "id": "1e5d7403-4762-4e87-90cd-5b62b7e4e515",
   "metadata": {},
   "source": [
    "7. Write a Python program that uses the `filter()` function to select elements greater than a specified threshold from a list of values."
   ]
  },
  {
   "cell_type": "code",
   "execution_count": 39,
   "id": "5b515b5e-9974-4bf0-8fa4-8e0037420e8c",
   "metadata": {},
   "outputs": [
    {
     "name": "stdout",
     "output_type": "stream",
     "text": [
      "Values greater than 16:\n",
      "18\n",
      "22\n",
      "45\n",
      "65\n"
     ]
    }
   ],
   "source": [
    "def is_greater_than_threshold(value, threshold):\n",
    "    return value > threshold\n",
    "values = [10,12,14,18,22,45,65]\n",
    "threshold = 16\n",
    "selected_values = list(filter(lambda value: is_greater_than_threshold(value, threshold), values))\n",
    "print(f\"Values greater than {threshold}:\")\n",
    "for value in selected_values:\n",
    "    print(value)\n"
   ]
  },
  {
   "cell_type": "code",
   "execution_count": null,
   "id": "6e5337b6-ec03-41c1-b6df-6e15ce9b332c",
   "metadata": {},
   "outputs": [],
   "source": [
    "Recursion:-"
   ]
  },
  {
   "cell_type": "markdown",
   "id": "b4489e5d-8647-4d1a-9d3b-2ec625666513",
   "metadata": {},
   "source": [
    "1. Explain the concept of recursion in Python. How does it differ from iteration?"
   ]
  },
  {
   "cell_type": "markdown",
   "id": "e7a00277-6be7-4c2e-b6a4-ed8bcfb9e528",
   "metadata": {},
   "source": [
    "Recursion is a programming technique where a function calls itself in order to solve a problem. In a recursive function, the problem is broken down into smaller, more manageable subproblems that are solved by calling the same function recursively.\n",
    "\n",
    "Differences between Recursion and Iteration:\r\n",
    "\r\n",
    "Termination Condition: In recursion, there must be a termination condition (base case) that stops the recursion. In iteration, the loop continues until a specified condition is no longer true.\r\n",
    "\r\n",
    "Function Calls: Recursion involves function calls within the same function, while iteration uses loops or other control structures to repeat a block of code.\r\n",
    "\r\n",
    "Stack Usage: Recursion can consume more memory due to the function call stack. Each recursive call adds a new frame to the call stack. In contrast, iteration typically uses a fixed amount of memory.\r\n",
    "\r\n",
    "Readability: Depending on the problem, recursion can sometimes lead to more elegant and readable code when solving certain types of problems, while iteration is often more straightforward for simpler tasks.\r\n",
    "\r\n",
    "Performance: In some cases, recursion can be less efficient than iteration because of the overhead associated with function calls. For certain algorithms and data structures, iterative approaches may be more \n",
    "\r\n",
    "\r\n",
    "\r\n",
    "\r\n",
    "Regenerate"
   ]
  },
  {
   "cell_type": "markdown",
   "id": "d5a86b3d-6fd4-4339-a42d-45834e4a1a98",
   "metadata": {},
   "source": [
    "2. Write a Python program to calculate the factorial of a number using recursion."
   ]
  },
  {
   "cell_type": "code",
   "execution_count": 40,
   "id": "4fc34c06-6c18-48c0-bac1-a20e1742c2b0",
   "metadata": {},
   "outputs": [
    {
     "name": "stdin",
     "output_type": "stream",
     "text": [
      "Enter a number:  9\n"
     ]
    },
    {
     "name": "stdout",
     "output_type": "stream",
     "text": [
      "The factorial of 9 is: 362880\n"
     ]
    }
   ],
   "source": [
    "def factorial(n):\n",
    "    if n == 0:\n",
    "        return 1\n",
    "    else:\n",
    "        return n * factorial(n - 1)\n",
    "\n",
    "num = int(input(\"Enter a number: \"))\n",
    "result = factorial(num)\n",
    "\n",
    "print(f\"The factorial of {num} is: {result}\")"
   ]
  },
  {
   "cell_type": "markdown",
   "id": "f4c3782a-1c07-4910-8e08-cc1e544d488d",
   "metadata": {},
   "source": [
    "3. Create a recursive Python function to find the nth Fibonacci number."
   ]
  },
  {
   "cell_type": "code",
   "execution_count": 43,
   "id": "1f6bbf36-2fc6-4ba9-b2c5-7d95630d976c",
   "metadata": {},
   "outputs": [
    {
     "name": "stdin",
     "output_type": "stream",
     "text": [
      "Enter a non-negative integer (n):  25\n"
     ]
    },
    {
     "name": "stdout",
     "output_type": "stream",
     "text": [
      "The 25th Fibonacci number is: 75025\n"
     ]
    }
   ],
   "source": [
    "def fibonacci(n):\n",
    "    if n <= 0:\n",
    "        return 0\n",
    "    elif n == 1:\n",
    "        return 1\n",
    "    else:\n",
    "        return fibonacci(n - 1) + fibonacci(n - 2)\n",
    "\n",
    "n = int(input(\"Enter a non-negative integer (n): \"))\n",
    "\n",
    "if n < 0:\n",
    "    print(\"Please enter a non-negative integer.\")\n",
    "else:\n",
    "    result = fibonacci(n)\n",
    "    print(f\"The {n}th Fibonacci number is: {result}\")\n"
   ]
  },
  {
   "cell_type": "markdown",
   "id": "e27a0d0f-e1e7-4b93-be5e-a4ddf94146f8",
   "metadata": {},
   "source": [
    "4. Write a recursive Python function to calculate the sum of all elements in a list."
   ]
  },
  {
   "cell_type": "code",
   "execution_count": 45,
   "id": "0c09b36e-7ce6-45c7-92ab-a7fd73548340",
   "metadata": {},
   "outputs": [
    {
     "name": "stdout",
     "output_type": "stream",
     "text": [
      "42\n"
     ]
    }
   ],
   "source": [
    "myList=[23,4,2,6,7]\n",
    " \n",
    "def sumOfList(myList, nSum):\n",
    "    if len(myList):\n",
    "        return sumOfList(myList[1:], nSum+myList[0])\n",
    "    else:\n",
    "        return nSum\n",
    "         \n",
    "print(sumOfList(myList, 0))"
   ]
  },
  {
   "cell_type": "markdown",
   "id": "bcef0678-48d0-4d8c-977e-b63b27987ffe",
   "metadata": {},
   "source": [
    "5. How can you prevent a recursive function from running indefinitely, causing a stack overflow error?"
   ]
  },
  {
   "cell_type": "raw",
   "id": "f67f5dcd-1703-441d-83a6-d23d48923b56",
   "metadata": {},
   "source": [
    "To prevent a recursive function from running indefinitely:\n",
    "1. Ensure that you define appropriate base cases for your specific problem.\n",
    "2. Verify that the input parameters are modified in such a way that they approach the base case.\n",
    "3. Test the function with various inputs to make sure it behaves as expected.\n",
    "4. Consider using debugging tools or print statements to trace the execution of the function and identify any issues with infinite recursion."
   ]
  },
  {
   "cell_type": "markdown",
   "id": "76b9d708-530b-483c-b980-6e054b768517",
   "metadata": {},
   "source": [
    "6. Create a recursive Python function to find the greatest common divisor (GCD) of two numbers using the Euclidean algorithm."
   ]
  },
  {
   "cell_type": "code",
   "execution_count": 46,
   "id": "d5e31628-7a41-470d-9496-35178c014216",
   "metadata": {},
   "outputs": [
    {
     "name": "stdin",
     "output_type": "stream",
     "text": [
      "Enter the first number:  20\n",
      "Enter the second number:  40\n"
     ]
    },
    {
     "name": "stdout",
     "output_type": "stream",
     "text": [
      "The GCD of 20 and 40 is: 20\n"
     ]
    }
   ],
   "source": [
    "def gcd_euclidean(a, b):\n",
    "    if b == 0:\n",
    "        return a\n",
    "    else:\n",
    "        return gcd_euclidean(b, a % b)\n",
    "\n",
    "num1 = int(input(\"Enter the first number: \"))\n",
    "num2 = int(input(\"Enter the second number: \"))\n",
    "\n",
    "result = gcd_euclidean(num1, num2)\n",
    "print(f\"The GCD of {num1} and {num2} is: {result}\")\n"
   ]
  },
  {
   "cell_type": "markdown",
   "id": "d5602a70-8e2a-4efa-9da9-a0286a56001f",
   "metadata": {},
   "source": [
    "7. Write a recursive Python function to reverse a string."
   ]
  },
  {
   "cell_type": "code",
   "execution_count": 47,
   "id": "b59f9880-de84-4a1c-97ef-2e5c33599e74",
   "metadata": {},
   "outputs": [
    {
     "name": "stdin",
     "output_type": "stream",
     "text": [
      "Enter a string:  python is a programming language\n"
     ]
    },
    {
     "name": "stdout",
     "output_type": "stream",
     "text": [
      "The reversed string is: egaugnal gnimmargorp a si nohtyp\n"
     ]
    }
   ],
   "source": [
    "def reverse_string(input_str):\n",
    "    if len(input_str) <= 1:\n",
    "        return input_str\n",
    "    else:\n",
    "        # Recursive case: Reverse the substring excluding the first character and\n",
    "        # append the first character at the end\n",
    "        return reverse_string(input_str[1:]) + input_str[0]\n",
    "\n",
    "original_str = input(\"Enter a string: \")\n",
    "\n",
    "reversed_str = reverse_string(original_str)\n",
    "\n",
    "print(f\"The reversed string is: {reversed_str}\")"
   ]
  },
  {
   "cell_type": "markdown",
   "id": "d96ad6c0-0fdf-4592-843c-76a1cb958698",
   "metadata": {},
   "source": [
    "8. Create a recursive Python function to calculate the power of a number (x^n)."
   ]
  },
  {
   "cell_type": "code",
   "execution_count": 48,
   "id": "d3f35412-0dc0-4a1f-a95a-cd3ad50864dc",
   "metadata": {},
   "outputs": [
    {
     "name": "stdin",
     "output_type": "stream",
     "text": [
      "Enter the base (x):  10\n",
      "Enter the exponent (n):  2\n"
     ]
    },
    {
     "name": "stdout",
     "output_type": "stream",
     "text": [
      "10.0^2 is: 100.0\n"
     ]
    }
   ],
   "source": [
    "def power(x, n):\n",
    "    # Base case: if n is 0, return 1 (x^0 is always 1)\n",
    "    if n == 0:\n",
    "        return 1\n",
    "    elif n > 0:\n",
    "        # Recursive case for positive n: calculate power(x, n-1) and multiply by x\n",
    "        return x * power(x, n - 1)\n",
    "    else:\n",
    "        # Recursive case for negative n: calculate power(x, -n) as 1 / power(x, -n)\n",
    "        return 1 / (x * power(x, -n - 1))\n",
    "\n",
    "base = float(input(\"Enter the base (x): \"))\n",
    "exponent = int(input(\"Enter the exponent (n): \"))\n",
    "\n",
    "result = power(base, exponent)\n",
    "print(f\"{base}^{exponent} is: {result}\")\n"
   ]
  },
  {
   "cell_type": "markdown",
   "id": "baf35e9e-b4fe-4d30-8815-667eed42b3df",
   "metadata": {},
   "source": [
    "9. Write a recursive Python function to find all permutations of a given string."
   ]
  },
  {
   "cell_type": "code",
   "execution_count": 50,
   "id": "0bdf6e02-96b2-40e1-aa58-98b76a57dda1",
   "metadata": {},
   "outputs": [
    {
     "name": "stdin",
     "output_type": "stream",
     "text": [
      "Enter a string:  xyz\n"
     ]
    },
    {
     "name": "stdout",
     "output_type": "stream",
     "text": [
      "Permutations:\n",
      "xyz\n",
      "xzy\n",
      "yxz\n",
      "yzx\n",
      "zxy\n",
      "zyx\n"
     ]
    }
   ],
   "source": [
    "def permutations(string):\n",
    "    # Base case: If the string has only one character or is empty, return the string itself as a permutation.\n",
    "    if len(string) <= 1:\n",
    "        return [string]\n",
    "\n",
    "    # Recursive case:\n",
    "    perms = []\n",
    "    for char in string:\n",
    "        # Exclude the current character\n",
    "        remaining_chars = string.replace(char, '', 1)\n",
    "        \n",
    "        # Recursively find permutations of the remaining characters\n",
    "        sub_perms = permutations(remaining_chars)\n",
    "        \n",
    "        # Add the current character to each permutation of the remaining characters\n",
    "        for perm in sub_perms:\n",
    "            perms.append(char + perm)\n",
    "    \n",
    "    return perms\n",
    "\n",
    "# Input: Get a string from the user\n",
    "input_str = input(\"Enter a string: \")\n",
    "\n",
    "# Call the recursive function to find permutations\n",
    "result = permutations(input_str)\n",
    "\n",
    "# Print the list of permutations\n",
    "print(\"Permutations:\")\n",
    "for perm in result:\n",
    "    print(perm)\n"
   ]
  },
  {
   "cell_type": "markdown",
   "id": "c7491fd9-14b2-41ef-870b-f1c0bd150ff9",
   "metadata": {},
   "source": [
    "10. Write a recursive Python function to check if a string is a palindrome."
   ]
  },
  {
   "cell_type": "code",
   "execution_count": 52,
   "id": "513f5f46-e1b0-4d33-b8a7-7ac254ee47b1",
   "metadata": {},
   "outputs": [
    {
     "name": "stdout",
     "output_type": "stream",
     "text": [
      "madam is a palindrome.\n"
     ]
    }
   ],
   "source": [
    "def is_palindrome(s):\n",
    "    # Base case: If the string has 0 or 1 characters, it's a palindrome.\n",
    "    if len(s) <= 1:\n",
    "        return True\n",
    "    \n",
    "    # Check if the first and last characters are the same (ignoring case).\n",
    "    first_char = s[0].lower()\n",
    "    last_char = s[-1].lower()\n",
    "    \n",
    "    if first_char != last_char:\n",
    "        return False\n",
    "    \n",
    "    # Recursive case: Check the remaining substring without the first and last characters.\n",
    "    return is_palindrome(s[1:-1])\n",
    "\n",
    "# Test the function\n",
    "input_string = \"madam\"\n",
    "result = is_palindrome(input_string)\n",
    "if result:\n",
    "    print(f\"{input_string} is a palindrome.\")\n",
    "else:\n",
    "    print(f\"{input_string} is not a palindrome.\")\n"
   ]
  },
  {
   "cell_type": "markdown",
   "id": "678b9b31-9631-497b-846d-af6ee206ae71",
   "metadata": {},
   "source": [
    "11. Create a recursive Python function to generate all possible combinations of a list of elements."
   ]
  },
  {
   "cell_type": "code",
   "execution_count": 58,
   "id": "7c543ca2-f881-4da5-a8cb-a233ea8bbea2",
   "metadata": {},
   "outputs": [
    {
     "name": "stdout",
     "output_type": "stream",
     "text": [
      "[[], [1], [2], [1, 2], [3], [1, 3], [2, 3], [1, 2, 3]]\n"
     ]
    }
   ],
   "source": [
    "#The base case is: if the list is empty, then the only combination is the empty combination.\n",
    "def combinations(l):\n",
    "    if l:\n",
    "      result = combinations(l[:-1])\n",
    "      return result + [c + [l[-1]] for c in result]\n",
    "    else:\n",
    "      return [[]]\n",
    "print(combinations([1,2,3]))"
   ]
  },
  {
   "cell_type": "markdown",
   "id": "7ddcc791-0d0d-4014-a4f8-b88d5d3e74cf",
   "metadata": {},
   "source": [
    "Basics of Functions:"
   ]
  },
  {
   "cell_type": "markdown",
   "id": "725295d6-8c83-4994-a108-f5699aa269b9",
   "metadata": {},
   "source": [
    "1. What is a function in Python, and why is it used?"
   ]
  },
  {
   "cell_type": "markdown",
   "id": "6cefc634-095a-42db-a85c-5700d3d791e4",
   "metadata": {},
   "source": [
    "In Python, a function is a block of organized, reusable code that performs a specific task or set of tasks. Functions are a fundamental concept in programming and serve several important purposes:\n",
    "Modularity and Reusability: Functions allow you to break down a program into smaller, manageable pieces of code. You can define a function once and then reuse it multiple times throughout your program. This promotes code reusability and makes your code easier to maintain.\r\n",
    "\r\n",
    "Abstraction: Functions encapsulate a specific task or operation behind an interface. Users of the function don't need to know how the task is implemented; they only need to know what the function does and how to use it. This abstraction simplifies the code and makes it more readable.\r\n",
    "\r\n",
    "Readability: By dividing a program into functions, you can make the code more organized and easier to read. Functions allow you to give meaningful names to different parts of your code, making it clear what each part does.\r\n",
    "\r\n",
    "Code Organization: Functions help you organize your code logically. You can group related code together within a function, which improves code maintainability and makes it easier to locate and fix issues.\r\n",
    "\r\n",
    "Parameterization: Functions can accept input parameters (arguments), allowing them to perform the same operation with different data. This parameterization makes your code more flexible and versatile.\r\n",
    "\r\n",
    "Return Values: Functions can return results or values after performing their tasks. This allows you to capture and use the output of a function in other parts of your program."
   ]
  },
  {
   "cell_type": "markdown",
   "id": "7373f576-e92d-4248-99a4-55ffb4b1f603",
   "metadata": {},
   "source": [
    "2. How do you define a function in Python? Provide an example."
   ]
  },
  {
   "cell_type": "markdown",
   "id": "be0f6042-ccd7-40b0-9b71-1c87d3b9f6f6",
   "metadata": {},
   "source": [
    "In Python, you can define a function using the def keyword followed by the function name and a pair of parentheses that may contain optional input parameters (also called arguments). \n",
    "The function body is indented and contains the code to be executed when the function is called. \n",
    "Here's the basic syntax for defining a function:\n",
    "\n",
    "def square(x):'\r\n",
    "    result = x * x\r\n",
    "    return resu\n",
    "    ction\r\n",
    "num = 5\r\n",
    "result = square(num)\r\n",
    "print(f\"The square of {num} is {result}\")\r\n"
   ]
  },
  {
   "cell_type": "code",
   "execution_count": null,
   "id": "ff158c85-aed8-4872-997f-08a9dd926b73",
   "metadata": {},
   "outputs": [],
   "source": [
    "3. Explain the difference between a function definition and a function call."
   ]
  },
  {
   "cell_type": "raw",
   "id": "6d0c670d-bfa2-4ec8-977d-9cac4ee64a2a",
   "metadata": {},
   "source": [
    "Function Definition:\n",
    "\n",
    "Purpose: The function definition is the process of creating a function and specifying its behavior. It defines what the function does when it's called.\n",
    "\n",
    "Syntax: In Python, a function is defined using the def keyword, followed by the function name, a pair of parentheses containing optional parameters (arguments), a colon (:), and the function body.\n",
    "\n",
    "Example:\n",
    "def add(a, b):\r\n",
    "    result = a + b\r\n",
    "    return reltsu\n",
    "\n",
    "Function Call:\r\n",
    "\r\n",
    "Purpose: A function call is the process of invoking or executing a function that has already been defined. It triggers the execution of the code inside the function definition.\r\n",
    "\r\n",
    "Syntax: To call a function, you simply use its name followed by a pair of parentheses containing the arguments (if any) that the function expectsmple: \n",
    ".\r\n",
    "\r\n",
    "Exaresult = add(3, 5)  # Calling the 'add' function with arguments l:\n",
    "    lt\r\n"
   ]
  },
  {
   "cell_type": "markdown",
   "id": "0253518c-c767-488e-9a53-f5df5df211ef",
   "metadata": {},
   "source": [
    "4. Write a Python program that defines a function to calculate the sum of two numbers and then calls the function."
   ]
  },
  {
   "cell_type": "code",
   "execution_count": 60,
   "id": "f63a9c57-4eac-4a91-8950-3ddb70f62147",
   "metadata": {},
   "outputs": [
    {
     "name": "stdin",
     "output_type": "stream",
     "text": [
      "Enter the first number:  10\n",
      "Enter the second number:  12\n"
     ]
    },
    {
     "name": "stdout",
     "output_type": "stream",
     "text": [
      "The sum of 10.0 and 12.0 is 22.0\n"
     ]
    }
   ],
   "source": [
    "# Define a function to calculate the sum of two numbers\n",
    "def add_numbers(a, b):\n",
    "    result = a + b\n",
    "    return result\n",
    "\n",
    "num1 = float(input(\"Enter the first number: \"))\n",
    "num2 = float(input(\"Enter the second number: \"))\n",
    "\n",
    "sum_result = add_numbers(num1, num2)\n",
    "\n",
    "print(f\"The sum of {num1} and {num2} is {sum_result}\")\n"
   ]
  },
  {
   "cell_type": "code",
   "execution_count": null,
   "id": "3197c754-564f-4a3e-9407-8ccabc3fb98d",
   "metadata": {},
   "outputs": [],
   "source": [
    "5. What is a function signature, and what information does it typically include?"
   ]
  },
  {
   "cell_type": "markdown",
   "id": "deff3c6a-cc5e-4e81-bc83-d2ea05d9e236",
   "metadata": {},
   "source": [
    "A function signature, also known as a function declaration or function prototype, is a way to specify the essential information about a function without including the function's implementation details. It serves as a contract or documentation for how a function should be used, and it typically includes the following information:\n",
    "\n",
    "Function Name: The name that identifies the function. This is used to call the function in your code.\n",
    "\n",
    "Return Type: The data type of the value that the function returns. In Python, functions can return any type of value or None if no specific value is returned.\n",
    "\n",
    "Parameters (Arguments): The list of input values or parameters that the function accepts. Each parameter is accompanied by its data type or type hint.\n",
    "\n",
    "Exceptions (if applicable): For languages that support exception handling, the function signature may indicate which exceptions can be raised by the function."
   ]
  },
  {
   "cell_type": "code",
   "execution_count": null,
   "id": "16542dfc-72f9-42ac-85d3-16369a6195db",
   "metadata": {},
   "outputs": [],
   "source": [
    "6. Create a Python function that takes two arguments and returns their product."
   ]
  },
  {
   "cell_type": "code",
   "execution_count": 68,
   "id": "e75f8090-9120-4fd5-85ca-9acdc4da2e17",
   "metadata": {},
   "outputs": [
    {
     "name": "stdout",
     "output_type": "stream",
     "text": [
      "The product of 5 and 3 is 15\n"
     ]
    }
   ],
   "source": [
    "def multiply(a, b):\n",
    "    result = a * b\n",
    "    return result\n",
    "\n",
    "# Example usage:\n",
    "num1 = 5\n",
    "num2 = 3\n",
    "product = multiply(num1, num2)\n",
    "print(f\"The product of {num1} and {num2} is {product}\")\r\n"
   ]
  },
  {
   "cell_type": "code",
   "execution_count": null,
   "id": "1611766f-94e5-4636-937d-365ca7ac6ed0",
   "metadata": {},
   "outputs": [],
   "source": [
    "Function Parameters and Arguments:"
   ]
  },
  {
   "cell_type": "code",
   "execution_count": null,
   "id": "1e371469-a534-4e71-96ef-838cbcb856a9",
   "metadata": {},
   "outputs": [],
   "source": [
    "1. Explain the concepts of formal parameters and actual arguments in Python functions."
   ]
  },
  {
   "cell_type": "markdown",
   "id": "43784e91-d1e6-4d74-857f-bf8a89611a80",
   "metadata": {},
   "source": [
    "##### In Python functions, the concepts of formal parameters and actual arguments are related to how information is passed into and received by a function. \n",
    "These concepts help define the interface between the caller (the part of the program that invokes the function) and the function itself.\r\n",
    "\r\n",
    "Formal Parameters:\r\n",
    "\r\n",
    "Definition: Formal parameters are placeholders or variables defined in the function's signature. They represent the values that the function expects to receive when it is called. Formal parameters are also commonly referred to as function parameters or function arguments.\r\n",
    "\r\n",
    "Purpose: Formal parameters define the input data that the function will operate on. They serve as variables that are local to the function and can be used within the function's\n",
    "\n",
    "Actual Arguments (Arguments):\r\n",
    "\r\n",
    "Definition: Actual arguments, often referred to simply as arguments, are the values or expressions provided when calling a function. These are the actual data that is passed to the function when it is invoked.\r\n",
    "\r\n",
    "Purpose: Actual arguments supply the values that will be used to initialize the formal parameters within the function. They can be constants, variables, or expressio \r\n",
    "\r\n",
    "\r\n",
    "\r\n",
    "\r\n",
    "Regenerate body."
   ]
  },
  {
   "cell_type": "code",
   "execution_count": null,
   "id": "ce83dbdc-8b8c-4a9a-a5d5-20940dd8dad4",
   "metadata": {},
   "outputs": [],
   "source": [
    "2. Write a Python program that defines a function with default argument values."
   ]
  },
  {
   "cell_type": "code",
   "execution_count": 70,
   "id": "1a2277ef-0da6-4c43-8c89-eeb856d4dec6",
   "metadata": {},
   "outputs": [
    {
     "name": "stdout",
     "output_type": "stream",
     "text": [
      "Guest, Hello!\n",
      "Hello, World!\n"
     ]
    }
   ],
   "source": [
    "# Define a function with default argument values\n",
    "def greet(name=\"Guest\", greeting=\"Hello\"):\n",
    "    message = f\"{name}, {greeting}!\"\n",
    "    return message\n",
    "\n",
    "# Call the function without providing arguments (use default values)\n",
    "default_greeting = greet()\n",
    "print(default_greeting)\n",
    "\n",
    "# Call the function with custom values\n",
    "custom_greeting = greet(\"Hello\", \"World\")\n",
    "print(custom_greeting)\n"
   ]
  },
  {
   "cell_type": "code",
   "execution_count": null,
   "id": "91ffbec5-129e-4431-8f2b-a4c6cfb83c93",
   "metadata": {},
   "outputs": [],
   "source": [
    "3. How do you use keyword arguments in Python function calls? Provide an example."
   ]
  },
  {
   "cell_type": "markdown",
   "id": "883925a6-fe3c-4efb-80a6-fa520c153bb8",
   "metadata": {},
   "source": [
    "To use keyword arguments, you provide the parameter names followed by a colon (:) and the corresponding values when calling a function.\n",
    "\n",
    "function_name(param1=value1, param2=value2, ...)"
   ]
  },
  {
   "cell_type": "code",
   "execution_count": null,
   "id": "e1182e70-530d-4f1a-aa8c-e9de2f9b1265",
   "metadata": {},
   "outputs": [],
   "source": [
    "4. Create a Python function that accepts a variable number of arguments and calculates their sum."
   ]
  },
  {
   "cell_type": "code",
   "execution_count": 71,
   "id": "16a0037f-af16-4320-a6c9-a81e5cafb987",
   "metadata": {},
   "outputs": [
    {
     "name": "stdout",
     "output_type": "stream",
     "text": [
      "The sum is: 15\n"
     ]
    }
   ],
   "source": [
    "def calculate_sum(*args):\n",
    "    total = sum(args)\n",
    "    return total\n",
    "\n",
    "# Example usage:\n",
    "result = calculate_sum(1, 2, 3, 4, 5)\n",
    "print(f\"The sum is: {result}\")\n"
   ]
  },
  {
   "cell_type": "code",
   "execution_count": null,
   "id": "ed6ad9e5-176d-4a95-be3a-3ede41dbc265",
   "metadata": {},
   "outputs": [],
   "source": [
    "5. What is the purpose of the `*args` and `**kwargs` syntax in function parameter lists?"
   ]
  },
  {
   "cell_type": "markdown",
   "id": "d5d83581-8055-4f19-b24d-fff74306e729",
   "metadata": {},
   "source": [
    "*args (Arbitrary Positional Arguments):\n",
    "\n",
    "Purpose: The *args syntax allows a function to accept an arbitrary number of positional arguments. It collects these arguments into a tuple, which can be iterated over or used in computations within the function.\n",
    "\n",
    "**kwargs (Arbitrary Keyword Arguments):\r\n",
    "\r\n",
    "Purpose: The **kwargs syntax allows a function to accept an arbitrary number of keyword arguments. It collects these keyword arguments into a dictionary, where the keys are the argument names and the values are the corresponding values passed to the function."
   ]
  },
  {
   "cell_type": "code",
   "execution_count": null,
   "id": "f4b21080-bda7-474d-8dd1-31b938f9f981",
   "metadata": {},
   "outputs": [],
   "source": [
    "Return Values and Scoping:"
   ]
  },
  {
   "cell_type": "code",
   "execution_count": null,
   "id": "b7770210-4f67-4702-81c5-2d3fbc328a2c",
   "metadata": {},
   "outputs": [],
   "source": [
    "1. Describe the role of the `return` statement in Python functions and provide examples."
   ]
  },
  {
   "cell_type": "markdown",
   "id": "c6602ef1-2c18-4d32-96d3-35f45c4f8bc8",
   "metadata": {},
   "source": [
    "The return statement in Python functions plays a crucial role in specifying the value or result that a function should produce and send back to the caller.It allows functions to provide output, and it terminates the function's execution, transferring control back to the caller.\n",
    "\n",
    "def add(a, b):\r\n",
    "    result = a + b\r\n",
    "    return result\r\n",
    "\r\n",
    "sum_result = add(3, 5)  # Calling the 'add' function\r\n",
    "print(sum_result)  # Outp\n",
    "In this example, the add function calculates the sum of two numbers and returns the result using the return statement. When we call the function with arguments 3 and 5, it returns 8.: 8\r\n",
    "\n"
   ]
  },
  {
   "cell_type": "code",
   "execution_count": null,
   "id": "ee72cade-4f61-488b-936a-d0194db7d2f7",
   "metadata": {},
   "outputs": [],
   "source": [
    "2. Explain the concept of variable scope in Python, including local and global variables."
   ]
  },
  {
   "cell_type": "markdown",
   "id": "a5ff4ba9-d9a7-414a-b38e-07e4578a1653",
   "metadata": {},
   "source": [
    "Variable scope in Python refers to the area of a program where a variable is accessible or visible. Python has two main types of variable scope: local scope and global scope.\n",
    "\n",
    "Local Variables:\n",
    "\n",
    "Local Scope: Variables defined within a function have a local scope. They are only accessible and usable within that specific function.\n",
    "\n",
    "Lifetime: Local variables are created when the function is called and destroyed when the function exits. They do not persist outside the function.\n",
    "\n",
    "Example:\n",
    "def my_function():\r\n",
    "    x = 10  # 'x' is a local variable\r\n",
    "    print(x)\r\n",
    "\r\n",
    "my_function()  # Call the function\r\n",
    "print(x)  # This will result in an error because 'x' is not defined in the global \n",
    "\n",
    "\n",
    "Global Variables:\r\n",
    "\r\n",
    "Global Scope: Variables defined outside of any function have a global scope. They can be accessed and modified from anywhere in the program.\r\n",
    "\r\n",
    "Lifetime: Global variables persist throughout the program's execution, from the point they are defined until the program terminates.\r\n",
    "\r\n",
    "Exay = 20  # 'y' is a global variable\r\n",
    "\r\n",
    "def another_function():\r\n",
    "    print(y)  # 'y' can be accessed from within the function\r\n",
    "\r\n",
    "another_function()  # Call the function\r\n",
    "print(y)  # Access 'y' outside the function\r\n",
    "mple:scope\r\n",
    "\n"
   ]
  },
  {
   "cell_type": "code",
   "execution_count": null,
   "id": "1d9cc127-c38d-47b7-ac1b-43baab79fbf1",
   "metadata": {},
   "outputs": [],
   "source": [
    "3. Write a Python program that demonstrates the use of global variables within functions."
   ]
  },
  {
   "cell_type": "code",
   "execution_count": 72,
   "id": "2b0338e9-51a2-43a9-b518-37aae9b0611d",
   "metadata": {},
   "outputs": [
    {
     "name": "stdout",
     "output_type": "stream",
     "text": [
      "Inside the function:\n",
      "Global variable: 10\n",
      "Inside the function:\n",
      "Global variable before modification: 10\n",
      "Global variable after modification: 20\n",
      "Inside the function:\n",
      "Global variable: 20\n",
      "Outside the functions:\n",
      "Global variable: 20\n"
     ]
    }
   ],
   "source": [
    "# Define a global variable\n",
    "global_variable = 10\n",
    "\n",
    "# Function that accesses the global variable\n",
    "def access_global_variable():\n",
    "    print(\"Inside the function:\")\n",
    "    print(f\"Global variable: {global_variable}\")\n",
    "\n",
    "# Function that modifies the global variable\n",
    "def modify_global_variable():\n",
    "    global global_variable  # Declare 'global_variable' as global within the function\n",
    "    print(\"Inside the function:\")\n",
    "    print(f\"Global variable before modification: {global_variable}\")\n",
    "    global_variable = 20  # Modify the global variable\n",
    "    print(f\"Global variable after modification: {global_variable}\")\n",
    "\n",
    "# Call the functions\n",
    "access_global_variable()\n",
    "modify_global_variable()\n",
    "access_global_variable()\n",
    "\n",
    "# Print the global variable outside the functions\n",
    "print(\"Outside the functions:\")\n",
    "print(f\"Global variable: {global_variable}\")\n"
   ]
  },
  {
   "cell_type": "code",
   "execution_count": null,
   "id": "0401a1d5-7397-4568-b4e7-317530f104ee",
   "metadata": {},
   "outputs": [],
   "source": [
    "4. Create a Python function that calculates the factorial of a number and returns it."
   ]
  },
  {
   "cell_type": "code",
   "execution_count": 73,
   "id": "89eb3947-3cbd-43b1-af1d-109dcb4dda87",
   "metadata": {},
   "outputs": [
    {
     "name": "stdout",
     "output_type": "stream",
     "text": [
      "The factorial of 5 is 120\n"
     ]
    }
   ],
   "source": [
    "def factorial(n):\n",
    "    if n == 0:\n",
    "        return 1  # Base case: 0! = 1\n",
    "    else:\n",
    "        return n * factorial(n - 1)\n",
    "\n",
    "number = 5\n",
    "result = factorial(number)\n",
    "print(f\"The factorial of {number} is {result}\")\n"
   ]
  },
  {
   "cell_type": "code",
   "execution_count": null,
   "id": "1c3ec9b0-274d-484a-ada3-8709705f815a",
   "metadata": {},
   "outputs": [],
   "source": [
    "5. How can you access variables defined outside a function from within the function?"
   ]
  },
  {
   "cell_type": "markdown",
   "id": "d853b351-e279-48df-83c4-8d71db28cfff",
   "metadata": {},
   "source": [
    "In Python, you can access variables defined outside a function from within the function by using those variables directly. This is because Python has a concept called \"lexical scoping\" or \"closure,\" which allows functions to access variables from their containing scope (the scope in which the function was defined)"
   ]
  },
  {
   "cell_type": "code",
   "execution_count": null,
   "id": "c25c3b6f-68dc-4c78-9f17-13f34e1014fc",
   "metadata": {},
   "outputs": [],
   "source": [
    "Built-in Functions:"
   ]
  },
  {
   "cell_type": "code",
   "execution_count": null,
   "id": "fc7183ea-0b8d-420f-b284-a4f16c70cb46",
   "metadata": {},
   "outputs": [],
   "source": [
    "1. Describe the role of built-in functions like `len()`, `max()`, and `min()` in Python."
   ]
  },
  {
   "cell_type": "markdown",
   "id": "435ac062-d7da-4020-b414-44ccbada8e4f",
   "metadata": {},
   "source": [
    "len():\n",
    "Role: The len() function is used to determine the length or number of elements in a sequence, such as a string, list, tuple, or dictionary. It returns the count of elements.\n",
    "\n",
    "max():\n",
    "\r\n",
    "Role: The max() function is used to find the largest element in an iterable (e.g., a list, tuple, or string). It can also accept multiple arguments and return the maximum value among the\n",
    "\n",
    "min():\n",
    "\r\n",
    "Role: The min() function is used to find the smallest element in an iterable or among multiple arguments. It is the counterpart of the max() function.m."
   ]
  },
  {
   "cell_type": "code",
   "execution_count": null,
   "id": "01fe770d-d121-4faf-893a-061f83c021ce",
   "metadata": {},
   "outputs": [],
   "source": [
    "2. Write a Python program that uses the `map()` function to apply a function to each element of a list."
   ]
  },
  {
   "cell_type": "code",
   "execution_count": 74,
   "id": "a342d7ae-5e6d-49ba-8226-f8a0009a01c8",
   "metadata": {},
   "outputs": [
    {
     "name": "stdout",
     "output_type": "stream",
     "text": [
      "Original Numbers: [1, 2, 3, 4, 5]\n",
      "Squared Numbers: [1, 4, 9, 16, 25]\n"
     ]
    }
   ],
   "source": [
    "def square(x):\n",
    "    return x ** 2\n",
    "\n",
    "numbers = [1, 2, 3, 4, 5]\n",
    "\n",
    "squared_numbers = map(square, numbers)\n",
    "\n",
    "squared_numbers_list = list(squared_numbers)\n",
    "\n",
    "print(\"Original Numbers:\", numbers)\n",
    "print(\"Squared Numbers:\", squared_numbers_list)\n"
   ]
  },
  {
   "cell_type": "code",
   "execution_count": null,
   "id": "75866d7c-1134-4c98-b2a4-0d042b302a72",
   "metadata": {},
   "outputs": [],
   "source": [
    "3. How does the `filter()` function work in Python, and when would you use it?"
   ]
  },
  {
   "cell_type": "markdown",
   "id": "9349d05d-d6a8-4278-bf91-c193d4d3ceb1",
   "metadata": {},
   "source": [
    "The filter() function in Python is used to filter elements from an iterable (e.g., a list, tuple, or any iterable) based on a given condition or function. It returns an iterable containing only those elements that satisfy the specified condition. Here's how the filter() function works:\n",
    "\n",
    "Syntax:\n",
    "filter(function, iterable)\n",
    "\n",
    "function: A function that defines the condition for filtering. This function should return True for elements that should be included in the output and False for elements that should be excluded.\n",
    "iterable: The iterable (e.g., list, tuple) containing the elements to be filtered.\n",
    "\n",
    "Example:\n",
    "\n",
    "def is_even(x):\n",
    "    return x % 2 == 0\n",
    "\n",
    "numbers = [1, 2, 3, 4, 5, 6]\n",
    "even_numbers = filter(is_even, numbers)"
   ]
  },
  {
   "cell_type": "code",
   "execution_count": null,
   "id": "77bb3b82-e528-40d5-a6b5-72cfbcbe0050",
   "metadata": {},
   "outputs": [],
   "source": [
    "4. Create a Python program that uses the `reduce()` function to find the product of all elements in a list."
   ]
  },
  {
   "cell_type": "code",
   "execution_count": 75,
   "id": "401bb657-73d2-402e-b934-6bf8a0c6c273",
   "metadata": {},
   "outputs": [
    {
     "name": "stdout",
     "output_type": "stream",
     "text": [
      "The product of all elements in the list is: 120\n"
     ]
    }
   ],
   "source": [
    "from functools import reduce\n",
    "\n",
    "def multiply(x, y):\n",
    "    return x * y\n",
    "\n",
    "numbers = [1, 2, 3, 4, 5]\n",
    "product = reduce(multiply, numbers)\n",
    "print(f\"The product of all elements in the list is: {product}\")\n"
   ]
  },
  {
   "cell_type": "code",
   "execution_count": null,
   "id": "91c8ceab-891e-4826-a62c-4ccd3edb67b0",
   "metadata": {},
   "outputs": [],
   "source": [
    "Function Documentation and Best Practices:"
   ]
  },
  {
   "cell_type": "code",
   "execution_count": null,
   "id": "66ef60de-472f-434c-980b-306d37a29593",
   "metadata": {},
   "outputs": [],
   "source": [
    "1.Explain the purpose of docstrings in Python functions and how to write them."
   ]
  },
  {
   "cell_type": "markdown",
   "id": "166f10b2-4e6f-463f-bebe-6ccdf6de55f9",
   "metadata": {},
   "source": [
    "Docstrings in Python functions serve the purpose of providing documentation and information about the function's purpose, usage, parameters, return values, and any other relevant details. They are meant to help both developers who write the code and users who need to understand how to use the function correctly. Here's how to write and use docstrings in Python functions:\n",
    "\n",
    "Writing Docstrings:\r\n",
    "\r\n",
    "A docstring is typically a multi-line string enclosed in triple quotes (''' or \"\"\") that appears immediately after the function or method definition.\r\n",
    "\r\n",
    "The docstring should provide a clear and concise description of what the function does and any important details about its usage.\r\n",
    "\r\n",
    "It can include information such as the function's purpose, input parameters (including their types and meanings), return values (including their types), and any exceptions r\n",
    "    return area\r\n",
    "aised."
   ]
  },
  {
   "cell_type": "code",
   "execution_count": null,
   "id": "d2915d03-a2e9-4d5d-892b-eb7b4d2c7880",
   "metadata": {},
   "outputs": [],
   "source": [
    "2.Describe some best practices for naming functions and variables in Python, including naming conventions and guidelines."
   ]
  },
  {
   "cell_type": "markdown",
   "id": "d14bbd74-ed33-470e-841d-54ea18539e29",
   "metadata": {},
   "source": [
    "Here are some best practices for naming functions and variables in Python:\n",
    "\n",
    "1. Use Descriptive Names:\n",
    "Choose names that clearly and concisely describe the purpose or functionality of the function or variable.\n",
    "Avoid overly short or cryptic names that may be difficult to understand.\n",
    "\n",
    "2. Follow PEP 8:\n",
    "PEP 8 is the Python Enhancement Proposal that provides a style guide for Python code. It includes recommendations for naming conventions.\n",
    "Function and variable names should be lowercase with words separated by underscores (snake_case).\n",
    "Class names should be written in CamelCase (each word starts with an uppercase letter, and there are no underscores).\n",
    "\n",
    "3. Be Consistent:\n",
    "Maintain consistency in your naming style throughout your codebase.\n",
    "If you adopt a specific naming convention, stick to it to make your code more predictable.\n",
    "\n",
    "4. Use Meaningful Variable Names:\n",
    "Choose variable names that convey the meaning of the data they store.\n",
    "Avoid single-letter variable names (e.g., x, y) unless they represent loop indices or other well-defined conventions.\n",
    "\n",
    "5. Avoid Reserved Keywords:\n",
    "Do not use Python reserved keywords (e.g., class, if, else, while) as variable or function names.\n",
    "\n",
    "6. Use Verb-Noun Naming for Functions:\n",
    "Name functions with verbs that describe their actions, followed by nouns that represent the objects or data they operate on.\n",
    "For example: calculate_area(), print_report(), validate_input().\n",
    "\n",
    "7. Use Noun Naming for Variables:\n",
    "Variable names should typically be nouns or noun phrases that describe the data they hold.\n",
    "For example: user_name, total_count, product_list.\n",
    "\n",
    "8. Avoid Ambiguous Abbreviations:\n",
    "Avoid using unclear or ambiguous abbreviations in variable and function names.\n",
    "If an abbreviation is commonly understood (e.g., msg for \"message\"), it may be acceptable.\n",
    "\n",
    "9. Use Constants in UPPERCASE:\n",
    "If you define constants in your code, use uppercase letters and underscores to separate words (e.g., PI, MAX_LENGTH).\n",
    "\n",
    "10. Be Mindful of Scope:\n",
    "Choose variable names that reflect their scope (local, global, or class-level) to avoid confusion and scope-related errors.\n",
    "\n",
    "11. Use Plural for Collections:\n",
    "When naming variables that hold collections (e.g., lists, dictionaries), use plural names to indicate that they contain multiple elements.\n",
    "For example: students, fruits.\n",
    "\n",
    "12. Document When Necessary:\n",
    "If a variable or function has a non-obvious purpose or usage, consider adding comments or docstrings to explain its role.\n",
    "\n",
    "13. Consider Code Review Feedback:\n",
    "Be open to feedback from code reviews. Reviewers may provide valuable insights on naming improvements."
   ]
  }
 ],
 "metadata": {
  "kernelspec": {
   "display_name": "Python 3 (ipykernel)",
   "language": "python",
   "name": "python3"
  },
  "language_info": {
   "codemirror_mode": {
    "name": "ipython",
    "version": 3
   },
   "file_extension": ".py",
   "mimetype": "text/x-python",
   "name": "python",
   "nbconvert_exporter": "python",
   "pygments_lexer": "ipython3",
   "version": "3.11.5"
  }
 },
 "nbformat": 4,
 "nbformat_minor": 5
}
