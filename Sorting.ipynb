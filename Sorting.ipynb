{
 "cells": [
  {
   "cell_type": "markdown",
   "id": "d57bf4b2",
   "metadata": {},
   "source": [
    "1.Given an array of n numbers, give an algorithm which gives the element appearing maximum number of times?"
   ]
  },
  {
   "cell_type": "code",
   "execution_count": 1,
   "id": "94ca1fcf",
   "metadata": {},
   "outputs": [],
   "source": [
    "def find_most_frequent_element(arr):\n",
    "    # Step 1: Initialize an empty dictionary\n",
    "    frequency_map = {}\n",
    "    \n",
    "    # Step 2: Count frequencies of each element\n",
    "    for element in arr:\n",
    "        if element in frequency_map:\n",
    "            frequency_map[element] += 1\n",
    "        else:\n",
    "            frequency_map[element] = 1\n",
    "    \n",
    "    # Step 3: Find the element with the maximum frequency\n",
    "    max_element = None\n",
    "    max_count = 0\n",
    "    \n",
    "    for element, count in frequency_map.items():\n",
    "        if count > max_count:\n",
    "            max_count = count\n",
    "            max_element = element\n",
    "    \n",
    "    return max_element"
   ]
  },
  {
   "cell_type": "code",
   "execution_count": 4,
   "id": "56d202ef",
   "metadata": {},
   "outputs": [
    {
     "name": "stdout",
     "output_type": "stream",
     "text": [
      "The most frequent element is: 1\n"
     ]
    }
   ],
   "source": [
    "arr = [1, 3, 2, 1, 4, 1, 0, 3, 4, 2]\n",
    "most_frequent = find_most_frequent_element(arr)\n",
    "print(f\"The most frequent element is: {most_frequent}\")"
   ]
  },
  {
   "cell_type": "markdown",
   "id": "90e5f219",
   "metadata": {},
   "source": [
    "2.We are given a list of n-1 integers and these integers are in the range of 1 to n . There are no duplicates in the list. One of the integers is missing in the list. Give an algorithm to find that element Ex:\n",
    "[1,2,4,6,3,7,8] 5 is the missing num."
   ]
  },
  {
   "cell_type": "code",
   "execution_count": 5,
   "id": "09a959ac",
   "metadata": {},
   "outputs": [
    {
     "name": "stdout",
     "output_type": "stream",
     "text": [
      "The missing number is: 5\n"
     ]
    }
   ],
   "source": [
    "def find_missing_number(arr, n):\n",
    "    # Step 1: Calculate the expected sum of the first n natural numbers\n",
    "    expected_sum = n * (n + 1) // 2\n",
    "    \n",
    "    # Step 2: Calculate the actual sum of the numbers in the list\n",
    "    actual_sum = sum(arr)\n",
    "    \n",
    "    # Step 3: Find the missing number\n",
    "    missing_number = expected_sum - actual_sum\n",
    "    \n",
    "    return missing_number\n",
    "\n",
    "arr = [1, 2, 4, 6, 3, 7, 8]\n",
    "n = len(arr) + 1  # since one number is missing\n",
    "missing_number = find_missing_number(arr, n)\n",
    "print(f\"The missing number is: {missing_number}\")"
   ]
  },
  {
   "cell_type": "markdown",
   "id": "07e72232",
   "metadata": {},
   "source": [
    "3.Given an array of n positive numbers. All numbers occurs even number of times except 1 which\n",
    "occurs odd number of times. Find that number in O(n) time and O(1) space. Ex: [1,2,3,2,3,1,3]. 3 is repeats odd\n",
    "times."
   ]
  },
  {
   "cell_type": "code",
   "execution_count": 6,
   "id": "52557364",
   "metadata": {},
   "outputs": [
    {
     "name": "stdout",
     "output_type": "stream",
     "text": [
      "The number that appears an odd number of times is: 3\n"
     ]
    }
   ],
   "source": [
    "def find_odd_occurring_number(arr):\n",
    "    result = 0\n",
    "    for number in arr:\n",
    "        result ^= number\n",
    "    return result\n",
    "\n",
    "arr = [1, 2, 3, 2, 3, 1, 3]\n",
    "odd_occurring_number = find_odd_occurring_number(arr)\n",
    "print(f\"The number that appears an odd number of times is: {odd_occurring_number}\")"
   ]
  },
  {
   "cell_type": "markdown",
   "id": "cc0e4e2b",
   "metadata": {},
   "source": [
    "4.Given an array of n elements. Find two elements in the array such that their sum is equal to given\n",
    "element K."
   ]
  },
  {
   "cell_type": "code",
   "execution_count": 7,
   "id": "4c54c9ea",
   "metadata": {},
   "outputs": [
    {
     "name": "stdout",
     "output_type": "stream",
     "text": [
      "Pair with sum 9 is: (2, 7)\n"
     ]
    }
   ],
   "source": [
    "def find_pair_with_sum(arr, K):\n",
    "    seen = set()\n",
    "    for num in arr:\n",
    "        complement = K - num\n",
    "        if complement in seen:\n",
    "            return (complement, num)\n",
    "        seen.add(num)\n",
    "    return None\n",
    "    \n",
    "arr = [2, 7, 11, 15]\n",
    "K = 9\n",
    "pair = find_pair_with_sum(arr, K)\n",
    "if pair:\n",
    "    print(f\"Pair with sum {K} is: {pair}\")\n",
    "else:\n",
    "    print(f\"No pair with sum {K} found.\")"
   ]
  },
  {
   "cell_type": "markdown",
   "id": "a9d68451",
   "metadata": {},
   "source": [
    "5.Given an array of both positive and negative numbers, find two numbers such that their sum is\n",
    "closest to 0. Ex: [ 1 ,60 ,-10, 70, -80,85]. Ans : -80,85."
   ]
  },
  {
   "cell_type": "code",
   "execution_count": 9,
   "id": "2f435104",
   "metadata": {},
   "outputs": [
    {
     "name": "stdout",
     "output_type": "stream",
     "text": [
      "The pair with the sum closest to 0 is: (-80, 85)\n"
     ]
    }
   ],
   "source": [
    "def find_closest_pair(arr):\n",
    "    arr.sort()  # Step 1: Sort the array\n",
    "    left = 0\n",
    "    right = len(arr) - 1\n",
    "    closest_pair = (arr[left], arr[right])\n",
    "    min_diff = float('inf')\n",
    "    \n",
    "    # Step 2: Use two pointers to find the closest sum\n",
    "    while left < right:\n",
    "        current_sum = arr[left] + arr[right]\n",
    "        current_diff = abs(current_sum)\n",
    "        \n",
    "        # Update closest pair if a closer sum is found\n",
    "        if current_diff < min_diff:\n",
    "            min_diff = current_diff\n",
    "            closest_pair = (arr[left], arr[right])\n",
    "        \n",
    "        # Move pointers\n",
    "        if current_sum < 0:\n",
    "            left += 1\n",
    "        elif current_sum > 0:\n",
    "            right -= 1\n",
    "        else:\n",
    "            # Exact zero found, no need to continue\n",
    "            break\n",
    "    \n",
    "    return closest_pair\n",
    "\n",
    "arr = [1, 60, -10, 70, -80, 85]\n",
    "pair = find_closest_pair(arr)\n",
    "print(f\"The pair with the sum closest to 0 is: {pair}\")"
   ]
  },
  {
   "cell_type": "markdown",
   "id": "f03e2c79",
   "metadata": {},
   "source": [
    "6.Given an array of n elements . Find three elements such that their sum is equal to the given\n",
    "number."
   ]
  },
  {
   "cell_type": "code",
   "execution_count": 10,
   "id": "7e0e8b92",
   "metadata": {},
   "outputs": [
    {
     "name": "stdout",
     "output_type": "stream",
     "text": [
      "Triplets with sum 24 are: [(4, 6, 14), (4, 8, 12), (6, 8, 10)]\n"
     ]
    }
   ],
   "source": [
    "def find_triplet_with_sum(arr, K):\n",
    "    arr.sort()  # Step 1: Sort the array\n",
    "    n = len(arr)\n",
    "    triplets = []\n",
    "    \n",
    "    for i in range(n - 2):\n",
    "        left = i + 1\n",
    "        right = n - 1\n",
    "        \n",
    "        while left < right:\n",
    "            current_sum = arr[i] + arr[left] + arr[right]\n",
    "            \n",
    "            if current_sum == K:\n",
    "                triplets.append((arr[i], arr[left], arr[right]))\n",
    "                # Move both pointers to the next different element\n",
    "                while left < right and arr[left] == arr[left + 1]:\n",
    "                    left += 1\n",
    "                while left < right and arr[right] == arr[right - 1]:\n",
    "                    right -= 1\n",
    "                left += 1\n",
    "                right -= 1\n",
    "            elif current_sum < K:\n",
    "                left += 1\n",
    "            else:\n",
    "                right -= 1\n",
    "    \n",
    "    return triplets\n",
    "\n",
    "arr = [1, 4, 6, 8, 10, 12, 14]\n",
    "K = 24\n",
    "triplets = find_triplet_with_sum(arr, K)\n",
    "print(f\"Triplets with sum {K} are: {triplets}\")"
   ]
  },
  {
   "cell_type": "markdown",
   "id": "f2ff8089",
   "metadata": {},
   "source": [
    "7.Given an array of n elements . Find three elements i, j, k in the array such that\n",
    "i * i + j * j = k*k."
   ]
  },
  {
   "cell_type": "code",
   "execution_count": 11,
   "id": "2e1876d9",
   "metadata": {},
   "outputs": [
    {
     "name": "stdout",
     "output_type": "stream",
     "text": [
      "Triplet found: (3, 4, 5)\n"
     ]
    }
   ],
   "source": [
    "import math\n",
    "\n",
    "def find_triplet_with_sum_of_squares(arr):\n",
    "    squares_set = set(x * x for x in arr)  # Step 1: Store squares in a set\n",
    "    n = len(arr)\n",
    "    \n",
    "    for i in range(n):\n",
    "        for j in range(i + 1, n):\n",
    "            sum_of_squares = arr[i] * arr[i] + arr[j] * arr[j]\n",
    "            if sum_of_squares in squares_set:\n",
    "                k = int(math.sqrt(sum_of_squares))\n",
    "                if k in arr:\n",
    "                    return (arr[i], arr[j], k)\n",
    "    \n",
    "    return None\n",
    "\n",
    "arr = [3, 4, 5, 6, 8, 10]\n",
    "triplet = find_triplet_with_sum_of_squares(arr)\n",
    "if triplet:\n",
    "    print(f\"Triplet found: {triplet}\")\n",
    "else:\n",
    "    print(\"No triplet found.\")"
   ]
  },
  {
   "cell_type": "markdown",
   "id": "acb7c993",
   "metadata": {},
   "source": [
    "8.An element is a majority if it appears more than n/2 times. Give an algorithm takes an array of n\n",
    "element as argument and identifies a majority (if it exists)."
   ]
  },
  {
   "cell_type": "code",
   "execution_count": 15,
   "id": "c9d284b8",
   "metadata": {},
   "outputs": [
    {
     "name": "stdout",
     "output_type": "stream",
     "text": [
      "No majority element found.\n"
     ]
    }
   ],
   "source": [
    "def find_majority_element(arr):\n",
    "    n = len(arr)\n",
    "    \n",
    "    # Step 1: Find a candidate for majority element\n",
    "    candidate = None\n",
    "    count = 0\n",
    "    \n",
    "    for num in arr:\n",
    "        if count == 0:\n",
    "            candidate = num\n",
    "        count += (1 if num == candidate else -1)\n",
    "    \n",
    "    # Step 2: Verify the candidate\n",
    "    count = 0\n",
    "    for num in arr:\n",
    "        if num == candidate:\n",
    "            count += 1\n",
    "    \n",
    "    if count > n // 2:\n",
    "        return candidate\n",
    "    else:\n",
    "        return None\n",
    "    \n",
    "    arr = [3, 4, 4, 2, 2, 4, 4, 4, 4]\n",
    "majority_element = find_majority_element(arr)\n",
    "if majority_element is not None:\n",
    "    print(f\"The majority element is: {majority_element}\")\n",
    "else:\n",
    "    print(\"No majority element found.\")"
   ]
  },
  {
   "cell_type": "markdown",
   "id": "8c2be142",
   "metadata": {},
   "source": [
    "9.: Given n × n matrix, and in each row all 1’s are followed by 0’s. Find the row with the maximum\n",
    "number of 0’s."
   ]
  },
  {
   "cell_type": "code",
   "execution_count": 21,
   "id": "a035b4fd",
   "metadata": {},
   "outputs": [
    {
     "name": "stdout",
     "output_type": "stream",
     "text": [
      "The row with the maximum number of 0's is: 3\n"
     ]
    }
   ],
   "source": [
    "def row_with_max_zeros(matrix):\n",
    "    n = len(matrix)\n",
    "    max_zeros = -1\n",
    "    row_index = -1\n",
    "    col = n - 1  # Start from the top-right corner\n",
    "\n",
    "    for i in range(n):\n",
    "        # Move left while there are 0s\n",
    "        while col >= 0 and matrix[i][col] == 0:\n",
    "            col -= 1\n",
    "        # Count zeros in the current row\n",
    "        zeros_count = n - (col + 1)\n",
    "        # Update the maximum row if needed\n",
    "        if zeros_count > max_zeros:\n",
    "            max_zeros = zeros_count\n",
    "            row_index = i\n",
    "\n",
    "    return row_index\n",
    "\n",
    "matrix = [\n",
    "    [1, 1, 1, 0, 0],\n",
    "    [1, 1, 0, 0, 0],\n",
    "    [1, 0, 0, 0, 0],\n",
    "    [0, 0, 0, 0, 0]\n",
    "]\n",
    "\n",
    "row_index = row_with_max_zeros(matrix)\n",
    "print(f\"The row with the maximum number of 0's is: {row_index}\")"
   ]
  },
  {
   "cell_type": "markdown",
   "id": "60991197",
   "metadata": {},
   "source": [
    "10.10 : Sort an array of 0’s, 1’s and 2’s [or R’s, G’s and B’s]: Given an array A[] consisting of 0’s, 1’s and\n",
    "2’s, give an algorithm for sorting A[].The algorithm should put all 0’s first, then all 1’s and finally all 2’s at the\n",
    "end. Example Input = {0,1,1,0,1,2,1,2,0,0,0,1}, Output = {0,0,0,0,0,1,1,1,1,1,2,2}"
   ]
  },
  {
   "cell_type": "code",
   "execution_count": 22,
   "id": "c0a5d508",
   "metadata": {},
   "outputs": [
    {
     "name": "stdout",
     "output_type": "stream",
     "text": [
      "Sorted array: [0, 0, 0, 0, 0, 1, 1, 1, 1, 1, 2, 2]\n"
     ]
    }
   ],
   "source": [
    "def sort_012(arr):\n",
    "    low, mid, high = 0, 0, len(arr) - 1\n",
    "\n",
    "    while mid <= high:\n",
    "        if arr[mid] == 0:\n",
    "            arr[low], arr[mid] = arr[mid], arr[low]\n",
    "            low += 1\n",
    "            mid += 1\n",
    "        elif arr[mid] == 1:\n",
    "            mid += 1\n",
    "        else:\n",
    "            arr[high], arr[mid] = arr[mid], arr[high]\n",
    "            high -= 1\n",
    "\n",
    "    return arr\n",
    "\n",
    "arr = [0, 1, 1, 0, 1, 2, 1, 2, 0, 0, 0, 1]\n",
    "sorted_arr = sort_012(arr)\n",
    "print(f\"Sorted array: {sorted_arr}\")"
   ]
  },
  {
   "cell_type": "code",
   "execution_count": null,
   "id": "45325bc7",
   "metadata": {},
   "outputs": [],
   "source": []
  }
 ],
 "metadata": {
  "kernelspec": {
   "display_name": "Python 3 (ipykernel)",
   "language": "python",
   "name": "python3"
  },
  "language_info": {
   "codemirror_mode": {
    "name": "ipython",
    "version": 3
   },
   "file_extension": ".py",
   "mimetype": "text/x-python",
   "name": "python",
   "nbconvert_exporter": "python",
   "pygments_lexer": "ipython3",
   "version": "3.11.4"
  }
 },
 "nbformat": 4,
 "nbformat_minor": 5
}
