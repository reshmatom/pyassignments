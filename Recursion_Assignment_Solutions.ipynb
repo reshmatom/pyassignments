{
 "cells": [
  {
   "cell_type": "markdown",
   "id": "93a44158-1502-4e82-a539-df51b43c370d",
   "metadata": {},
   "source": [
    "1. Can you explain the logic and working of the Tower of Hanoi algorithm by writing a Java program?\r\n",
    "How does the recursion work, and how are the movements of disks between rods accomplished?"
   ]
  },
  {
   "cell_type": "code",
   "execution_count": null,
   "id": "4bca741e-0bc6-44bc-ad77-9ab7e818fffc",
   "metadata": {},
   "outputs": [],
   "source": [
    "The Tower of Hanoi is a classic problem that involves moving disks from one rod to another, following specific rules. The rules are:\n",
    "\n",
    "Only one disk can be moved at a time.\n",
    "A disk can only be placed on top of a larger disk.\n",
    "All disks start on one rod, and you need to move them to another rod using a third rod as an auxiliary.\n",
    "\n",
    "How Recursion Works in the Tower of Hanoi\n",
    "Recursion is a key aspect of the Tower of Hanoi algorithm. The idea is to break down the problem into smaller subproblems:\n",
    "\n",
    "Base Case: If there is only one disk, simply move it from the source rod to the target rod.\n",
    "Recursive Case: For n disks:\n",
    "First, move n-1 disks from the source rod to the auxiliary rod.\n",
    "Then, move the nth (largest) disk from the source rod to the target rod.\n",
    "Finally, move the n-1 disks from the auxiliary rod to the target rod.\n",
    "\n",
    "Java Program Implementation:\n",
    "Here’s how you can implement the Tower of Hanoi algorithm in Java:\n",
    "\n",
    "public class TowerOfHanoi {\n",
    "\n",
    "    // Recursive function to solve Tower of Hanoi puzzle\n",
    "    static void solveTowerOfHanoi(int n, char sourceRod, char targetRod, char auxiliaryRod) {\n",
    "        // Base case: If only one disk, move it from source to target rod\n",
    "        if (n == 1) {\n",
    "            System.out.println(\"Move disk 1 from rod \" + sourceRod + \" to rod \" + targetRod);\n",
    "            return;\n",
    "        }\n",
    "\n",
    "        // Step 1: Move n-1 disks from source to auxiliary rod\n",
    "        solveTowerOfHanoi(n - 1, sourceRod, auxiliaryRod, targetRod);\n",
    "\n",
    "        // Step 2: Move the nth disk from source to target rod\n",
    "        System.out.println(\"Move disk \" + n + \" from rod \" + sourceRod + \" to rod \" + targetRod);\n",
    "\n",
    "        // Step 3: Move n-1 disks from auxiliary rod to target rod\n",
    "        solveTowerOfHanoi(n - 1, auxiliaryRod, targetRod, sourceRod);\n",
    "    }\n",
    "\n",
    "    public static void main(String[] args) {\n",
    "        int numberOfDisks = 3; // You can change this number to any number of disks\n",
    "        solveTowerOfHanoi(numberOfDisks, 'A', 'C', 'B'); // A, B, and C are names of rods\n",
    "    }\n",
    "}\n",
    "\n",
    "Visualizing the Process\n",
    "If you start with 3 disks, the process would look like this:\n",
    "\n",
    "Move disk 1 from rod A to rod C.\n",
    "Move disk 2 from rod A to rod B.\n",
    "Move disk 1 from rod C to rod B.\n",
    "Move disk 3 from rod A to rod C.\n",
    "Move disk 1 from rod B to rod A.\n",
    "Move disk 2 from rod B to rod C.\n",
    "Move disk 1 from rod A to rod C.\n",
    "This sequence shows how the problem is broken down recursively, with smaller subproblems being solved first before tackling the larger problem."
   ]
  },
  {
   "cell_type": "markdown",
   "id": "e1043b9b-1fbd-446a-9ab5-852f251f8e5f",
   "metadata": {},
   "source": [
    "Q.2 Given two strings word1 and word2, return the minimum number of operations required to convert word1\n",
    "to word2.\n",
    "Example 1:\n",
    "Input: word1 = \"horse\", word2 = \"ros\"\n",
    "Output: 3\n",
    "Explanation:\n",
    "horse -> rorse (replace 'h' with 'r')\n",
    "rorse -> rose (remove 'r')\n",
    "rose -> ros (remove 'e')\n",
    "Example 2:\n",
    "Input: word1 = \"intention\", word2 = \"execution\"\n",
    "Output: 5\n",
    "Explanation:\n",
    "intention -> inention (remove 't')\n",
    "inention -> enention (replace 'i' with 'e')\n",
    "enention -> exention (replace 'n' with 'x')\n",
    "exention -> exection (replace 'n' with 'c')\n",
    "exection -> execution (insert 'u')"
   ]
  },
  {
   "cell_type": "code",
   "execution_count": 15,
   "id": "47b71c0f-944f-4389-9993-407013a737c3",
   "metadata": {},
   "outputs": [
    {
     "name": "stdout",
     "output_type": "stream",
     "text": [
      "3\n"
     ]
    }
   ],
   "source": [
    "def minDistance(word1, word2):\n",
    "    m, n = len(word1), len(word2)\n",
    "\n",
    "    # Create a 2D dp array with dimensions (m+1) x (n+1)\n",
    "    dp = [[0] * (n + 1) for _ in range(m + 1)]\n",
    "\n",
    "    # Initialize base cases\n",
    "    for i in range(m + 1):\n",
    "        dp[i][0] = i  # Deleting all characters from word1\n",
    "    for j in range(n + 1):\n",
    "        dp[0][j] = j  # Inserting all characters to match word2\n",
    "\n",
    "    # Fill the dp table\n",
    "    for i in range(1, m + 1):\n",
    "        for j in range(1, n + 1):\n",
    "            if word1[i - 1] == word2[j - 1]:\n",
    "                dp[i][j] = dp[i - 1][j - 1]  # No operation needed\n",
    "            else:\n",
    "                dp[i][j] = min(dp[i - 1][j],   # Deletion\n",
    "                               dp[i][j - 1],   # Insertion\n",
    "                               dp[i - 1][j - 1]) + 1  # Replacement\n",
    "\n",
    "    # The final answer is in dp[m][n]\n",
    "    return dp[m][n]\n",
    "\n",
    "# Example Usage\n",
    "word1 = \"horse\"\n",
    "word2 = \"ros\"\n",
    "print(minDistance(word1, word2))  \n"
   ]
  },
  {
   "cell_type": "code",
   "execution_count": 16,
   "id": "e7e1eccd-b72d-40ed-8897-7d85171442db",
   "metadata": {},
   "outputs": [
    {
     "name": "stdout",
     "output_type": "stream",
     "text": [
      "5\n"
     ]
    }
   ],
   "source": [
    "word1 = \"intention\"\n",
    "word2 = \"execution\"\n",
    "print(minDistance(word1, word2))  \n"
   ]
  },
  {
   "cell_type": "code",
   "execution_count": null,
   "id": "3e245042-a66a-4e63-a54d-74634d234eb2",
   "metadata": {},
   "outputs": [],
   "source": [
    "Q. 3 Print the max value of the array [ 13, 1, -3, 22, 5]."
   ]
  },
  {
   "cell_type": "code",
   "execution_count": 13,
   "id": "9ab37017-30c9-4a77-8ac4-c18055668af7",
   "metadata": {},
   "outputs": [
    {
     "name": "stdout",
     "output_type": "stream",
     "text": [
      "The maximum value in the array is: 22\n"
     ]
    }
   ],
   "source": [
    "# Define the array\n",
    "arr = [13, 1, -3, 22, 5]\n",
    "\n",
    "# Find the maximum value in the array\n",
    "max_value = max(arr)\n",
    "\n",
    "# Print the maximum value\n",
    "print(\"The maximum value in the array is:\", max_value)\n"
   ]
  },
  {
   "cell_type": "code",
   "execution_count": null,
   "id": "3bb12893-d463-453b-8368-fcf35eff3c7b",
   "metadata": {},
   "outputs": [],
   "source": [
    "Q.4 Find the sum of the values of the array [92, 23, 15, -20, 10]."
   ]
  },
  {
   "cell_type": "code",
   "execution_count": 17,
   "id": "07301dd3-2bc5-421e-9061-a29cabfb28bc",
   "metadata": {},
   "outputs": [
    {
     "name": "stdout",
     "output_type": "stream",
     "text": [
      "120\n"
     ]
    }
   ],
   "source": [
    "arr = [92, 23, 15, -20, 10]\n",
    "array_sum = sum(arr)\n",
    "print(array_sum)\n"
   ]
  },
  {
   "cell_type": "code",
   "execution_count": null,
   "id": "cafcfc6c-b41f-4df5-9798-cfe134c69638",
   "metadata": {},
   "outputs": [],
   "source": [
    "Q.5 Given a number n. Print if it is an armstrong number or not.An armstrong number is a number if the sum\n",
    "of every digit in that number raised to the power of total digits in that number is equal to the number.\n",
    "Example : 153 = 1^3 + 5^3 + 3^3 = 1 + 125 + 27 = 153 hence 153 is an armstrong number. (Easy)\n",
    "Input1 : 153\n",
    "Output1 : Yes\n",
    "Input 2 : 134\n",
    "Output2 : No"
   ]
  },
  {
   "cell_type": "code",
   "execution_count": 18,
   "id": "c893a3a0-a97d-495b-b7b3-b27cad586410",
   "metadata": {},
   "outputs": [
    {
     "name": "stdout",
     "output_type": "stream",
     "text": [
      "Input: 153 -> Output: Yes\n",
      "Input: 134 -> Output: No\n"
     ]
    }
   ],
   "source": [
    "def is_armstrong_number(num):\n",
    "    # Convert the number to a string to easily iterate over its digits\n",
    "    num_str = str(num)\n",
    "    num_digits = len(num_str)  # Number of digits in the number\n",
    "    sum_of_powers = sum(int(digit) ** num_digits for digit in num_str)\n",
    "    \n",
    "    # Check if the sum of powers is equal to the original number\n",
    "    if sum_of_powers == num:\n",
    "        return \"Yes\"\n",
    "    else:\n",
    "        return \"No\"\n",
    "\n",
    "# Example Usage\n",
    "input1 = 153\n",
    "output1 = is_armstrong_number(input1)\n",
    "print(f\"Input: {input1} -> Output: {output1}\") \n",
    "\n",
    "input2 = 134\n",
    "output2 = is_armstrong_number(input2)\n",
    "print(f\"Input: {input2} -> Output: {output2}\")  "
   ]
  }
 ],
 "metadata": {
  "kernelspec": {
   "display_name": "Python 3 (ipykernel)",
   "language": "python",
   "name": "python3"
  },
  "language_info": {
   "codemirror_mode": {
    "name": "ipython",
    "version": 3
   },
   "file_extension": ".py",
   "mimetype": "text/x-python",
   "name": "python",
   "nbconvert_exporter": "python",
   "pygments_lexer": "ipython3",
   "version": "3.11.5"
  }
 },
 "nbformat": 4,
 "nbformat_minor": 5
}
